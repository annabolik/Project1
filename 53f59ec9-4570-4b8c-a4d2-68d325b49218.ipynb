{
 "cells": [
  {
   "cell_type": "markdown",
   "metadata": {},
   "source": [
    "<font color='DarkBlue' size=+2><b>Комментарий ревьюера</b></font><br>\n",
    "<font color='DarkBlue'>Привет, Анна! <br>Меня зовут Олег Мазуренко, и я буду проверять этот проект. Спасибо за проделанную работу! <br>Ко мне можно обращаться на «ты». Как мне обращаться, напиши.</font><br>\n",
    "<font color='DarkBlue'>Я буду использовать различные цвета, чтобы было удобнее воспринимать мои комментарии:</font><br>\n",
    "<font color='DarkBlue'>Синий текст &mdash; просто текст комментария.</font><br>\n",
    "<font color='DarkGreen'>👌 Зеленый текст &mdash; все отлично.</font><br>\n",
    "<font color='DarkMagenta'>👉 Фиолетовый текст &mdash; сделано все правильно, однако есть рекомендации, на что стоит обратить внимание. Реализованные рекомендации позволят нам наработать опыт решения задачи разными способами.</font><br>\n",
    "<font color='Red'>🛠 Красный текст &mdash; есть недочеты, они иногда бывают. </font><br><font color='DarkBlue'>Любая ошибка это возможность посмотреть на задачу с другой стороны и освоить новые знания, по этому не надо расстриваться, если они есть. Красные недочеты в заключительном комментарии обязательны для исправления, даже если они в тексте проекта окрашены в фиолетовый цвет. Мне очень не нравится использовать красный маркер, но увы в итоговые комментарий я вынужден вынести все возникшие недочеты.</font><br>\n",
    "<font color='DarkBlue'>Пожалуйста, не удаляй мои комментарии в случае возврата работы, так будет проще разобраться, какие были недочеты и сразу увидеть исправленное. <br>\n",
    "Ответы на мои комментарии лучше тоже помечать. \n",
    "Например: </font><font color='Blue'><b>Комментарий студента</b></font><br>\n",
    "<font color='DarkBlue'><b>Давай смотреть, что у нас получилось!</b></font>"
   ]
  },
  {
   "cell_type": "markdown",
   "metadata": {
    "id": "E0vqbgi9ay0H"
   },
   "source": [
    "# Яндекс.Музыка"
   ]
  },
  {
   "cell_type": "markdown",
   "metadata": {
    "id": "VUC88oWjTJw2"
   },
   "source": [
    "Сравнение Москвы и Петербурга окружено мифами. Например:\n",
    " * Москва — мегаполис, подчинённый жёсткому ритму рабочей недели;\n",
    " * Петербург — культурная столица, со своими вкусами.\n",
    "\n",
    "На данных Яндекс.Музыки вы сравните поведение пользователей двух столиц.\n",
    "\n",
    "**Цель исследования** — проверьте три гипотезы:\n",
    "1. Активность пользователей зависит от дня недели. Причём в Москве и Петербурге это проявляется по-разному.\n",
    "2. В понедельник утром в Москве преобладают одни жанры, а в Петербурге — другие. Так же и вечером пятницы преобладают разные жанры — в зависимости от города. \n",
    "3. Москва и Петербург предпочитают разные жанры музыки. В Москве чаще слушают поп-музыку, в Петербурге — русский рэп.\n",
    "\n",
    "**Ход исследования**\n",
    "\n",
    "Данные о поведении пользователей вы получите из файла `yandex_music_project.csv`. О качестве данных ничего не известно. Поэтому перед проверкой гипотез понадобится обзор данных. \n",
    "\n",
    "Вы проверите данные на ошибки и оцените их влияние на исследование. Затем, на этапе предобработки вы поищете возможность исправить самые критичные ошибки данных.\n",
    " \n",
    "Таким образом, исследование пройдёт в три этапа:\n",
    " 1. Обзор данных.\n",
    " 2. Предобработка данных.\n",
    " 3. Проверка гипотез.\n",
    "\n"
   ]
  },
  {
   "cell_type": "markdown",
   "metadata": {},
   "source": [
    "<font color='DarkBlue'><b>Комментарий ревьюера</b></font><br>\n",
    "<font color='DarkGreen'>👌 Хочу обратить внимание на начало оформления проекта. Здесь мы выкладываем краткую анотацию самого проекта с целями и планом исследования. В данном проекте это сделала команда Практикума, но в следующих это надо будет делать самому.</font>"
   ]
  },
  {
   "cell_type": "markdown",
   "metadata": {
    "id": "Ml1hmfXC_Zcs"
   },
   "source": [
    "## Обзор данных\n",
    "\n",
    "Составьте первое представление о данных Яндекс.Музыки.\n",
    "\n",
    "\n"
   ]
  },
  {
   "cell_type": "markdown",
   "metadata": {
    "id": "57eAOGIz_Zcs"
   },
   "source": [
    "Основной инструмент аналитика — `pandas`. Импортируйте эту библиотеку."
   ]
  },
  {
   "cell_type": "code",
   "execution_count": 1,
   "metadata": {
    "id": "AXN7PHPN_Zcs"
   },
   "outputs": [],
   "source": [
    "import pandas as pd"
   ]
  },
  {
   "cell_type": "markdown",
   "metadata": {},
   "source": [
    "<font color='DarkBlue'><b>Комментарий ревьюера</b></font><br>\n",
    "<font color='DarkGreen'>👌 Очень хорошо, что мы используем сокращение pd при импорте библиотеки Pandas, это общепринятое сокращение для удобной дальнейшей работы.</font>"
   ]
  },
  {
   "cell_type": "markdown",
   "metadata": {
    "id": "SG23P8tt_Zcs"
   },
   "source": [
    "Прочитайте файл `yandex_music_project.csv` из папки `/datasets` и сохраните его в переменной `df`:"
   ]
  },
  {
   "cell_type": "code",
   "execution_count": 2,
   "metadata": {
    "id": "fFVu7vqh_Zct"
   },
   "outputs": [],
   "source": [
    "df = pd.read_csv('/datasets/yandex_music_project.csv')"
   ]
  },
  {
   "cell_type": "markdown",
   "metadata": {},
   "source": [
    "<font color='DarkBlue'><b>Комментарий ревьюера</b></font><br>\n",
    "<font color='DarkGreen'>👌 Указан правильный путь к файлу: слэш в начале пути очень важен, так как указывает, что нужно искать файл в корневой папке. 👍</font>"
   ]
  },
  {
   "cell_type": "markdown",
   "metadata": {
    "id": "rDoOMd3uTqnZ"
   },
   "source": [
    "Выведите на экран первые десять строк таблицы:"
   ]
  },
  {
   "cell_type": "code",
   "execution_count": 3,
   "metadata": {
    "id": "oWTVX3gW_Zct"
   },
   "outputs": [
    {
     "data": {
      "text/html": [
       "<div>\n",
       "<style scoped>\n",
       "    .dataframe tbody tr th:only-of-type {\n",
       "        vertical-align: middle;\n",
       "    }\n",
       "\n",
       "    .dataframe tbody tr th {\n",
       "        vertical-align: top;\n",
       "    }\n",
       "\n",
       "    .dataframe thead th {\n",
       "        text-align: right;\n",
       "    }\n",
       "</style>\n",
       "<table border=\"1\" class=\"dataframe\">\n",
       "  <thead>\n",
       "    <tr style=\"text-align: right;\">\n",
       "      <th></th>\n",
       "      <th>userID</th>\n",
       "      <th>Track</th>\n",
       "      <th>artist</th>\n",
       "      <th>genre</th>\n",
       "      <th>City</th>\n",
       "      <th>time</th>\n",
       "      <th>Day</th>\n",
       "    </tr>\n",
       "  </thead>\n",
       "  <tbody>\n",
       "    <tr>\n",
       "      <th>0</th>\n",
       "      <td>FFB692EC</td>\n",
       "      <td>Kamigata To Boots</td>\n",
       "      <td>The Mass Missile</td>\n",
       "      <td>rock</td>\n",
       "      <td>Saint-Petersburg</td>\n",
       "      <td>20:28:33</td>\n",
       "      <td>Wednesday</td>\n",
       "    </tr>\n",
       "    <tr>\n",
       "      <th>1</th>\n",
       "      <td>55204538</td>\n",
       "      <td>Delayed Because of Accident</td>\n",
       "      <td>Andreas Rönnberg</td>\n",
       "      <td>rock</td>\n",
       "      <td>Moscow</td>\n",
       "      <td>14:07:09</td>\n",
       "      <td>Friday</td>\n",
       "    </tr>\n",
       "    <tr>\n",
       "      <th>2</th>\n",
       "      <td>20EC38</td>\n",
       "      <td>Funiculì funiculà</td>\n",
       "      <td>Mario Lanza</td>\n",
       "      <td>pop</td>\n",
       "      <td>Saint-Petersburg</td>\n",
       "      <td>20:58:07</td>\n",
       "      <td>Wednesday</td>\n",
       "    </tr>\n",
       "    <tr>\n",
       "      <th>3</th>\n",
       "      <td>A3DD03C9</td>\n",
       "      <td>Dragons in the Sunset</td>\n",
       "      <td>Fire + Ice</td>\n",
       "      <td>folk</td>\n",
       "      <td>Saint-Petersburg</td>\n",
       "      <td>08:37:09</td>\n",
       "      <td>Monday</td>\n",
       "    </tr>\n",
       "    <tr>\n",
       "      <th>4</th>\n",
       "      <td>E2DC1FAE</td>\n",
       "      <td>Soul People</td>\n",
       "      <td>Space Echo</td>\n",
       "      <td>dance</td>\n",
       "      <td>Moscow</td>\n",
       "      <td>08:34:34</td>\n",
       "      <td>Monday</td>\n",
       "    </tr>\n",
       "    <tr>\n",
       "      <th>5</th>\n",
       "      <td>842029A1</td>\n",
       "      <td>Преданная</td>\n",
       "      <td>IMPERVTOR</td>\n",
       "      <td>rusrap</td>\n",
       "      <td>Saint-Petersburg</td>\n",
       "      <td>13:09:41</td>\n",
       "      <td>Friday</td>\n",
       "    </tr>\n",
       "    <tr>\n",
       "      <th>6</th>\n",
       "      <td>4CB90AA5</td>\n",
       "      <td>True</td>\n",
       "      <td>Roman Messer</td>\n",
       "      <td>dance</td>\n",
       "      <td>Moscow</td>\n",
       "      <td>13:00:07</td>\n",
       "      <td>Wednesday</td>\n",
       "    </tr>\n",
       "    <tr>\n",
       "      <th>7</th>\n",
       "      <td>F03E1C1F</td>\n",
       "      <td>Feeling This Way</td>\n",
       "      <td>Polina Griffith</td>\n",
       "      <td>dance</td>\n",
       "      <td>Moscow</td>\n",
       "      <td>20:47:49</td>\n",
       "      <td>Wednesday</td>\n",
       "    </tr>\n",
       "    <tr>\n",
       "      <th>8</th>\n",
       "      <td>8FA1D3BE</td>\n",
       "      <td>И вновь продолжается бой</td>\n",
       "      <td>NaN</td>\n",
       "      <td>ruspop</td>\n",
       "      <td>Moscow</td>\n",
       "      <td>09:17:40</td>\n",
       "      <td>Friday</td>\n",
       "    </tr>\n",
       "    <tr>\n",
       "      <th>9</th>\n",
       "      <td>E772D5C0</td>\n",
       "      <td>Pessimist</td>\n",
       "      <td>NaN</td>\n",
       "      <td>dance</td>\n",
       "      <td>Saint-Petersburg</td>\n",
       "      <td>21:20:49</td>\n",
       "      <td>Wednesday</td>\n",
       "    </tr>\n",
       "  </tbody>\n",
       "</table>\n",
       "</div>"
      ],
      "text/plain": [
       "     userID                        Track            artist   genre  \\\n",
       "0  FFB692EC            Kamigata To Boots  The Mass Missile    rock   \n",
       "1  55204538  Delayed Because of Accident  Andreas Rönnberg    rock   \n",
       "2    20EC38            Funiculì funiculà       Mario Lanza     pop   \n",
       "3  A3DD03C9        Dragons in the Sunset        Fire + Ice    folk   \n",
       "4  E2DC1FAE                  Soul People        Space Echo   dance   \n",
       "5  842029A1                    Преданная         IMPERVTOR  rusrap   \n",
       "6  4CB90AA5                         True      Roman Messer   dance   \n",
       "7  F03E1C1F             Feeling This Way   Polina Griffith   dance   \n",
       "8  8FA1D3BE     И вновь продолжается бой               NaN  ruspop   \n",
       "9  E772D5C0                    Pessimist               NaN   dance   \n",
       "\n",
       "             City        time        Day  \n",
       "0  Saint-Petersburg  20:28:33  Wednesday  \n",
       "1            Moscow  14:07:09     Friday  \n",
       "2  Saint-Petersburg  20:58:07  Wednesday  \n",
       "3  Saint-Petersburg  08:37:09     Monday  \n",
       "4            Moscow  08:34:34     Monday  \n",
       "5  Saint-Petersburg  13:09:41     Friday  \n",
       "6            Moscow  13:00:07  Wednesday  \n",
       "7            Moscow  20:47:49  Wednesday  \n",
       "8            Moscow  09:17:40     Friday  \n",
       "9  Saint-Petersburg  21:20:49  Wednesday  "
      ]
     },
     "execution_count": 3,
     "metadata": {},
     "output_type": "execute_result"
    }
   ],
   "source": [
    "df.head(10)"
   ]
  },
  {
   "cell_type": "markdown",
   "metadata": {},
   "source": [
    "<font color='DarkBlue'><b>Комментарий ревьюера</b></font><br>\n",
    "<font color='DarkGreen'>👌 Все правильно, есть еще метод tail(), который выводит последние n строк.</font>"
   ]
  },
  {
   "cell_type": "code",
   "execution_count": 4,
   "metadata": {},
   "outputs": [
    {
     "data": {
      "text/html": [
       "<div>\n",
       "<style scoped>\n",
       "    .dataframe tbody tr th:only-of-type {\n",
       "        vertical-align: middle;\n",
       "    }\n",
       "\n",
       "    .dataframe tbody tr th {\n",
       "        vertical-align: top;\n",
       "    }\n",
       "\n",
       "    .dataframe thead th {\n",
       "        text-align: right;\n",
       "    }\n",
       "</style>\n",
       "<table border=\"1\" class=\"dataframe\">\n",
       "  <thead>\n",
       "    <tr style=\"text-align: right;\">\n",
       "      <th></th>\n",
       "      <th>userID</th>\n",
       "      <th>Track</th>\n",
       "      <th>artist</th>\n",
       "      <th>genre</th>\n",
       "      <th>City</th>\n",
       "      <th>time</th>\n",
       "      <th>Day</th>\n",
       "    </tr>\n",
       "  </thead>\n",
       "  <tbody>\n",
       "    <tr>\n",
       "      <th>65074</th>\n",
       "      <td>729CBB09</td>\n",
       "      <td>My Name</td>\n",
       "      <td>McLean</td>\n",
       "      <td>rnb</td>\n",
       "      <td>Moscow</td>\n",
       "      <td>13:32:28</td>\n",
       "      <td>Wednesday</td>\n",
       "    </tr>\n",
       "    <tr>\n",
       "      <th>65075</th>\n",
       "      <td>D08D4A55</td>\n",
       "      <td>Maybe One Day (feat. Black Spade)</td>\n",
       "      <td>Blu &amp; Exile</td>\n",
       "      <td>hip</td>\n",
       "      <td>Saint-Petersburg</td>\n",
       "      <td>10:00:00</td>\n",
       "      <td>Monday</td>\n",
       "    </tr>\n",
       "    <tr>\n",
       "      <th>65076</th>\n",
       "      <td>C5E3A0D5</td>\n",
       "      <td>Jalopiina</td>\n",
       "      <td>NaN</td>\n",
       "      <td>industrial</td>\n",
       "      <td>Moscow</td>\n",
       "      <td>20:09:26</td>\n",
       "      <td>Friday</td>\n",
       "    </tr>\n",
       "    <tr>\n",
       "      <th>65077</th>\n",
       "      <td>321D0506</td>\n",
       "      <td>Freight Train</td>\n",
       "      <td>Chas McDevitt</td>\n",
       "      <td>rock</td>\n",
       "      <td>Moscow</td>\n",
       "      <td>21:43:59</td>\n",
       "      <td>Friday</td>\n",
       "    </tr>\n",
       "    <tr>\n",
       "      <th>65078</th>\n",
       "      <td>3A64EF84</td>\n",
       "      <td>Tell Me Sweet Little Lies</td>\n",
       "      <td>Monica Lopez</td>\n",
       "      <td>country</td>\n",
       "      <td>Moscow</td>\n",
       "      <td>21:59:46</td>\n",
       "      <td>Friday</td>\n",
       "    </tr>\n",
       "  </tbody>\n",
       "</table>\n",
       "</div>"
      ],
      "text/plain": [
       "         userID                              Track         artist       genre  \\\n",
       "65074  729CBB09                            My Name         McLean         rnb   \n",
       "65075  D08D4A55  Maybe One Day (feat. Black Spade)    Blu & Exile         hip   \n",
       "65076  C5E3A0D5                          Jalopiina            NaN  industrial   \n",
       "65077  321D0506                      Freight Train  Chas McDevitt        rock   \n",
       "65078  3A64EF84          Tell Me Sweet Little Lies   Monica Lopez     country   \n",
       "\n",
       "                 City        time        Day  \n",
       "65074            Moscow  13:32:28  Wednesday  \n",
       "65075  Saint-Petersburg  10:00:00     Monday  \n",
       "65076            Moscow  20:09:26     Friday  \n",
       "65077            Moscow  21:43:59     Friday  \n",
       "65078            Moscow  21:59:46     Friday  "
      ]
     },
     "execution_count": 4,
     "metadata": {},
     "output_type": "execute_result"
    }
   ],
   "source": [
    "# Комментарий ревьюера\n",
    "df.tail(5)"
   ]
  },
  {
   "cell_type": "markdown",
   "metadata": {
    "id": "EO73Kwic_Zct"
   },
   "source": [
    "Одной командой получить общую информацию о таблице:"
   ]
  },
  {
   "cell_type": "code",
   "execution_count": 5,
   "metadata": {
    "id": "DSf2kIb-_Zct"
   },
   "outputs": [
    {
     "name": "stdout",
     "output_type": "stream",
     "text": [
      "<class 'pandas.core.frame.DataFrame'>\n",
      "RangeIndex: 65079 entries, 0 to 65078\n",
      "Data columns (total 7 columns):\n",
      " #   Column    Non-Null Count  Dtype \n",
      "---  ------    --------------  ----- \n",
      " 0     userID  65079 non-null  object\n",
      " 1   Track     63848 non-null  object\n",
      " 2   artist    57876 non-null  object\n",
      " 3   genre     63881 non-null  object\n",
      " 4     City    65079 non-null  object\n",
      " 5   time      65079 non-null  object\n",
      " 6   Day       65079 non-null  object\n",
      "dtypes: object(7)\n",
      "memory usage: 3.5+ MB\n"
     ]
    }
   ],
   "source": [
    "df.info()"
   ]
  },
  {
   "cell_type": "markdown",
   "metadata": {},
   "source": [
    "<font color='DarkBlue'><b>Комментарий ревьюера</b></font><br>\n",
    "<font color='DarkGreen'>👌 Отличный выбор, метод info действительно показывает много информации о датафрейме.</font>"
   ]
  },
  {
   "cell_type": "markdown",
   "metadata": {
    "id": "TaQ2Iwbr_Zct"
   },
   "source": [
    "Итак, в таблице семь столбцов. Тип данных во всех столбцах — `object`.\n",
    "\n",
    "Согласно документации к данным:\n",
    "* `userID` — идентификатор пользователя;\n",
    "* `Track` — название трека;  \n",
    "* `artist` — имя исполнителя;\n",
    "* `genre` — название жанра;\n",
    "* `City` — город пользователя;\n",
    "* `time` — время начала прослушивания;\n",
    "* `Day` — день недели.\n",
    "\n",
    "В названиях колонок видны три нарушения стиля:\n",
    "1. Строчные буквы сочетаются с прописными.\n",
    "2. Встречаются пробелы.\n",
    "3. userID - можно написать змеиным стилем и еще парочку тоже дополнить\n",
    "\n",
    "\n",
    "\n",
    "Количество значений в столбцах различается. Значит, в данных есть пропущенные значения.\n"
   ]
  },
  {
   "cell_type": "markdown",
   "metadata": {
    "id": "MCB6-dXG_Zct"
   },
   "source": [
    "**Выводы**\n",
    "\n",
    "В каждой строке таблицы — данные о прослушанном треке. Часть колонок описывает саму композицию: название, исполнителя и жанр. Остальные данные рассказывают о пользователе: из какого он города, когда он слушал музыку. \n",
    "\n",
    "Предварительно можно утверждать, что, данных достаточно для проверки гипотез. Но встречаются пропуски в данных, а в названиях колонок — расхождения с хорошим стилем.\n",
    "\n",
    "Чтобы двигаться дальше, нужно устранить проблемы в данных."
   ]
  },
  {
   "cell_type": "markdown",
   "metadata": {},
   "source": [
    "<font color='DarkBlue'><b>Комментарий ревьюера</b></font><br>\n",
    "<font color='DarkGreen'>👌 Очень правильно после промежуточного анализа данных делать краткие выводы и планировать дальнейшую обработку проблем. Хорошо, что найдено третье нарушение. </font><br>"
   ]
  },
  {
   "cell_type": "markdown",
   "metadata": {
    "id": "SjYF6Ub9_Zct"
   },
   "source": [
    "## Предобработка данных\n",
    "Исправьте стиль в заголовках столбцов, исключите пропуски. Затем проверьте данные на дубликаты."
   ]
  },
  {
   "cell_type": "markdown",
   "metadata": {
    "id": "dIaKXr29_Zct"
   },
   "source": [
    "### Стиль заголовков\n",
    "Выведите на экран названия столбцов:"
   ]
  },
  {
   "cell_type": "code",
   "execution_count": 6,
   "metadata": {
    "id": "oKOTdF_Q_Zct"
   },
   "outputs": [
    {
     "data": {
      "text/plain": [
       "Index(['  userID', 'Track', 'artist', 'genre', '  City  ', 'time', 'Day'], dtype='object')"
      ]
     },
     "execution_count": 6,
     "metadata": {},
     "output_type": "execute_result"
    }
   ],
   "source": [
    "df.columns"
   ]
  },
  {
   "cell_type": "markdown",
   "metadata": {},
   "source": [
    "<font color='DarkBlue'><b>Комментарий ревьюера</b></font><br>\n",
    "<font color='DarkGreen'>👌 Отлично, мы видим полностью названия колонок, включая лишние пробелы.</font><br>\n",
    "<font color='DarkMagenta'>👉 Если имя таблицы или переменной находится в последней строке, исполняемой ячейки, то не нужна функция print() (и display() тоже). Если мы выводим таблицу в середине ячейки (например, в теле цикла или функции), то используем display().   Рекомендация данная в тренажере относится к учебной платформе, в которой есть определенные ограничения, а тут эти функции в последней строке ячейки не нужны.</font>"
   ]
  },
  {
   "cell_type": "markdown",
   "metadata": {},
   "source": [
    "<font color='DarkBlue'><b>Комментарий ревьюера 2</b></font><br>\n",
    "<font color='DarkMagenta'>👉 А почему не убрали display(), забыли?</font>"
   ]
  },
  {
   "cell_type": "markdown",
   "metadata": {},
   "source": [
    "<font color='DarkBlue'><b>Комментарий ревьюера 3</b></font><br>\n",
    "<font color='DarkGreen'>👌 Вспомнили. 👍</font>"
   ]
  },
  {
   "cell_type": "markdown",
   "metadata": {
    "id": "FPZA3ki8xe7T"
   },
   "source": []
  },
  {
   "cell_type": "markdown",
   "metadata": {
    "id": "zj5534cv_Zct"
   },
   "source": [
    "Приведите названия в соответствие с хорошим стилем:\n",
    "* несколько слов в названии запишите в «змеином_регистре»,\n",
    "* все символы сделайте строчными,\n",
    "* устраните пробелы.\n",
    "\n",
    "Для этого переименуйте колонки так:\n",
    "* `'  userID'` → `'user_id'`;\n",
    "* `'Track'` → `'track'`;\n",
    "* `'  City  '` → `'city'`;\n",
    "* `'Day'` → `'day'`."
   ]
  },
  {
   "cell_type": "code",
   "execution_count": 7,
   "metadata": {
    "id": "ISlFqs5y_Zct"
   },
   "outputs": [],
   "source": [
    "df.rename(columns={'  userID':'user_id', 'Track':'track', '  City  ':'city', 'Day':'day'}, inplace = True)\n"
   ]
  },
  {
   "cell_type": "markdown",
   "metadata": {},
   "source": [
    "<font color='DarkBlue'><b>Комментарий ревьюера</b></font><br>\n",
    "<font color='Red'>🛠 Нам удалось переименовать столбцы, хотя и не оптимальным методом. Для этих целей лучше подойдет метод rename(): он принимает словарь со старыми и новыми названиями столбцов. Это позволяет при необходимости переименовать только часть столбцов или передать их в произвольном порядке.</font>"
   ]
  },
  {
   "cell_type": "markdown",
   "metadata": {},
   "source": [
    "<font color='DarkBlue'><b>Комментарий ревьюера 2</b></font><br>\n",
    "<font color='DarkGreen'>👌 Молодец, правильное решение. 👍</font>"
   ]
  },
  {
   "cell_type": "markdown",
   "metadata": {
    "id": "1dqbh00J_Zct"
   },
   "source": [
    "Проверьте результат. Для этого ещё раз выведите на экран названия столбцов:"
   ]
  },
  {
   "cell_type": "code",
   "execution_count": 8,
   "metadata": {
    "id": "d4NOAmTW_Zct"
   },
   "outputs": [
    {
     "data": {
      "text/plain": [
       "['user_id', 'track', 'artist', 'genre', 'city', 'time', 'day']"
      ]
     },
     "execution_count": 8,
     "metadata": {},
     "output_type": "execute_result"
    }
   ],
   "source": [
    "list(df)"
   ]
  },
  {
   "cell_type": "markdown",
   "metadata": {
    "id": "5ISfbcfY_Zct"
   },
   "source": [
    "### Пропуски значений\n",
    "Сначала посчитайте, сколько в таблице пропущенных значений. Для этого достаточно двух методов `pandas`:"
   ]
  },
  {
   "cell_type": "code",
   "execution_count": 9,
   "metadata": {
    "id": "RskX29qr_Zct"
   },
   "outputs": [
    {
     "data": {
      "text/plain": [
       "user_id       0\n",
       "track      1231\n",
       "artist     7203\n",
       "genre      1198\n",
       "city          0\n",
       "time          0\n",
       "day           0\n",
       "dtype: int64"
      ]
     },
     "execution_count": 9,
     "metadata": {},
     "output_type": "execute_result"
    }
   ],
   "source": [
    "df.isna().sum()"
   ]
  },
  {
   "cell_type": "markdown",
   "metadata": {},
   "source": [
    "<font color='DarkBlue'><b>Комментарий ревьюера</b></font><br>\n",
    "<font color='DarkGreen'>👌 Все верно. Выбран метод isna() для нахождения пропущенных значений, это отлично! На самом деле, isnull() и isna() делают одно и то же, но использование isna() предпочтительнее.</font>"
   ]
  },
  {
   "cell_type": "markdown",
   "metadata": {
    "id": "qubhgnlO_Zct"
   },
   "source": [
    "Не все пропущенные значения влияют на исследование. Так в `track` и `artist` пропуски не важны для вашей работы. Достаточно заменить их явными обозначениями.\n",
    "\n",
    "Но пропуски в `genre` могут помешать сравнению музыкальных вкусов в Москве и Санкт-Петербурге. На практике было бы правильно установить причину пропусков и восстановить данные. Такой возможности нет в учебном проекте. Придётся:\n",
    "* заполнить и эти пропуски явными обозначениями,\n",
    "* оценить, насколько они повредят расчётам. "
   ]
  },
  {
   "cell_type": "markdown",
   "metadata": {
    "id": "fSv2laPA_Zct"
   },
   "source": [
    "Замените пропущенные значения в столбцах `track`, `artist` и `genre` на строку `'unknown'`. Для этого создайте список `columns_to_replace`, переберите его элементы циклом `for` и для каждого столбца выполните замену пропущенных значений:"
   ]
  },
  {
   "cell_type": "code",
   "execution_count": 10,
   "metadata": {
    "id": "KplB5qWs_Zct"
   },
   "outputs": [],
   "source": [
    "columns_to_replace = ['track', 'artist', 'genre']\n",
    "for column in columns_to_replace:\n",
    "    df[column] = df[column].fillna('unknown')# <заменяю пропущенные значения в столбцах>"
   ]
  },
  {
   "cell_type": "markdown",
   "metadata": {},
   "source": [
    "<font color='DarkBlue'><b>Комментарий ревьюера</b></font><br>\n",
    "<font color='DarkGreen'>👌 Хорошо. Список columns_to_replace сформирован верно, цикл отработал без ошибок. </font>"
   ]
  },
  {
   "cell_type": "markdown",
   "metadata": {
    "id": "Ilsm-MZo_Zct"
   },
   "source": [
    "Убедитесь, что в таблице не осталось пропусков. Для этого ещё раз посчитайте пропущенные значения."
   ]
  },
  {
   "cell_type": "code",
   "execution_count": 11,
   "metadata": {
    "id": "Tq4nYRX4_Zct"
   },
   "outputs": [
    {
     "data": {
      "text/plain": [
       "user_id    0\n",
       "track      0\n",
       "artist     0\n",
       "genre      0\n",
       "city       0\n",
       "time       0\n",
       "day        0\n",
       "dtype: int64"
      ]
     },
     "execution_count": 11,
     "metadata": {},
     "output_type": "execute_result"
    }
   ],
   "source": [
    "df.isna().sum()"
   ]
  },
  {
   "cell_type": "markdown",
   "metadata": {},
   "source": [
    "<font color='DarkBlue'><b>Комментарий ревьюера</b></font><br>\n",
    "<font color='DarkGreen'>👌 Замечательно, сделано все правильно.</font>"
   ]
  },
  {
   "cell_type": "markdown",
   "metadata": {
    "id": "BWKRtBJ3_Zct"
   },
   "source": [
    "### Дубликаты\n",
    "Посчитайте явные дубликаты в таблице одной командой:"
   ]
  },
  {
   "cell_type": "code",
   "execution_count": 12,
   "metadata": {
    "id": "36eES_S0_Zct"
   },
   "outputs": [
    {
     "data": {
      "text/plain": [
       "3826"
      ]
     },
     "execution_count": 12,
     "metadata": {},
     "output_type": "execute_result"
    }
   ],
   "source": [
    "df.duplicated().sum()# <считаю явные дубликаты>"
   ]
  },
  {
   "cell_type": "markdown",
   "metadata": {},
   "source": [
    "<font color='DarkBlue'><b>Комментарий ревьюера</b></font><br>\n",
    "<font color='DarkGreen'>👌 Отлично! Дубликаты найдены верно и посчитаны оптимальными методами.</font>"
   ]
  },
  {
   "cell_type": "markdown",
   "metadata": {
    "id": "Ot25h6XR_Zct"
   },
   "source": [
    "Вызовите специальный метод `pandas`, чтобы удалить явные дубликаты:"
   ]
  },
  {
   "cell_type": "code",
   "execution_count": 13,
   "metadata": {
    "id": "exFHq6tt_Zct"
   },
   "outputs": [],
   "source": [
    "df = df.drop_duplicates().reset_index(drop=True) # <удаляю все дубликаты из таблицы>"
   ]
  },
  {
   "cell_type": "markdown",
   "metadata": {
    "id": "Im2YwBEG_Zct"
   },
   "source": [
    "Ещё раз посчитайте явные дубликаты в таблице — убедитесь, что полностью от них избавились:"
   ]
  },
  {
   "cell_type": "code",
   "execution_count": 14,
   "metadata": {
    "id": "-8PuNWQ0_Zct"
   },
   "outputs": [
    {
     "data": {
      "text/plain": [
       "0"
      ]
     },
     "execution_count": 14,
     "metadata": {},
     "output_type": "execute_result"
    }
   ],
   "source": [
    "df.duplicated().sum()# <проверею на отсутствие дубликатов>"
   ]
  },
  {
   "cell_type": "markdown",
   "metadata": {},
   "source": [
    "<font color='DarkBlue'><b>Комментарий ревьюера</b></font><br>\n",
    "<font color='DarkGreen'>👌 Правильно удалены дубликаты и проверено их отсутствие.</font>"
   ]
  },
  {
   "cell_type": "markdown",
   "metadata": {
    "id": "QlFBsxAr_Zct"
   },
   "source": [
    "Теперь избавьтесь от неявных дубликатов в колонке `genre`. Например, название одного и того же жанра может быть записано немного по-разному. Такие ошибки тоже повлияют на результат исследования."
   ]
  },
  {
   "cell_type": "markdown",
   "metadata": {
    "id": "eSjWwsOh_Zct"
   },
   "source": [
    "Выведите на экран список уникальных названий жанров, отсортированный в алфавитном порядке. Для этого:\n",
    "* извлеките нужный столбец датафрейма, \n",
    "* примените к нему метод сортировки,\n",
    "* для отсортированного столбца вызовите метод, который вернёт уникальные значения из столбца."
   ]
  },
  {
   "cell_type": "code",
   "execution_count": 15,
   "metadata": {
    "id": "JIUcqzZN_Zct"
   },
   "outputs": [
    {
     "data": {
      "text/plain": [
       "['acid',\n",
       " 'acoustic',\n",
       " 'action',\n",
       " 'adult',\n",
       " 'africa',\n",
       " 'afrikaans',\n",
       " 'alternative',\n",
       " 'alternativepunk',\n",
       " 'ambient',\n",
       " 'americana',\n",
       " 'animated',\n",
       " 'anime',\n",
       " 'arabesk',\n",
       " 'arabic',\n",
       " 'arena',\n",
       " 'argentinetango',\n",
       " 'art',\n",
       " 'audiobook',\n",
       " 'author',\n",
       " 'avantgarde',\n",
       " 'axé',\n",
       " 'baile',\n",
       " 'balkan',\n",
       " 'beats',\n",
       " 'bigroom',\n",
       " 'black',\n",
       " 'bluegrass',\n",
       " 'blues',\n",
       " 'bollywood',\n",
       " 'bossa',\n",
       " 'brazilian',\n",
       " 'breakbeat',\n",
       " 'breaks',\n",
       " 'broadway',\n",
       " 'cantautori',\n",
       " 'cantopop',\n",
       " 'canzone',\n",
       " 'caribbean',\n",
       " 'caucasian',\n",
       " 'celtic',\n",
       " 'chamber',\n",
       " 'chanson',\n",
       " 'children',\n",
       " 'chill',\n",
       " 'chinese',\n",
       " 'choral',\n",
       " 'christian',\n",
       " 'christmas',\n",
       " 'classical',\n",
       " 'classicmetal',\n",
       " 'club',\n",
       " 'colombian',\n",
       " 'comedy',\n",
       " 'conjazz',\n",
       " 'contemporary',\n",
       " 'country',\n",
       " 'cuban',\n",
       " 'dance',\n",
       " 'dancehall',\n",
       " 'dancepop',\n",
       " 'dark',\n",
       " 'death',\n",
       " 'deep',\n",
       " 'deutschrock',\n",
       " 'deutschspr',\n",
       " 'dirty',\n",
       " 'disco',\n",
       " 'dnb',\n",
       " 'documentary',\n",
       " 'downbeat',\n",
       " 'downtempo',\n",
       " 'drum',\n",
       " 'dub',\n",
       " 'dubstep',\n",
       " 'eastern',\n",
       " 'easy',\n",
       " 'electronic',\n",
       " 'electropop',\n",
       " 'emo',\n",
       " 'entehno',\n",
       " 'epicmetal',\n",
       " 'estrada',\n",
       " 'ethnic',\n",
       " 'eurofolk',\n",
       " 'european',\n",
       " 'experimental',\n",
       " 'extrememetal',\n",
       " 'fado',\n",
       " 'fairytail',\n",
       " 'film',\n",
       " 'fitness',\n",
       " 'flamenco',\n",
       " 'folk',\n",
       " 'folklore',\n",
       " 'folkmetal',\n",
       " 'folkrock',\n",
       " 'folktronica',\n",
       " 'forró',\n",
       " 'frankreich',\n",
       " 'französisch',\n",
       " 'french',\n",
       " 'funk',\n",
       " 'future',\n",
       " 'gangsta',\n",
       " 'garage',\n",
       " 'german',\n",
       " 'ghazal',\n",
       " 'gitarre',\n",
       " 'glitch',\n",
       " 'gospel',\n",
       " 'gothic',\n",
       " 'grime',\n",
       " 'grunge',\n",
       " 'gypsy',\n",
       " 'handsup',\n",
       " \"hard'n'heavy\",\n",
       " 'hardcore',\n",
       " 'hardstyle',\n",
       " 'hardtechno',\n",
       " 'hip',\n",
       " 'hip-hop',\n",
       " 'hiphop',\n",
       " 'historisch',\n",
       " 'holiday',\n",
       " 'hop',\n",
       " 'horror',\n",
       " 'house',\n",
       " 'hymn',\n",
       " 'idm',\n",
       " 'independent',\n",
       " 'indian',\n",
       " 'indie',\n",
       " 'indipop',\n",
       " 'industrial',\n",
       " 'inspirational',\n",
       " 'instrumental',\n",
       " 'international',\n",
       " 'irish',\n",
       " 'jam',\n",
       " 'japanese',\n",
       " 'jazz',\n",
       " 'jewish',\n",
       " 'jpop',\n",
       " 'jungle',\n",
       " 'k-pop',\n",
       " 'karadeniz',\n",
       " 'karaoke',\n",
       " 'kayokyoku',\n",
       " 'korean',\n",
       " 'laiko',\n",
       " 'latin',\n",
       " 'latino',\n",
       " 'leftfield',\n",
       " 'local',\n",
       " 'lounge',\n",
       " 'loungeelectronic',\n",
       " 'lovers',\n",
       " 'malaysian',\n",
       " 'mandopop',\n",
       " 'marschmusik',\n",
       " 'meditative',\n",
       " 'mediterranean',\n",
       " 'melodic',\n",
       " 'metal',\n",
       " 'metalcore',\n",
       " 'mexican',\n",
       " 'middle',\n",
       " 'minimal',\n",
       " 'miscellaneous',\n",
       " 'modern',\n",
       " 'mood',\n",
       " 'mpb',\n",
       " 'muslim',\n",
       " 'native',\n",
       " 'neoklassik',\n",
       " 'neue',\n",
       " 'new',\n",
       " 'newage',\n",
       " 'newwave',\n",
       " 'nu',\n",
       " 'nujazz',\n",
       " 'numetal',\n",
       " 'oceania',\n",
       " 'old',\n",
       " 'opera',\n",
       " 'orchestral',\n",
       " 'other',\n",
       " 'piano',\n",
       " 'podcasts',\n",
       " 'pop',\n",
       " 'popdance',\n",
       " 'popelectronic',\n",
       " 'popeurodance',\n",
       " 'poprussian',\n",
       " 'post',\n",
       " 'posthardcore',\n",
       " 'postrock',\n",
       " 'power',\n",
       " 'progmetal',\n",
       " 'progressive',\n",
       " 'psychedelic',\n",
       " 'punjabi',\n",
       " 'punk',\n",
       " 'quebecois',\n",
       " 'ragga',\n",
       " 'ram',\n",
       " 'rancheras',\n",
       " 'rap',\n",
       " 'rave',\n",
       " 'reggae',\n",
       " 'reggaeton',\n",
       " 'regional',\n",
       " 'relax',\n",
       " 'religious',\n",
       " 'retro',\n",
       " 'rhythm',\n",
       " 'rnb',\n",
       " 'rnr',\n",
       " 'rock',\n",
       " 'rockabilly',\n",
       " 'rockalternative',\n",
       " 'rockindie',\n",
       " 'rockother',\n",
       " 'romance',\n",
       " 'roots',\n",
       " 'ruspop',\n",
       " 'rusrap',\n",
       " 'rusrock',\n",
       " 'russian',\n",
       " 'salsa',\n",
       " 'samba',\n",
       " 'scenic',\n",
       " 'schlager',\n",
       " 'self',\n",
       " 'sertanejo',\n",
       " 'shanson',\n",
       " 'shoegazing',\n",
       " 'showtunes',\n",
       " 'singer',\n",
       " 'ska',\n",
       " 'skarock',\n",
       " 'slow',\n",
       " 'smooth',\n",
       " 'soft',\n",
       " 'soul',\n",
       " 'soulful',\n",
       " 'sound',\n",
       " 'soundtrack',\n",
       " 'southern',\n",
       " 'specialty',\n",
       " 'speech',\n",
       " 'spiritual',\n",
       " 'sport',\n",
       " 'stonerrock',\n",
       " 'surf',\n",
       " 'swing',\n",
       " 'synthpop',\n",
       " 'synthrock',\n",
       " 'sängerportrait',\n",
       " 'tango',\n",
       " 'tanzorchester',\n",
       " 'taraftar',\n",
       " 'tatar',\n",
       " 'tech',\n",
       " 'techno',\n",
       " 'teen',\n",
       " 'thrash',\n",
       " 'top',\n",
       " 'traditional',\n",
       " 'tradjazz',\n",
       " 'trance',\n",
       " 'tribal',\n",
       " 'trip',\n",
       " 'triphop',\n",
       " 'tropical',\n",
       " 'türk',\n",
       " 'türkçe',\n",
       " 'ukrrock',\n",
       " 'unknown',\n",
       " 'urban',\n",
       " 'uzbek',\n",
       " 'variété',\n",
       " 'vi',\n",
       " 'videogame',\n",
       " 'vocal',\n",
       " 'western',\n",
       " 'world',\n",
       " 'worldbeat',\n",
       " 'ïîï',\n",
       " 'электроника']"
      ]
     },
     "metadata": {},
     "output_type": "display_data"
    }
   ],
   "source": [
    "unique_genre = df['genre'].sort_values().unique()\n",
    "\n",
    "display(sorted(unique_genre))\n",
    "\n"
   ]
  },
  {
   "cell_type": "markdown",
   "metadata": {},
   "source": [
    "<font color='DarkBlue'><b>Комментарий ревьюера</b></font><br>\n",
    "<font color='Red'>🛠 ОЙ! А что у нас написано в задании: <b>Выведите на экран список уникальных названий жанров, отсортированный в алфавитном порядке. Для этого:<br>\n",
    "извлеките нужный столбец датафрейма,<br>\n",
    "примените к нему метод сортировки,<br>\n",
    "для отсортированного столбца вызовите метод, который вернёт уникальные значения из столбца.</b> То есть нам нужно к столбцу прменить два метода. А мы зачем-то пишем двойной вложенный цикл.</font>"
   ]
  },
  {
   "cell_type": "markdown",
   "metadata": {},
   "source": [
    "<font color='DarkBlue'><b>Комментарий ревьюера 2</b></font><br>\n",
    "<font color='DarkMagenta'>👉 Но, по заданию нужно использовать не функцию, а метод sort_values(): `df['genre'].sort_values().unique()`</font>"
   ]
  },
  {
   "cell_type": "markdown",
   "metadata": {},
   "source": [
    "<font color='DarkBlue'><b>Комментарий ревьюера 3</b></font><br>\n",
    "<font color='DarkGreen'>👌 Хорошо, исправили. 😉</font>"
   ]
  },
  {
   "cell_type": "markdown",
   "metadata": {
    "id": "qej-Qmuo_Zct"
   },
   "source": [
    "Просмотрите список и найдите неявные дубликаты названия `hiphop`. Это могут быть названия с ошибками или альтернативные названия того же жанра.\n",
    "\n",
    "Вы увидите следующие неявные дубликаты:\n",
    "* *hip*,\n",
    "* *hop*,\n",
    "* *hip-hop*.\n",
    "\n",
    "Чтобы очистить от них таблицу, напишите фу replace_wrong_genres()нкцию `` с двумя параметрами: \n",
    "* `wrong_genres` — список дубликатов,\n",
    "* `correct_genre` — строка с правильным значением.\n",
    "\n",
    "Функция должна исправить колонку `genre` в таблице `df`: заменить каждое значение из списка `wrong_genres` на значение из `correct_genre`."
   ]
  },
  {
   "cell_type": "markdown",
   "metadata": {},
   "source": [
    "<font color='DarkBlue'><b>Комментарий ревьюера</b></font><br>\n",
    "<font color='DarkMagenta'>👉 Давай мы попробуем найти еще неявные дубликаты, кроме указанных в задании. Вдруг получится.</font><br>"
   ]
  },
  {
   "cell_type": "code",
   "execution_count": 16,
   "metadata": {
    "id": "ErNDkmns_Zct"
   },
   "outputs": [],
   "source": [
    "def replace_wrong_genres(wrong_genres, correct_genre):\n",
    "    for wrong_genre in wrong_genres:  # меняем все  на подставляемое\n",
    "        df['genre'] = df['genre'].replace(wrong_genres, correct_genre)\n",
    "def replace_wrong_genres1(wrong_genres1, correct_genre1):\n",
    "    for wrong_genre1 in wrong_genres1:  # меняем латин на латину  - хватит одного добавленного дубликата, а?\n",
    "        df['genre'] = df['genre'].replace(wrong_genres1, correct_genre1)"
   ]
  },
  {
   "cell_type": "markdown",
   "metadata": {},
   "source": [
    "<font color='DarkBlue'><b>Комментарий ревьюера 2</b></font><br>\n",
    "<font color='DarkMagenta'>👉 Не понял, а зачем вторая функция?</font>"
   ]
  },
  {
   "cell_type": "markdown",
   "metadata": {
    "id": "aDoBJxbA_Zct"
   },
   "source": [
    "Вызовите `replace_wrong_genres()` и передайте ей такие аргументы, чтобы она устранила неявные дубликаты: вместо `hip`, `hop` и `hip-hop` в таблице должно быть значение `hiphop`:"
   ]
  },
  {
   "cell_type": "code",
   "execution_count": 17,
   "metadata": {
    "id": "YN5i2hpmSo09"
   },
   "outputs": [],
   "source": [
    "wrong_genres = ['hip', 'hop', 'hip-hop'] # список дубликатов\n",
    "correct_genre = 'hiphop' # строка с правильным значением\n",
    "replace_wrong_genres(wrong_genres, correct_genre)\n",
    "\n",
    "wrong_genres1 = ['latin'] # список дубликатов\n",
    "correct_genre1 = 'latino' # строка с правильным значением\n",
    "replace_wrong_genres1(wrong_genres1, correct_genre1)\n"
   ]
  },
  {
   "attachments": {
    "image.png": {
     "image/png": "[encoded data removed]"
    }
   },
   "cell_type": "markdown",
   "metadata": {},
   "source": [
    "<font color='DarkBlue'><b>Комментарий ревьюера</b></font><br>\n",
    "<font color='Red'>🛠 Ну вот, у нас ошибка кода. Вынужден прервать проверку. 😢</font>\n",
    "![image.png](attachment:image.png)"
   ]
  },
  {
   "cell_type": "markdown",
   "metadata": {
    "id": "zQKF16_RG15m"
   },
   "source": [
    "Проверьте, что заменили неправильные названия:\n",
    "\n",
    "*   hip\n",
    "*   hop\n",
    "*   hip-hop\n",
    "\n",
    "Выведите отсортированный список уникальных значений столбца `genre`:"
   ]
  },
  {
   "cell_type": "code",
   "execution_count": 18,
   "metadata": {
    "id": "wvixALnFG15m"
   },
   "outputs": [
    {
     "data": {
      "text/plain": [
       "['acid',\n",
       " 'acoustic',\n",
       " 'action',\n",
       " 'adult',\n",
       " 'africa',\n",
       " 'afrikaans',\n",
       " 'alternative',\n",
       " 'alternativepunk',\n",
       " 'ambient',\n",
       " 'americana',\n",
       " 'animated',\n",
       " 'anime',\n",
       " 'arabesk',\n",
       " 'arabic',\n",
       " 'arena',\n",
       " 'argentinetango',\n",
       " 'art',\n",
       " 'audiobook',\n",
       " 'author',\n",
       " 'avantgarde',\n",
       " 'axé',\n",
       " 'baile',\n",
       " 'balkan',\n",
       " 'beats',\n",
       " 'bigroom',\n",
       " 'black',\n",
       " 'bluegrass',\n",
       " 'blues',\n",
       " 'bollywood',\n",
       " 'bossa',\n",
       " 'brazilian',\n",
       " 'breakbeat',\n",
       " 'breaks',\n",
       " 'broadway',\n",
       " 'cantautori',\n",
       " 'cantopop',\n",
       " 'canzone',\n",
       " 'caribbean',\n",
       " 'caucasian',\n",
       " 'celtic',\n",
       " 'chamber',\n",
       " 'chanson',\n",
       " 'children',\n",
       " 'chill',\n",
       " 'chinese',\n",
       " 'choral',\n",
       " 'christian',\n",
       " 'christmas',\n",
       " 'classical',\n",
       " 'classicmetal',\n",
       " 'club',\n",
       " 'colombian',\n",
       " 'comedy',\n",
       " 'conjazz',\n",
       " 'contemporary',\n",
       " 'country',\n",
       " 'cuban',\n",
       " 'dance',\n",
       " 'dancehall',\n",
       " 'dancepop',\n",
       " 'dark',\n",
       " 'death',\n",
       " 'deep',\n",
       " 'deutschrock',\n",
       " 'deutschspr',\n",
       " 'dirty',\n",
       " 'disco',\n",
       " 'dnb',\n",
       " 'documentary',\n",
       " 'downbeat',\n",
       " 'downtempo',\n",
       " 'drum',\n",
       " 'dub',\n",
       " 'dubstep',\n",
       " 'eastern',\n",
       " 'easy',\n",
       " 'electronic',\n",
       " 'electropop',\n",
       " 'emo',\n",
       " 'entehno',\n",
       " 'epicmetal',\n",
       " 'estrada',\n",
       " 'ethnic',\n",
       " 'eurofolk',\n",
       " 'european',\n",
       " 'experimental',\n",
       " 'extrememetal',\n",
       " 'fado',\n",
       " 'fairytail',\n",
       " 'film',\n",
       " 'fitness',\n",
       " 'flamenco',\n",
       " 'folk',\n",
       " 'folklore',\n",
       " 'folkmetal',\n",
       " 'folkrock',\n",
       " 'folktronica',\n",
       " 'forró',\n",
       " 'frankreich',\n",
       " 'französisch',\n",
       " 'french',\n",
       " 'funk',\n",
       " 'future',\n",
       " 'gangsta',\n",
       " 'garage',\n",
       " 'german',\n",
       " 'ghazal',\n",
       " 'gitarre',\n",
       " 'glitch',\n",
       " 'gospel',\n",
       " 'gothic',\n",
       " 'grime',\n",
       " 'grunge',\n",
       " 'gypsy',\n",
       " 'handsup',\n",
       " \"hard'n'heavy\",\n",
       " 'hardcore',\n",
       " 'hardstyle',\n",
       " 'hardtechno',\n",
       " 'hiphop',\n",
       " 'historisch',\n",
       " 'holiday',\n",
       " 'horror',\n",
       " 'house',\n",
       " 'hymn',\n",
       " 'idm',\n",
       " 'independent',\n",
       " 'indian',\n",
       " 'indie',\n",
       " 'indipop',\n",
       " 'industrial',\n",
       " 'inspirational',\n",
       " 'instrumental',\n",
       " 'international',\n",
       " 'irish',\n",
       " 'jam',\n",
       " 'japanese',\n",
       " 'jazz',\n",
       " 'jewish',\n",
       " 'jpop',\n",
       " 'jungle',\n",
       " 'k-pop',\n",
       " 'karadeniz',\n",
       " 'karaoke',\n",
       " 'kayokyoku',\n",
       " 'korean',\n",
       " 'laiko',\n",
       " 'latino',\n",
       " 'leftfield',\n",
       " 'local',\n",
       " 'lounge',\n",
       " 'loungeelectronic',\n",
       " 'lovers',\n",
       " 'malaysian',\n",
       " 'mandopop',\n",
       " 'marschmusik',\n",
       " 'meditative',\n",
       " 'mediterranean',\n",
       " 'melodic',\n",
       " 'metal',\n",
       " 'metalcore',\n",
       " 'mexican',\n",
       " 'middle',\n",
       " 'minimal',\n",
       " 'miscellaneous',\n",
       " 'modern',\n",
       " 'mood',\n",
       " 'mpb',\n",
       " 'muslim',\n",
       " 'native',\n",
       " 'neoklassik',\n",
       " 'neue',\n",
       " 'new',\n",
       " 'newage',\n",
       " 'newwave',\n",
       " 'nu',\n",
       " 'nujazz',\n",
       " 'numetal',\n",
       " 'oceania',\n",
       " 'old',\n",
       " 'opera',\n",
       " 'orchestral',\n",
       " 'other',\n",
       " 'piano',\n",
       " 'podcasts',\n",
       " 'pop',\n",
       " 'popdance',\n",
       " 'popelectronic',\n",
       " 'popeurodance',\n",
       " 'poprussian',\n",
       " 'post',\n",
       " 'posthardcore',\n",
       " 'postrock',\n",
       " 'power',\n",
       " 'progmetal',\n",
       " 'progressive',\n",
       " 'psychedelic',\n",
       " 'punjabi',\n",
       " 'punk',\n",
       " 'quebecois',\n",
       " 'ragga',\n",
       " 'ram',\n",
       " 'rancheras',\n",
       " 'rap',\n",
       " 'rave',\n",
       " 'reggae',\n",
       " 'reggaeton',\n",
       " 'regional',\n",
       " 'relax',\n",
       " 'religious',\n",
       " 'retro',\n",
       " 'rhythm',\n",
       " 'rnb',\n",
       " 'rnr',\n",
       " 'rock',\n",
       " 'rockabilly',\n",
       " 'rockalternative',\n",
       " 'rockindie',\n",
       " 'rockother',\n",
       " 'romance',\n",
       " 'roots',\n",
       " 'ruspop',\n",
       " 'rusrap',\n",
       " 'rusrock',\n",
       " 'russian',\n",
       " 'salsa',\n",
       " 'samba',\n",
       " 'scenic',\n",
       " 'schlager',\n",
       " 'self',\n",
       " 'sertanejo',\n",
       " 'shanson',\n",
       " 'shoegazing',\n",
       " 'showtunes',\n",
       " 'singer',\n",
       " 'ska',\n",
       " 'skarock',\n",
       " 'slow',\n",
       " 'smooth',\n",
       " 'soft',\n",
       " 'soul',\n",
       " 'soulful',\n",
       " 'sound',\n",
       " 'soundtrack',\n",
       " 'southern',\n",
       " 'specialty',\n",
       " 'speech',\n",
       " 'spiritual',\n",
       " 'sport',\n",
       " 'stonerrock',\n",
       " 'surf',\n",
       " 'swing',\n",
       " 'synthpop',\n",
       " 'synthrock',\n",
       " 'sängerportrait',\n",
       " 'tango',\n",
       " 'tanzorchester',\n",
       " 'taraftar',\n",
       " 'tatar',\n",
       " 'tech',\n",
       " 'techno',\n",
       " 'teen',\n",
       " 'thrash',\n",
       " 'top',\n",
       " 'traditional',\n",
       " 'tradjazz',\n",
       " 'trance',\n",
       " 'tribal',\n",
       " 'trip',\n",
       " 'triphop',\n",
       " 'tropical',\n",
       " 'türk',\n",
       " 'türkçe',\n",
       " 'ukrrock',\n",
       " 'unknown',\n",
       " 'urban',\n",
       " 'uzbek',\n",
       " 'variété',\n",
       " 'vi',\n",
       " 'videogame',\n",
       " 'vocal',\n",
       " 'western',\n",
       " 'world',\n",
       " 'worldbeat',\n",
       " 'ïîï',\n",
       " 'электроника']"
      ]
     },
     "metadata": {},
     "output_type": "display_data"
    }
   ],
   "source": [
    "unique_genre = df['genre'].sort_values().unique()\n",
    "\n",
    "display(sorted(unique_genre))\n"
   ]
  },
  {
   "cell_type": "markdown",
   "metadata": {},
   "source": [
    "<font color='DarkBlue'><b>Комментарий ревьюера 2</b></font><br>\n",
    "<font color='DarkGreen'>👌 И функция наша работает почти правильно. </font><br>\n",
    "<font color='DarkMagenta'>👉 <b>sorted()</b></font>"
   ]
  },
  {
   "cell_type": "markdown",
   "metadata": {
    "id": "jz6a9-7HQUDd"
   },
   "source": [
    "**Выводы**\n",
    "\n",
    "Предобработка обнаружила три проблемы в данных:\n",
    "\n",
    "- нарушения в стиле заголовков,\n",
    "- пропущенные значения,\n",
    "- дубликаты — явные и неявные.\n",
    "\n",
    "Вы исправили заголовки, чтобы упростить работу с таблицей. Без дубликатов исследование станет более точным.\n",
    "\n",
    "Пропущенные значения вы заменили на `'unknown'`. Ещё предстоит увидеть, не повредят ли исследованию пропуски в колонке `genre`.\n",
    "\n",
    "Теперь можно перейти к проверке гипотез. "
   ]
  },
  {
   "cell_type": "markdown",
   "metadata": {
    "id": "WttZHXH0SqKk"
   },
   "source": [
    "## Проверка гипотез"
   ]
  },
  {
   "cell_type": "markdown",
   "metadata": {
    "id": "Im936VVi_Zcu"
   },
   "source": [
    "### Сравнение поведения пользователей двух столиц"
   ]
  },
  {
   "cell_type": "markdown",
   "metadata": {
    "id": "nwt_MuaL_Zcu"
   },
   "source": [
    "Первая гипотеза утверждает, что пользователи по-разному слушают музыку в Москве и Санкт-Петербурге. Проверьте это предположение по данным о трёх днях недели — понедельнике, среде и пятнице. Для этого:\n",
    "\n",
    "* Разделите пользователей Москвы и Санкт-Петербурга\n",
    "* Сравните, сколько треков послушала каждая группа пользователей в понедельник, среду и пятницу.\n"
   ]
  },
  {
   "cell_type": "markdown",
   "metadata": {
    "id": "8Dw_YMmT_Zcu"
   },
   "source": [
    "Для тренировки сначала выполните каждый из расчётов по отдельности. \n",
    "\n",
    "Оцените активность пользователей в каждом городе. Сгруппируйте данные по городу и посчитайте прослушивания в каждой группе.\n",
    "\n"
   ]
  },
  {
   "cell_type": "code",
   "execution_count": 19,
   "metadata": {
    "id": "0_Qs96oh_Zcu"
   },
   "outputs": [
    {
     "data": {
      "text/plain": [
       "city\n",
       "Moscow              42741\n",
       "Saint-Petersburg    18512\n",
       "Name: genre, dtype: int64"
      ]
     },
     "execution_count": 19,
     "metadata": {},
     "output_type": "execute_result"
    }
   ],
   "source": [
    "df.groupby('city')['genre'].count()# Подсчёт прослушиваний в каждом городе"
   ]
  },
  {
   "cell_type": "markdown",
   "metadata": {},
   "source": [
    "<font color='DarkBlue'><b>Комментарий ревьюера 2</b></font><br>\n",
    "<font color='DarkGreen'>👌 Все сделано правильно.</font>"
   ]
  },
  {
   "cell_type": "markdown",
   "metadata": {
    "id": "dzli3w8o_Zcu"
   },
   "source": [
    "В Москве прослушиваний больше, чем в Петербурге. Из этого не следует, что московские пользователи чаще слушают музыку. Просто самих пользователей в Москве больше.\n",
    "\n",
    "Теперь сгруппируйте данные по дню недели и подсчитайте прослушивания в понедельник, среду и пятницу. Учтите, что в данных есть информация о прослушиваниях только за эти дни.\n"
   ]
  },
  {
   "cell_type": "code",
   "execution_count": 20,
   "metadata": {
    "id": "uZMKjiJz_Zcu"
   },
   "outputs": [
    {
     "data": {
      "text/plain": [
       "day\n",
       "Friday       21840\n",
       "Monday       21354\n",
       "Wednesday    18059\n",
       "Name: genre, dtype: int64"
      ]
     },
     "execution_count": 20,
     "metadata": {},
     "output_type": "execute_result"
    }
   ],
   "source": [
    "df.groupby('day')['genre'].count()"
   ]
  },
  {
   "cell_type": "markdown",
   "metadata": {},
   "source": [
    "<font color='DarkBlue'><b>Комментарий ревьюера</b></font><br>\n",
    "<font color='DarkGreen'>👌 Все правильно!</font>"
   ]
  },
  {
   "cell_type": "markdown",
   "metadata": {
    "id": "cC2tNrlL_Zcu"
   },
   "source": [
    "В среднем пользователи из двух городов менее активны по средам. Но картина может измениться, если рассмотреть каждый город в отдельности."
   ]
  },
  {
   "cell_type": "markdown",
   "metadata": {
    "id": "POzs8bGa_Zcu"
   },
   "source": [
    "Вы видели, как работает группировка по городу и по дням недели. Теперь напишите функцию, которая объединит два эти расчёта.\n",
    "\n",
    "Создайте функцию `number_tracks()`, которая посчитает прослушивания для заданного дня и города. Ей понадобятся два параметра:\n",
    "* день недели,\n",
    "* название города.\n",
    "\n",
    "В функции сохраните в переменную строки исходной таблицы, у которых значение:\n",
    "  * в колонке `day` равно параметру `day`,\n",
    "  * в колонке `city` равно параметру `city`.\n",
    "\n",
    "Для этого примените последовательную фильтрацию с логической индексацией.\n",
    "\n",
    "Затем посчитайте значения в столбце `user_id` получившейся таблицы. Результат сохраните в новую переменную. Верните эту переменную из функции."
   ]
  },
  {
   "cell_type": "code",
   "execution_count": 21,
   "metadata": {
    "id": "Nz3GdQB1_Zcu"
   },
   "outputs": [],
   "source": [
    "# <создание функции number_tracks()>\n",
    "def number_tracks(day, city):\n",
    "    track_list = df[(df['day'] == day) & (df['city'] == city)]\n",
    "    \n",
    "    track_list_count = track_list['user_id'].count()\n",
    "    return track_list_count"
   ]
  },
  {
   "cell_type": "markdown",
   "metadata": {},
   "source": [
    "<font color='DarkBlue'><b>Комментарий ревьюера 2</b></font><br>\n",
    "<font color='DarkGreen'>👌 Замечательно! Функция написана правильно. 👍</font>"
   ]
  },
  {
   "cell_type": "markdown",
   "metadata": {
    "id": "ytf7xFrFJQ2r"
   },
   "source": [
    "Вызовите `number_tracks()` шесть раз, меняя значение параметров — так, чтобы получить данные для каждого города в каждый из трёх дней."
   ]
  },
  {
   "cell_type": "code",
   "execution_count": 22,
   "metadata": {
    "id": "rJcRATNQ_Zcu"
   },
   "outputs": [
    {
     "data": {
      "text/plain": [
       "15740"
      ]
     },
     "execution_count": 22,
     "metadata": {},
     "output_type": "execute_result"
    }
   ],
   "source": [
    "number_tracks('Monday', 'Moscow')"
   ]
  },
  {
   "cell_type": "code",
   "execution_count": 23,
   "metadata": {
    "id": "hq_ncZ5T_Zcu"
   },
   "outputs": [
    {
     "data": {
      "text/plain": [
       "5614"
      ]
     },
     "execution_count": 23,
     "metadata": {},
     "output_type": "execute_result"
    }
   ],
   "source": [
    "number_tracks('Monday', 'Saint-Petersburg')"
   ]
  },
  {
   "cell_type": "code",
   "execution_count": 24,
   "metadata": {
    "id": "_NTy2VPU_Zcu"
   },
   "outputs": [
    {
     "data": {
      "text/plain": [
       "11056"
      ]
     },
     "execution_count": 24,
     "metadata": {},
     "output_type": "execute_result"
    }
   ],
   "source": [
    "number_tracks('Wednesday', 'Moscow')"
   ]
  },
  {
   "cell_type": "code",
   "execution_count": 25,
   "metadata": {
    "id": "j2y3TAwo_Zcu"
   },
   "outputs": [
    {
     "data": {
      "text/plain": [
       "7003"
      ]
     },
     "execution_count": 25,
     "metadata": {},
     "output_type": "execute_result"
    }
   ],
   "source": [
    "number_tracks('Wednesday', 'Saint-Petersburg')"
   ]
  },
  {
   "cell_type": "code",
   "execution_count": 26,
   "metadata": {
    "id": "vYDw5u_K_Zcu"
   },
   "outputs": [
    {
     "data": {
      "text/plain": [
       "15945"
      ]
     },
     "execution_count": 26,
     "metadata": {},
     "output_type": "execute_result"
    }
   ],
   "source": [
    "number_tracks('Friday', 'Moscow')"
   ]
  },
  {
   "cell_type": "code",
   "execution_count": 27,
   "metadata": {
    "id": "8_yzFtW3_Zcu"
   },
   "outputs": [
    {
     "data": {
      "text/plain": [
       "5895"
      ]
     },
     "execution_count": 27,
     "metadata": {},
     "output_type": "execute_result"
    }
   ],
   "source": [
    "number_tracks('Friday', 'Saint-Petersburg')"
   ]
  },
  {
   "cell_type": "markdown",
   "metadata": {},
   "source": [
    "<font color='DarkBlue'><b>Комментарий ревьюера 2</b></font><br>\n",
    "<font color='DarkGreen'>👌 Хорошо. Все вызовы функции сделаны правильно.</font><br>\n",
    "<font color='DarkMagenta'>👉 Можно было бы сделать два списка, один с городами, второй с днем недели. И циклом с перебором по спискам вывести все значения.</font>"
   ]
  },
  {
   "cell_type": "markdown",
   "metadata": {
    "id": "7QXffbO-_Zcu"
   },
   "source": [
    "Создайте c помощью конструктора `pd.DataFrame` таблицу, где\n",
    "* названия колонок — `['city', 'monday', 'wednesday', 'friday']`;\n",
    "* данные — результаты, которые вы получили с помощью `number_tracks`."
   ]
  },
  {
   "cell_type": "code",
   "execution_count": 28,
   "metadata": {
    "id": "APAcLpOr_Zcu"
   },
   "outputs": [
    {
     "data": {
      "text/html": [
       "<div>\n",
       "<style scoped>\n",
       "    .dataframe tbody tr th:only-of-type {\n",
       "        vertical-align: middle;\n",
       "    }\n",
       "\n",
       "    .dataframe tbody tr th {\n",
       "        vertical-align: top;\n",
       "    }\n",
       "\n",
       "    .dataframe thead th {\n",
       "        text-align: right;\n",
       "    }\n",
       "</style>\n",
       "<table border=\"1\" class=\"dataframe\">\n",
       "  <thead>\n",
       "    <tr style=\"text-align: right;\">\n",
       "      <th></th>\n",
       "      <th>city</th>\n",
       "      <th>monday</th>\n",
       "      <th>wednesday</th>\n",
       "      <th>friday</th>\n",
       "    </tr>\n",
       "  </thead>\n",
       "  <tbody>\n",
       "    <tr>\n",
       "      <th>0</th>\n",
       "      <td>Moscow</td>\n",
       "      <td>15740</td>\n",
       "      <td>11056</td>\n",
       "      <td>15945</td>\n",
       "    </tr>\n",
       "    <tr>\n",
       "      <th>1</th>\n",
       "      <td>Saint-Petersburg</td>\n",
       "      <td>5614</td>\n",
       "      <td>7003</td>\n",
       "      <td>5895</td>\n",
       "    </tr>\n",
       "  </tbody>\n",
       "</table>\n",
       "</div>"
      ],
      "text/plain": [
       "               city  monday  wednesday  friday\n",
       "0            Moscow   15740      11056   15945\n",
       "1  Saint-Petersburg    5614       7003    5895"
      ]
     },
     "execution_count": 28,
     "metadata": {},
     "output_type": "execute_result"
    }
   ],
   "source": [
    "data = [['Moscow', 15740, 11056, 15945],\n",
    "       ['Saint-Petersburg', 5614, 7003, 5895]]\n",
    "columns = ['city','monday','wednesday','friday']\n",
    "table = pd.DataFrame(data = data, columns = columns)\n",
    "table\n"
   ]
  },
  {
   "cell_type": "markdown",
   "metadata": {},
   "source": [
    "<font color='DarkBlue'><b>Комментарий ревьюера 2</b></font><br>\n",
    "<font color='DarkGreen'>👌 Очень хорошо.</font><br>\n",
    "<font color='DarkMagenta'>👉 Можно было бы сделать по другому, не вводить значения вручную, а использовать тобой написанную функцию number_tracks. А то функцию написали, но не используем.</font>"
   ]
  },
  {
   "cell_type": "markdown",
   "metadata": {
    "id": "-EgPIHYu_Zcu"
   },
   "source": [
    "**Выводы**\n",
    "\n",
    "Данные показывают разницу поведения пользователей:\n",
    "\n",
    "- В Москве пик прослушиваний приходится на понедельник и пятницу, а в среду заметен спад.\n",
    "- В Петербурге, наоборот, больше слушают музыку по средам. Активность в понедельник и пятницу здесь почти в равной мере уступает среде.\n",
    "\n",
    "Значит, данные говорят в пользу первой гипотезы."
   ]
  },
  {
   "cell_type": "markdown",
   "metadata": {
    "id": "atZAxtq4_Zcu"
   },
   "source": [
    "### Музыка в начале и в конце недели"
   ]
  },
  {
   "cell_type": "markdown",
   "metadata": {
    "id": "eXrQqXFH_Zcu"
   },
   "source": [
    "Согласно второй гипотезе, утром в понедельник в Москве преобладают одни жанры, а в Петербурге — другие. Так же и вечером пятницы преобладают разные жанры — в зависимости от города."
   ]
  },
  {
   "cell_type": "markdown",
   "metadata": {
    "id": "S8UcW6Hw_Zcu"
   },
   "source": [
    "Сохраните таблицы с данными в две переменные:\n",
    "* по Москве — в `moscow_general`;\n",
    "* по Санкт-Петербургу — в `spb_general`."
   ]
  },
  {
   "cell_type": "code",
   "execution_count": 29,
   "metadata": {
    "id": "qeaFfM_P_Zcu"
   },
   "outputs": [
    {
     "data": {
      "text/html": [
       "<div>\n",
       "<style scoped>\n",
       "    .dataframe tbody tr th:only-of-type {\n",
       "        vertical-align: middle;\n",
       "    }\n",
       "\n",
       "    .dataframe tbody tr th {\n",
       "        vertical-align: top;\n",
       "    }\n",
       "\n",
       "    .dataframe thead th {\n",
       "        text-align: right;\n",
       "    }\n",
       "</style>\n",
       "<table border=\"1\" class=\"dataframe\">\n",
       "  <thead>\n",
       "    <tr style=\"text-align: right;\">\n",
       "      <th></th>\n",
       "      <th>user_id</th>\n",
       "      <th>track</th>\n",
       "      <th>artist</th>\n",
       "      <th>genre</th>\n",
       "      <th>city</th>\n",
       "      <th>time</th>\n",
       "      <th>day</th>\n",
       "    </tr>\n",
       "  </thead>\n",
       "  <tbody>\n",
       "    <tr>\n",
       "      <th>1</th>\n",
       "      <td>55204538</td>\n",
       "      <td>Delayed Because of Accident</td>\n",
       "      <td>Andreas Rönnberg</td>\n",
       "      <td>rock</td>\n",
       "      <td>Moscow</td>\n",
       "      <td>14:07:09</td>\n",
       "      <td>Friday</td>\n",
       "    </tr>\n",
       "    <tr>\n",
       "      <th>4</th>\n",
       "      <td>E2DC1FAE</td>\n",
       "      <td>Soul People</td>\n",
       "      <td>Space Echo</td>\n",
       "      <td>dance</td>\n",
       "      <td>Moscow</td>\n",
       "      <td>08:34:34</td>\n",
       "      <td>Monday</td>\n",
       "    </tr>\n",
       "    <tr>\n",
       "      <th>6</th>\n",
       "      <td>4CB90AA5</td>\n",
       "      <td>True</td>\n",
       "      <td>Roman Messer</td>\n",
       "      <td>dance</td>\n",
       "      <td>Moscow</td>\n",
       "      <td>13:00:07</td>\n",
       "      <td>Wednesday</td>\n",
       "    </tr>\n",
       "    <tr>\n",
       "      <th>7</th>\n",
       "      <td>F03E1C1F</td>\n",
       "      <td>Feeling This Way</td>\n",
       "      <td>Polina Griffith</td>\n",
       "      <td>dance</td>\n",
       "      <td>Moscow</td>\n",
       "      <td>20:47:49</td>\n",
       "      <td>Wednesday</td>\n",
       "    </tr>\n",
       "    <tr>\n",
       "      <th>8</th>\n",
       "      <td>8FA1D3BE</td>\n",
       "      <td>И вновь продолжается бой</td>\n",
       "      <td>unknown</td>\n",
       "      <td>ruspop</td>\n",
       "      <td>Moscow</td>\n",
       "      <td>09:17:40</td>\n",
       "      <td>Friday</td>\n",
       "    </tr>\n",
       "    <tr>\n",
       "      <th>...</th>\n",
       "      <td>...</td>\n",
       "      <td>...</td>\n",
       "      <td>...</td>\n",
       "      <td>...</td>\n",
       "      <td>...</td>\n",
       "      <td>...</td>\n",
       "      <td>...</td>\n",
       "    </tr>\n",
       "    <tr>\n",
       "      <th>61247</th>\n",
       "      <td>83A474E7</td>\n",
       "      <td>I Worship Only What You Bleed</td>\n",
       "      <td>The Black Dahlia Murder</td>\n",
       "      <td>extrememetal</td>\n",
       "      <td>Moscow</td>\n",
       "      <td>21:07:12</td>\n",
       "      <td>Monday</td>\n",
       "    </tr>\n",
       "    <tr>\n",
       "      <th>61248</th>\n",
       "      <td>729CBB09</td>\n",
       "      <td>My Name</td>\n",
       "      <td>McLean</td>\n",
       "      <td>rnb</td>\n",
       "      <td>Moscow</td>\n",
       "      <td>13:32:28</td>\n",
       "      <td>Wednesday</td>\n",
       "    </tr>\n",
       "    <tr>\n",
       "      <th>61250</th>\n",
       "      <td>C5E3A0D5</td>\n",
       "      <td>Jalopiina</td>\n",
       "      <td>unknown</td>\n",
       "      <td>industrial</td>\n",
       "      <td>Moscow</td>\n",
       "      <td>20:09:26</td>\n",
       "      <td>Friday</td>\n",
       "    </tr>\n",
       "    <tr>\n",
       "      <th>61251</th>\n",
       "      <td>321D0506</td>\n",
       "      <td>Freight Train</td>\n",
       "      <td>Chas McDevitt</td>\n",
       "      <td>rock</td>\n",
       "      <td>Moscow</td>\n",
       "      <td>21:43:59</td>\n",
       "      <td>Friday</td>\n",
       "    </tr>\n",
       "    <tr>\n",
       "      <th>61252</th>\n",
       "      <td>3A64EF84</td>\n",
       "      <td>Tell Me Sweet Little Lies</td>\n",
       "      <td>Monica Lopez</td>\n",
       "      <td>country</td>\n",
       "      <td>Moscow</td>\n",
       "      <td>21:59:46</td>\n",
       "      <td>Friday</td>\n",
       "    </tr>\n",
       "  </tbody>\n",
       "</table>\n",
       "<p>42741 rows × 7 columns</p>\n",
       "</div>"
      ],
      "text/plain": [
       "        user_id                          track                   artist  \\\n",
       "1      55204538    Delayed Because of Accident         Andreas Rönnberg   \n",
       "4      E2DC1FAE                    Soul People               Space Echo   \n",
       "6      4CB90AA5                           True             Roman Messer   \n",
       "7      F03E1C1F               Feeling This Way          Polina Griffith   \n",
       "8      8FA1D3BE       И вновь продолжается бой                  unknown   \n",
       "...         ...                            ...                      ...   \n",
       "61247  83A474E7  I Worship Only What You Bleed  The Black Dahlia Murder   \n",
       "61248  729CBB09                        My Name                   McLean   \n",
       "61250  C5E3A0D5                      Jalopiina                  unknown   \n",
       "61251  321D0506                  Freight Train            Chas McDevitt   \n",
       "61252  3A64EF84      Tell Me Sweet Little Lies             Monica Lopez   \n",
       "\n",
       "              genre    city      time        day  \n",
       "1              rock  Moscow  14:07:09     Friday  \n",
       "4             dance  Moscow  08:34:34     Monday  \n",
       "6             dance  Moscow  13:00:07  Wednesday  \n",
       "7             dance  Moscow  20:47:49  Wednesday  \n",
       "8            ruspop  Moscow  09:17:40     Friday  \n",
       "...             ...     ...       ...        ...  \n",
       "61247  extrememetal  Moscow  21:07:12     Monday  \n",
       "61248           rnb  Moscow  13:32:28  Wednesday  \n",
       "61250    industrial  Moscow  20:09:26     Friday  \n",
       "61251          rock  Moscow  21:43:59     Friday  \n",
       "61252       country  Moscow  21:59:46     Friday  \n",
       "\n",
       "[42741 rows x 7 columns]"
      ]
     },
     "metadata": {},
     "output_type": "display_data"
    }
   ],
   "source": [
    "# получение таблицы moscow_general из тех строк таблицы df, \n",
    "# для которых значение в столбце 'city' равно 'Moscow'\n",
    "moscow_general = df[df['city'] == 'Moscow']\n",
    "display(moscow_general)"
   ]
  },
  {
   "cell_type": "code",
   "execution_count": 30,
   "metadata": {
    "id": "ORaVRKto_Zcu"
   },
   "outputs": [
    {
     "data": {
      "text/html": [
       "<div>\n",
       "<style scoped>\n",
       "    .dataframe tbody tr th:only-of-type {\n",
       "        vertical-align: middle;\n",
       "    }\n",
       "\n",
       "    .dataframe tbody tr th {\n",
       "        vertical-align: top;\n",
       "    }\n",
       "\n",
       "    .dataframe thead th {\n",
       "        text-align: right;\n",
       "    }\n",
       "</style>\n",
       "<table border=\"1\" class=\"dataframe\">\n",
       "  <thead>\n",
       "    <tr style=\"text-align: right;\">\n",
       "      <th></th>\n",
       "      <th>user_id</th>\n",
       "      <th>track</th>\n",
       "      <th>artist</th>\n",
       "      <th>genre</th>\n",
       "      <th>city</th>\n",
       "      <th>time</th>\n",
       "      <th>day</th>\n",
       "    </tr>\n",
       "  </thead>\n",
       "  <tbody>\n",
       "    <tr>\n",
       "      <th>0</th>\n",
       "      <td>FFB692EC</td>\n",
       "      <td>Kamigata To Boots</td>\n",
       "      <td>The Mass Missile</td>\n",
       "      <td>rock</td>\n",
       "      <td>Saint-Petersburg</td>\n",
       "      <td>20:28:33</td>\n",
       "      <td>Wednesday</td>\n",
       "    </tr>\n",
       "    <tr>\n",
       "      <th>2</th>\n",
       "      <td>20EC38</td>\n",
       "      <td>Funiculì funiculà</td>\n",
       "      <td>Mario Lanza</td>\n",
       "      <td>pop</td>\n",
       "      <td>Saint-Petersburg</td>\n",
       "      <td>20:58:07</td>\n",
       "      <td>Wednesday</td>\n",
       "    </tr>\n",
       "    <tr>\n",
       "      <th>3</th>\n",
       "      <td>A3DD03C9</td>\n",
       "      <td>Dragons in the Sunset</td>\n",
       "      <td>Fire + Ice</td>\n",
       "      <td>folk</td>\n",
       "      <td>Saint-Petersburg</td>\n",
       "      <td>08:37:09</td>\n",
       "      <td>Monday</td>\n",
       "    </tr>\n",
       "    <tr>\n",
       "      <th>5</th>\n",
       "      <td>842029A1</td>\n",
       "      <td>Преданная</td>\n",
       "      <td>IMPERVTOR</td>\n",
       "      <td>rusrap</td>\n",
       "      <td>Saint-Petersburg</td>\n",
       "      <td>13:09:41</td>\n",
       "      <td>Friday</td>\n",
       "    </tr>\n",
       "    <tr>\n",
       "      <th>9</th>\n",
       "      <td>E772D5C0</td>\n",
       "      <td>Pessimist</td>\n",
       "      <td>unknown</td>\n",
       "      <td>dance</td>\n",
       "      <td>Saint-Petersburg</td>\n",
       "      <td>21:20:49</td>\n",
       "      <td>Wednesday</td>\n",
       "    </tr>\n",
       "    <tr>\n",
       "      <th>...</th>\n",
       "      <td>...</td>\n",
       "      <td>...</td>\n",
       "      <td>...</td>\n",
       "      <td>...</td>\n",
       "      <td>...</td>\n",
       "      <td>...</td>\n",
       "      <td>...</td>\n",
       "    </tr>\n",
       "    <tr>\n",
       "      <th>61239</th>\n",
       "      <td>D94F810B</td>\n",
       "      <td>Theme from the Walking Dead</td>\n",
       "      <td>Proyecto Halloween</td>\n",
       "      <td>film</td>\n",
       "      <td>Saint-Petersburg</td>\n",
       "      <td>21:14:40</td>\n",
       "      <td>Monday</td>\n",
       "    </tr>\n",
       "    <tr>\n",
       "      <th>61240</th>\n",
       "      <td>BC8EC5CF</td>\n",
       "      <td>Red Lips: Gta (Rover Rework)</td>\n",
       "      <td>Rover</td>\n",
       "      <td>electronic</td>\n",
       "      <td>Saint-Petersburg</td>\n",
       "      <td>21:06:50</td>\n",
       "      <td>Monday</td>\n",
       "    </tr>\n",
       "    <tr>\n",
       "      <th>61241</th>\n",
       "      <td>29E04611</td>\n",
       "      <td>Bre Petrunko</td>\n",
       "      <td>Perunika Trio</td>\n",
       "      <td>world</td>\n",
       "      <td>Saint-Petersburg</td>\n",
       "      <td>13:56:00</td>\n",
       "      <td>Monday</td>\n",
       "    </tr>\n",
       "    <tr>\n",
       "      <th>61242</th>\n",
       "      <td>1B91C621</td>\n",
       "      <td>(Hello) Cloud Mountain</td>\n",
       "      <td>sleepmakeswaves</td>\n",
       "      <td>postrock</td>\n",
       "      <td>Saint-Petersburg</td>\n",
       "      <td>09:22:13</td>\n",
       "      <td>Monday</td>\n",
       "    </tr>\n",
       "    <tr>\n",
       "      <th>61249</th>\n",
       "      <td>D08D4A55</td>\n",
       "      <td>Maybe One Day (feat. Black Spade)</td>\n",
       "      <td>Blu &amp; Exile</td>\n",
       "      <td>hiphop</td>\n",
       "      <td>Saint-Petersburg</td>\n",
       "      <td>10:00:00</td>\n",
       "      <td>Monday</td>\n",
       "    </tr>\n",
       "  </tbody>\n",
       "</table>\n",
       "<p>18512 rows × 7 columns</p>\n",
       "</div>"
      ],
      "text/plain": [
       "        user_id                              track              artist  \\\n",
       "0      FFB692EC                  Kamigata To Boots    The Mass Missile   \n",
       "2        20EC38                  Funiculì funiculà         Mario Lanza   \n",
       "3      A3DD03C9              Dragons in the Sunset          Fire + Ice   \n",
       "5      842029A1                          Преданная           IMPERVTOR   \n",
       "9      E772D5C0                          Pessimist             unknown   \n",
       "...         ...                                ...                 ...   \n",
       "61239  D94F810B        Theme from the Walking Dead  Proyecto Halloween   \n",
       "61240  BC8EC5CF       Red Lips: Gta (Rover Rework)               Rover   \n",
       "61241  29E04611                       Bre Petrunko       Perunika Trio   \n",
       "61242  1B91C621             (Hello) Cloud Mountain     sleepmakeswaves   \n",
       "61249  D08D4A55  Maybe One Day (feat. Black Spade)         Blu & Exile   \n",
       "\n",
       "            genre              city      time        day  \n",
       "0            rock  Saint-Petersburg  20:28:33  Wednesday  \n",
       "2             pop  Saint-Petersburg  20:58:07  Wednesday  \n",
       "3            folk  Saint-Petersburg  08:37:09     Monday  \n",
       "5          rusrap  Saint-Petersburg  13:09:41     Friday  \n",
       "9           dance  Saint-Petersburg  21:20:49  Wednesday  \n",
       "...           ...               ...       ...        ...  \n",
       "61239        film  Saint-Petersburg  21:14:40     Monday  \n",
       "61240  electronic  Saint-Petersburg  21:06:50     Monday  \n",
       "61241       world  Saint-Petersburg  13:56:00     Monday  \n",
       "61242    postrock  Saint-Petersburg  09:22:13     Monday  \n",
       "61249      hiphop  Saint-Petersburg  10:00:00     Monday  \n",
       "\n",
       "[18512 rows x 7 columns]"
      ]
     },
     "metadata": {},
     "output_type": "display_data"
    }
   ],
   "source": [
    "# получение таблицы spb_general из тех строк таблицы df,\n",
    "# для которых значение в столбце 'city' равно 'Saint-Petersburg'\n",
    "spb_general = df[df['city']=='Saint-Petersburg']\n",
    "display(spb_general)"
   ]
  },
  {
   "cell_type": "markdown",
   "metadata": {},
   "source": [
    "<font color='DarkBlue'><b>Комментарий ревьюера 2</b></font><br>\n",
    "<font color='DarkGreen'>👌 Правильно используется логическая индексация.</font><br>\n",
    "<font color='DarkMagenta'>👉 При преобразованиях и извлечениях данных из таблиц рекомендуется просматривать результат преобразования. Если мы это сделали, но потом удалили, то лучше вернуть. В учебном проекте мы демонстрируем применение навыков работы с таблицей.</font>"
   ]
  },
  {
   "cell_type": "markdown",
   "metadata": {},
   "source": [
    "<font color='DarkBlue'><b>Комментарий ревьюера 3</b></font><br>\n",
    "<font color='DarkGreen'>👌 Молодец, правильное решение. 👍</font>"
   ]
  },
  {
   "cell_type": "markdown",
   "metadata": {
    "id": "MEJV-CX2_Zcu"
   },
   "source": [
    "Создайте функцию `genre_weekday()` с четырьмя параметрами:\n",
    "* таблица (датафрейм) с данными,\n",
    "* день недели,\n",
    "* начальная временная метка в формате 'hh:mm', \n",
    "* последняя временная метка в формате 'hh:mm'.\n",
    "\n",
    "Функция должна вернуть информацию о топ-10 жанров тех треков, которые прослушивали в указанный день, в промежутке между двумя отметками времени."
   ]
  },
  {
   "cell_type": "code",
   "execution_count": 31,
   "metadata": {
    "id": "laJT9BYl_Zcu"
   },
   "outputs": [],
   "source": [
    "def genre_weekday(table, day, time1, time2):\n",
    "    genre_df = df[(df['day'] == day) & (df['time'] > time1) & (df['time'] <= time2)]\n",
    "\n",
    "    genre_df_count = genre_df.groupby('genre')['genre'].count()\n",
    "    genre_df_sorted = genre_df_count.sort_values(ascending=False)\n",
    "    return genre_df_sorted.head(10)\n",
    "\n",
    "    \n",
    "\n",
    "\n",
    "\n",
    "# Объявление функции genre_weekday() с параметрами table, day, time1, time2,\n",
    "# которая возвращает информацию о самых популярных жанрах в указанный день в\n",
    "# заданное время:\n",
    "# 1) в переменную genre_df сохраняются те строки переданного датафрейма table, для\n",
    "#    которых одновременно:\n",
    "#    - значение в столбце day равно значению аргумента day\n",
    "#    - значение в столбце time больше значения аргумента time1\n",
    "#    - значение в столбце time меньше значения аргумента time2\n",
    "#    Используйте последовательную фильтрацию с помощью логической индексации.\n",
    "# 2) сгруппировать датафрейм genre_df по столбцу genre, взять один из его\n",
    "#    столбцов и посчитать методом count() количество записей для каждого из\n",
    "#    присутствующих жанров, получившийся Series записать в переменную\n",
    "#    genre_df_count\n",
    "# 3) отсортировать genre_df_count по убыванию встречаемости и сохранить\n",
    "#    в переменную genre_df_sorted\n",
    "# 4) вернуть Series из 10 первых значений genre_df_sorted, это будут топ-10\n",
    "#    популярных жанров (в указанный день, в заданное время)"
   ]
  },
  {
   "cell_type": "markdown",
   "metadata": {},
   "source": [
    "<font color='DarkBlue'><b>Комментарий ревьюера 2</b></font><br>\n",
    "<font color='DarkGreen'>👌 Хорошо сделана фильтрация.</font><br>\n",
    "<font color='DarkMagenta'>👉 И не обычное применение метода .haed(10). Ожидалось использование среза. Да, результат одинаковый, но у потенциального работодателя могут возникнуть вопросы по такому коду .</font>"
   ]
  },
  {
   "cell_type": "markdown",
   "metadata": {
    "id": "la2s2_PF_Zcu"
   },
   "source": [
    "Cравните результаты функции `genre_weekday()` для Москвы и Санкт-Петербурга в понедельник утром (с 7:00 до 11:00) и в пятницу вечером (с 17:00 до 23:00):"
   ]
  },
  {
   "cell_type": "code",
   "execution_count": 32,
   "metadata": {
    "id": "yz7itPUQ_Zcu"
   },
   "outputs": [
    {
     "data": {
      "text/plain": [
       "genre\n",
       "pop            999\n",
       "dance          731\n",
       "rock           636\n",
       "electronic     627\n",
       "hiphop         366\n",
       "ruspop         250\n",
       "rusrap         230\n",
       "alternative    222\n",
       "world          217\n",
       "classical      197\n",
       "Name: genre, dtype: int64"
      ]
     },
     "execution_count": 32,
     "metadata": {},
     "output_type": "execute_result"
    }
   ],
   "source": [
    "genre_weekday(moscow_general, 'Monday', '07:00:00', '11:00:00')\n",
    "# вызов функции для утра понедельника в Москве (вместо df — таблица moscow_general)\n",
    "# объекты, хранящие время, являются строками и сравниваются как строки\n",
    "# пример вызова: genre_weekday(moscow_general, 'Monday', '07:00', '11:00')"
   ]
  },
  {
   "cell_type": "code",
   "execution_count": 33,
   "metadata": {
    "id": "kwUcHPdy_Zcu"
   },
   "outputs": [
    {
     "data": {
      "text/plain": [
       "genre\n",
       "pop            999\n",
       "dance          731\n",
       "rock           636\n",
       "electronic     627\n",
       "hiphop         366\n",
       "ruspop         250\n",
       "rusrap         230\n",
       "alternative    222\n",
       "world          217\n",
       "classical      197\n",
       "Name: genre, dtype: int64"
      ]
     },
     "execution_count": 33,
     "metadata": {},
     "output_type": "execute_result"
    }
   ],
   "source": [
    "genre_weekday(spb_general, 'Monday', '07:00:00', '11:00:00')"
   ]
  },
  {
   "cell_type": "code",
   "execution_count": 34,
   "metadata": {
    "id": "EzXVRE1o_Zcu"
   },
   "outputs": [
    {
     "data": {
      "text/plain": [
       "genre\n",
       "pop            969\n",
       "rock           733\n",
       "dance          705\n",
       "electronic     698\n",
       "hiphop         370\n",
       "world          262\n",
       "alternative    226\n",
       "classical      223\n",
       "ruspop         217\n",
       "rusrap         201\n",
       "Name: genre, dtype: int64"
      ]
     },
     "execution_count": 34,
     "metadata": {},
     "output_type": "execute_result"
    }
   ],
   "source": [
    "genre_weekday(moscow_general, 'Friday', '17:00:00', '23:00:00')"
   ]
  },
  {
   "cell_type": "code",
   "execution_count": 35,
   "metadata": {
    "id": "JZaEKu5v_Zcu"
   },
   "outputs": [
    {
     "data": {
      "text/plain": [
       "genre\n",
       "pop            969\n",
       "rock           733\n",
       "dance          705\n",
       "electronic     698\n",
       "hiphop         370\n",
       "world          262\n",
       "alternative    226\n",
       "classical      223\n",
       "ruspop         217\n",
       "rusrap         201\n",
       "Name: genre, dtype: int64"
      ]
     },
     "execution_count": 35,
     "metadata": {},
     "output_type": "execute_result"
    }
   ],
   "source": [
    "genre_weekday(spb_general, 'Friday', '17:00:00', '23:00:00')"
   ]
  },
  {
   "cell_type": "markdown",
   "metadata": {},
   "source": [
    "<font color='DarkBlue'><b>Комментарий ревьюера 2</b></font><br>\n",
    "<font color='DarkGreen'>👌 Отлично! С помощью функции мы получили всю нужную информацию!</font>"
   ]
  },
  {
   "cell_type": "markdown",
   "metadata": {
    "id": "wrCe4MNX_Zcu"
   },
   "source": [
    "**Выводы**\n",
    "\n",
    "Если сравнить топ-10 жанров в понедельник утром, можно сделать такие выводы:\n",
    "\n",
    "1. В Москве и Петербурге слушают похожую музыку. Единственное отличие — в московский рейтинг вошёл жанр “world”, а в петербургский — джаз и классика.\n",
    "\n",
    "2. В Москве пропущенных значений оказалось так много, что значение `'unknown'` заняло десятое место среди самых популярных жанров. Значит, пропущенные значения занимают существенную долю в данных и угрожают достоверности исследования.\n",
    "\n",
    "Вечер пятницы не меняет эту картину. Некоторые жанры поднимаются немного выше, другие спускаются, но в целом топ-10 остаётся тем же самым.\n",
    "\n",
    "Таким образом, вторая гипотеза подтвердилась лишь частично:\n",
    "* Пользователи слушают похожую музыку в начале недели и в конце.\n",
    "* Разница между Москвой и Петербургом не слишком выражена. В Москве чаще слушают русскую популярную музыку, в Петербурге — джаз.\n",
    "\n",
    "Однако пропуски в данных ставят под сомнение этот результат. В Москве их так много, что рейтинг топ-10 мог бы выглядеть иначе, если бы не утерянные  данные о жанрах."
   ]
  },
  {
   "cell_type": "markdown",
   "metadata": {
    "id": "JolODAqr_Zcu"
   },
   "source": [
    "### Жанровые предпочтения в Москве и Петербурге\n",
    "\n",
    "Гипотеза: Петербург — столица рэпа, музыку этого жанра там слушают чаще, чем в Москве.  А Москва — город контрастов, в котором, тем не менее, преобладает поп-музыка."
   ]
  },
  {
   "cell_type": "markdown",
   "metadata": {
    "id": "DlegSvaT_Zcu"
   },
   "source": [
    "Сгруппируйте таблицу `moscow_general` по жанру и посчитайте прослушивания треков каждого жанра методом `count()`. Затем отсортируйте результат в порядке убывания и сохраните его в таблице `moscow_genres`."
   ]
  },
  {
   "cell_type": "code",
   "execution_count": 36,
   "metadata": {
    "id": "r19lIPke_Zcu"
   },
   "outputs": [],
   "source": [
    "moscow_genres = moscow_general.groupby('genre')['genre'].count().sort_values(ascending = False)\n",
    "\n",
    "# одной строкой: группировка таблицы moscow_general по столбцу 'genre', \n",
    "# подсчёт числа значений 'genre' в этой группировке методом count(), \n",
    "# сортировка получившегося Series в порядке убывания и сохранение в moscow_genres"
   ]
  },
  {
   "cell_type": "markdown",
   "metadata": {
    "id": "6kMuomxTiIr8"
   },
   "source": [
    "Выведите на экран первые десять строк `moscow_genres`:"
   ]
  },
  {
   "cell_type": "code",
   "execution_count": 37,
   "metadata": {
    "id": "WhCSooF8_Zcv"
   },
   "outputs": [
    {
     "data": {
      "text/plain": [
       "genre\n",
       "pop            5892\n",
       "dance          4435\n",
       "rock           3965\n",
       "electronic     3786\n",
       "hiphop         2096\n",
       "classical      1616\n",
       "world          1432\n",
       "alternative    1379\n",
       "ruspop         1372\n",
       "rusrap         1161\n",
       "Name: genre, dtype: int64"
      ]
     },
     "execution_count": 37,
     "metadata": {},
     "output_type": "execute_result"
    }
   ],
   "source": [
    "moscow_genres.head(10)# просмотр первых 10 строк moscow_genres"
   ]
  },
  {
   "cell_type": "markdown",
   "metadata": {
    "id": "cnPG2vnN_Zcv"
   },
   "source": [
    "Теперь повторите то же и для Петербурга.\n",
    "\n",
    "Сгруппируйте таблицу `spb_general` по жанру. Посчитайте прослушивания треков каждого жанра. Результат отсортируйте в порядке убывания и сохраните в таблице `spb_genres`:\n"
   ]
  },
  {
   "cell_type": "code",
   "execution_count": 38,
   "metadata": {
    "id": "gluLIpE7_Zcv"
   },
   "outputs": [],
   "source": [
    "spb_genres = spb_general.groupby('genre')['genre'].count().sort_values(ascending=False)\n",
    "# одной строкой: группировка таблицы spb_general по столбцу 'genre', \n",
    "# подсчёт числа значений 'genre' в этой группировке методом count(), \n",
    "# сортировка получившегося Series в порядке убывания и сохранение в spb_genres"
   ]
  },
  {
   "cell_type": "markdown",
   "metadata": {
    "id": "5Doha_ODgyQ8"
   },
   "source": [
    "Выведите на экран первые десять строк `spb_genres`:"
   ]
  },
  {
   "cell_type": "code",
   "execution_count": 39,
   "metadata": {
    "id": "uaGJHjVU_Zcv"
   },
   "outputs": [
    {
     "data": {
      "text/plain": [
       "genre\n",
       "pop            2431\n",
       "dance          1932\n",
       "rock           1879\n",
       "electronic     1736\n",
       "hiphop          960\n",
       "alternative     649\n",
       "classical       646\n",
       "rusrap          564\n",
       "ruspop          538\n",
       "world           515\n",
       "Name: genre, dtype: int64"
      ]
     },
     "execution_count": 39,
     "metadata": {},
     "output_type": "execute_result"
    }
   ],
   "source": [
    "spb_genres.head(10)# просмотр первых 10 строк spb_genres"
   ]
  },
  {
   "cell_type": "markdown",
   "metadata": {},
   "source": [
    "<font color='DarkBlue'><b>Комментарий ревьюера 2</b></font><br>\n",
    "<font color='DarkGreen'>👌 Молодец! Все правильно.</font>"
   ]
  },
  {
   "cell_type": "markdown",
   "metadata": {
    "id": "RY51YJYu_Zcv"
   },
   "source": [
    "**Выводы**"
   ]
  },
  {
   "cell_type": "markdown",
   "metadata": {
    "id": "nVhnJEm__Zcv"
   },
   "source": [
    "Гипотеза частично подтвердилась:\n",
    "* Поп-музыка — самый популярный жанр в Москве, как и предполагала гипотеза. Более того, в топ-10 жанров встречается близкий жанр — русская популярная музыка.\n",
    "* Вопреки ожиданиям, рэп одинаково популярен в Москве и Петербурге. \n"
   ]
  },
  {
   "cell_type": "markdown",
   "metadata": {
    "id": "ykKQ0N65_Zcv"
   },
   "source": [
    "## Итоги исследования"
   ]
  },
  {
   "cell_type": "markdown",
   "metadata": {
    "id": "tjUwbHb3_Zcv"
   },
   "source": [
    "Вы проверили три гипотезы и установили:\n",
    "\n",
    "1. День недели по-разному влияет на активность пользователей в Москве и Петербурге. \n",
    "\n",
    "Первая гипотеза полностью подтвердилась.\n",
    "\n",
    "2. Музыкальные предпочтения не сильно меняются в течение недели — будь то Москва или Петербург. Небольшие различия заметны в начале недели, по понедельникам:\n",
    "* в Москве слушают музыку жанра “world”,\n",
    "* в Петербурге — джаз и классику.\n",
    "\n",
    "Таким образом, вторая гипотеза подтвердилась лишь отчасти. Этот результат мог оказаться иным, если бы не пропуски в данных.\n",
    "\n",
    "3. Во вкусах пользователей Москвы и Петербурга больше общего чем различий. Вопреки ожиданиям, предпочтения жанров в Петербурге напоминают московские.\n",
    "\n",
    "Третья гипотеза не подтвердилась. Если различия в предпочтениях и существуют, на основной массе пользователей они незаметны.\n",
    "\n",
    "**На практике исследования содержат проверки статистических гипотез.**\n",
    "Из данных одного сервиса не всегда можно сделать вывод о всех жителях города.\n",
    "Проверки статистических гипотез покажут, насколько они достоверны, исходя из имеющихся данных. \n",
    "С методами проверок гипотез вы ещё познакомитесь в следующих темах."
   ]
  },
  {
   "cell_type": "markdown",
   "metadata": {},
   "source": [
    "<font color='DarkBlue'><b>Комментарий ревьюера 2</b></font><br>\n",
    "<font color='DarkGreen'>👌 Хочу обратить внимание на выводы/итоги исследования. Этот пример сделан командой Практикума, как образец. <br>\n",
    "В следующих проектах надо будет общие выводы писать самостоятельно на основе проведенного исследования и полученных результатов.</font>"
   ]
  },
  {
   "cell_type": "markdown",
   "metadata": {},
   "source": [
    "<font color='DarkBlue'><b>Заключительный комментарий ревьюера</b></font><br>\n",
    "<font color='DarkGreen'>👌 Анна!<br></font>\n",
    "<font color='Red'>🛠 Увы, должен прервать ревью из-за ошибки в коде. Настоятельно рекомендую перед отправкой проекта на ревью проверять в JupyterHub исполнение кода тетрадки.<br>\n",
    "Исправляй ошибки, в том числе уже обнаруженные:<br>\n",
    "Переделать переименование колонок таблицы. Необходимо отсортировать список жанров, согласно заданию.<br>\n",
    "Присылай проект. Если будут трудности, обратись к куратору. <br>Жду.</font>"
   ]
  },
  {
   "cell_type": "markdown",
   "metadata": {},
   "source": [
    "<font color='DarkBlue'><b>Заключительный комментарий ревьюера 2</b></font><br><br>\n",
    "<font color='DarkGreen'>👌 Анна, очень хороший проект, отлично структурирован. Так держать и дальше!<br></font>\n",
    "<font color='DarkMagenta'>👉 Главные проблемы начинающего Джуна: не делаем, что написано в задании или пишем лишний код. Но мы пока учимся и всему научимся.<br>\n",
    "<font color='Red'>🛠 Что нам нужно, что бы сделать проект лучше:<br>\n",
    "Необходимо отсортировать список жанров, согласно заданию. </font><br><font color='DarkMagenta'>👉 Договорились? </font><br>\n",
    "<font color='DarkGreen'>👌 Жду окончательный вариант! Успехов. </font>"
   ]
  },
  {
   "attachments": {
    "image.png": {
     "image/png": "[encoded data removed]"
    }
   },
   "cell_type": "markdown",
   "metadata": {},
   "source": [
    "<font color='DarkBlue'><b>Заключительный комментарий ревьюера 3</b></font><br><br>\n",
    "<font color='DarkGreen'>👌 Анна! УРА! Мы победили проект, как он не сопротивлялся! Нам удалось исправить огрехи в проекте и не наделать новых.  Мы молодцы! 😄<br>\n",
    "Кроме того, мы много важного узнали в процессе выполнения проекта. Нам это пригодится в будущем.<br></font>\n",
    "<font color='DarkGreen'>👌 Теперь, вперед за новыми знаниями и навыками! Удачи! 😉</font>\n",
    "![image.png](attachment:image.png)"
   ]
  }
 ],
 "metadata": {
  "ExecuteTimeLog": [
   {
    "duration": 48,
    "start_time": "2022-05-03T16:24:22.658Z"
   },
   {
    "duration": 7,
    "start_time": "2022-05-03T16:24:46.005Z"
   },
   {
    "duration": 12,
    "start_time": "2022-05-03T16:25:13.246Z"
   },
   {
    "duration": 5,
    "start_time": "2022-05-03T16:25:45.397Z"
   },
   {
    "duration": 5,
    "start_time": "2022-05-03T16:26:14.677Z"
   },
   {
    "duration": 5,
    "start_time": "2022-05-03T16:26:17.300Z"
   },
   {
    "duration": 7,
    "start_time": "2022-05-03T16:26:37.852Z"
   },
   {
    "duration": 7,
    "start_time": "2022-05-03T16:27:12.758Z"
   },
   {
    "duration": 6,
    "start_time": "2022-05-03T16:27:21.069Z"
   },
   {
    "duration": 7,
    "start_time": "2022-05-03T16:28:36.829Z"
   },
   {
    "duration": 10,
    "start_time": "2022-05-03T16:28:44.335Z"
   },
   {
    "duration": 5,
    "start_time": "2022-05-03T16:29:14.966Z"
   },
   {
    "duration": 6,
    "start_time": "2022-05-03T16:29:54.158Z"
   },
   {
    "duration": 7,
    "start_time": "2022-05-03T16:30:23.327Z"
   },
   {
    "duration": 7,
    "start_time": "2022-05-03T16:37:50.878Z"
   },
   {
    "duration": 6,
    "start_time": "2022-05-03T16:40:50.367Z"
   },
   {
    "duration": 422,
    "start_time": "2022-05-03T16:41:38.327Z"
   },
   {
    "duration": 657,
    "start_time": "2022-05-03T16:41:38.751Z"
   },
   {
    "duration": 18,
    "start_time": "2022-05-03T16:41:39.410Z"
   },
   {
    "duration": 39,
    "start_time": "2022-05-03T16:41:39.430Z"
   },
   {
    "duration": 2,
    "start_time": "2022-05-03T16:41:39.471Z"
   },
   {
    "duration": 6,
    "start_time": "2022-05-03T16:41:39.474Z"
   },
   {
    "duration": 5,
    "start_time": "2022-05-03T16:41:39.482Z"
   },
   {
    "duration": 9,
    "start_time": "2022-05-03T16:41:39.489Z"
   },
   {
    "duration": 5,
    "start_time": "2022-05-03T16:41:39.500Z"
   },
   {
    "duration": 4,
    "start_time": "2022-05-03T16:41:39.508Z"
   },
   {
    "duration": 6,
    "start_time": "2022-05-03T16:41:39.513Z"
   },
   {
    "duration": 3,
    "start_time": "2022-05-03T16:41:39.541Z"
   },
   {
    "duration": 8,
    "start_time": "2022-05-03T16:41:39.546Z"
   },
   {
    "duration": 6,
    "start_time": "2022-05-03T16:41:39.555Z"
   },
   {
    "duration": 5,
    "start_time": "2022-05-03T16:41:39.562Z"
   },
   {
    "duration": 4,
    "start_time": "2022-05-03T16:41:39.569Z"
   },
   {
    "duration": 5,
    "start_time": "2022-05-03T16:41:39.575Z"
   },
   {
    "duration": 5,
    "start_time": "2022-05-03T16:41:39.582Z"
   },
   {
    "duration": 4,
    "start_time": "2022-05-03T16:41:39.589Z"
   },
   {
    "duration": 6,
    "start_time": "2022-05-03T16:41:39.595Z"
   },
   {
    "duration": 7,
    "start_time": "2022-05-03T16:41:39.603Z"
   },
   {
    "duration": 5,
    "start_time": "2022-05-03T16:41:39.612Z"
   },
   {
    "duration": 4,
    "start_time": "2022-05-03T16:41:39.641Z"
   },
   {
    "duration": 6,
    "start_time": "2022-05-03T16:41:39.646Z"
   },
   {
    "duration": 5,
    "start_time": "2022-05-03T16:41:39.654Z"
   },
   {
    "duration": 9,
    "start_time": "2022-05-03T16:41:39.660Z"
   },
   {
    "duration": 5,
    "start_time": "2022-05-03T16:41:39.670Z"
   },
   {
    "duration": 3,
    "start_time": "2022-05-03T16:41:39.679Z"
   },
   {
    "duration": 3,
    "start_time": "2022-05-03T16:41:39.684Z"
   },
   {
    "duration": 5,
    "start_time": "2022-05-03T16:41:39.689Z"
   },
   {
    "duration": 6,
    "start_time": "2022-05-03T16:41:39.696Z"
   },
   {
    "duration": 4,
    "start_time": "2022-05-03T16:41:39.704Z"
   },
   {
    "duration": 29,
    "start_time": "2022-05-03T16:41:39.710Z"
   },
   {
    "duration": 10,
    "start_time": "2022-05-03T16:41:39.741Z"
   },
   {
    "duration": 6,
    "start_time": "2022-05-03T16:41:39.753Z"
   },
   {
    "duration": 8,
    "start_time": "2022-05-03T16:41:39.761Z"
   },
   {
    "duration": 6,
    "start_time": "2022-05-03T16:41:39.771Z"
   },
   {
    "duration": 4,
    "start_time": "2022-05-03T16:41:39.779Z"
   },
   {
    "duration": 393,
    "start_time": "2022-05-03T16:55:14.357Z"
   },
   {
    "duration": 162,
    "start_time": "2022-05-03T16:55:14.752Z"
   },
   {
    "duration": 27,
    "start_time": "2022-05-03T16:55:14.915Z"
   },
   {
    "duration": 29,
    "start_time": "2022-05-03T16:55:14.944Z"
   },
   {
    "duration": 83,
    "start_time": "2022-05-03T16:55:14.975Z"
   },
   {
    "duration": 0,
    "start_time": "2022-05-03T16:55:15.060Z"
   },
   {
    "duration": 0,
    "start_time": "2022-05-03T16:55:15.061Z"
   },
   {
    "duration": 0,
    "start_time": "2022-05-03T16:55:15.063Z"
   },
   {
    "duration": 0,
    "start_time": "2022-05-03T16:55:15.064Z"
   },
   {
    "duration": 0,
    "start_time": "2022-05-03T16:55:15.065Z"
   },
   {
    "duration": 0,
    "start_time": "2022-05-03T16:55:15.067Z"
   },
   {
    "duration": 0,
    "start_time": "2022-05-03T16:55:15.068Z"
   },
   {
    "duration": 0,
    "start_time": "2022-05-03T16:55:15.069Z"
   },
   {
    "duration": 0,
    "start_time": "2022-05-03T16:55:15.070Z"
   },
   {
    "duration": 0,
    "start_time": "2022-05-03T16:55:15.071Z"
   },
   {
    "duration": 0,
    "start_time": "2022-05-03T16:55:15.072Z"
   },
   {
    "duration": 0,
    "start_time": "2022-05-03T16:55:15.073Z"
   },
   {
    "duration": 0,
    "start_time": "2022-05-03T16:55:15.074Z"
   },
   {
    "duration": 0,
    "start_time": "2022-05-03T16:55:15.075Z"
   },
   {
    "duration": 0,
    "start_time": "2022-05-03T16:55:15.076Z"
   },
   {
    "duration": 0,
    "start_time": "2022-05-03T16:55:15.077Z"
   },
   {
    "duration": 0,
    "start_time": "2022-05-03T16:55:15.078Z"
   },
   {
    "duration": 0,
    "start_time": "2022-05-03T16:55:15.079Z"
   },
   {
    "duration": 0,
    "start_time": "2022-05-03T16:55:15.081Z"
   },
   {
    "duration": 0,
    "start_time": "2022-05-03T16:55:15.082Z"
   },
   {
    "duration": 0,
    "start_time": "2022-05-03T16:55:15.083Z"
   },
   {
    "duration": 0,
    "start_time": "2022-05-03T16:55:15.084Z"
   },
   {
    "duration": 0,
    "start_time": "2022-05-03T16:55:15.085Z"
   },
   {
    "duration": 0,
    "start_time": "2022-05-03T16:55:15.086Z"
   },
   {
    "duration": 0,
    "start_time": "2022-05-03T16:55:15.087Z"
   },
   {
    "duration": 0,
    "start_time": "2022-05-03T16:55:15.088Z"
   },
   {
    "duration": 0,
    "start_time": "2022-05-03T16:55:15.134Z"
   },
   {
    "duration": 0,
    "start_time": "2022-05-03T16:55:15.135Z"
   },
   {
    "duration": 0,
    "start_time": "2022-05-03T16:55:15.136Z"
   },
   {
    "duration": 0,
    "start_time": "2022-05-03T16:55:15.138Z"
   },
   {
    "duration": 0,
    "start_time": "2022-05-03T16:55:15.139Z"
   },
   {
    "duration": 0,
    "start_time": "2022-05-03T16:55:15.140Z"
   },
   {
    "duration": 0,
    "start_time": "2022-05-03T16:55:15.141Z"
   },
   {
    "duration": 3,
    "start_time": "2022-05-03T16:56:49.008Z"
   },
   {
    "duration": 3,
    "start_time": "2022-05-03T16:59:07.928Z"
   },
   {
    "duration": 3094,
    "start_time": "2022-05-03T17:00:05.870Z"
   },
   {
    "duration": 3039,
    "start_time": "2022-05-03T17:00:09.358Z"
   },
   {
    "duration": 8,
    "start_time": "2022-05-03T17:00:14.648Z"
   },
   {
    "duration": 3,
    "start_time": "2022-05-03T17:00:44.380Z"
   },
   {
    "duration": 2908,
    "start_time": "2022-05-03T17:01:03.839Z"
   },
   {
    "duration": 0,
    "start_time": "2022-05-03T17:01:06.749Z"
   },
   {
    "duration": 8,
    "start_time": "2022-05-03T17:01:10.847Z"
   },
   {
    "duration": 4,
    "start_time": "2022-05-03T17:01:56.028Z"
   },
   {
    "duration": 4,
    "start_time": "2022-05-03T17:03:01.079Z"
   },
   {
    "duration": 3,
    "start_time": "2022-05-03T17:03:05.758Z"
   },
   {
    "duration": 4,
    "start_time": "2022-05-03T17:03:07.798Z"
   },
   {
    "duration": 25,
    "start_time": "2022-05-03T17:10:53.750Z"
   },
   {
    "duration": 27,
    "start_time": "2022-05-03T17:11:28.118Z"
   },
   {
    "duration": 35,
    "start_time": "2022-05-03T17:15:22.758Z"
   },
   {
    "duration": 26,
    "start_time": "2022-05-03T17:15:37.830Z"
   },
   {
    "duration": 74,
    "start_time": "2022-05-03T17:16:27.328Z"
   },
   {
    "duration": 66,
    "start_time": "2022-05-03T17:16:42.558Z"
   },
   {
    "duration": 85,
    "start_time": "2022-05-03T17:17:03.471Z"
   },
   {
    "duration": 70,
    "start_time": "2022-05-03T17:17:05.532Z"
   },
   {
    "duration": 7,
    "start_time": "2022-05-03T17:28:53.119Z"
   },
   {
    "duration": 8,
    "start_time": "2022-05-03T17:31:22.839Z"
   },
   {
    "duration": 423,
    "start_time": "2022-05-03T17:31:32.943Z"
   },
   {
    "duration": 182,
    "start_time": "2022-05-03T17:31:33.368Z"
   },
   {
    "duration": 19,
    "start_time": "2022-05-03T17:31:33.551Z"
   },
   {
    "duration": 31,
    "start_time": "2022-05-03T17:31:33.572Z"
   },
   {
    "duration": 3,
    "start_time": "2022-05-03T17:31:33.606Z"
   },
   {
    "duration": 23,
    "start_time": "2022-05-03T17:31:33.611Z"
   },
   {
    "duration": 6,
    "start_time": "2022-05-03T17:31:33.636Z"
   },
   {
    "duration": 32,
    "start_time": "2022-05-03T17:31:33.644Z"
   },
   {
    "duration": 22,
    "start_time": "2022-05-03T17:31:33.678Z"
   },
   {
    "duration": 55,
    "start_time": "2022-05-03T17:31:33.702Z"
   },
   {
    "duration": 93,
    "start_time": "2022-05-03T17:31:33.759Z"
   },
   {
    "duration": 91,
    "start_time": "2022-05-03T17:31:33.854Z"
   },
   {
    "duration": 64,
    "start_time": "2022-05-03T17:31:33.946Z"
   },
   {
    "duration": 80,
    "start_time": "2022-05-03T17:31:34.014Z"
   },
   {
    "duration": 0,
    "start_time": "2022-05-03T17:31:34.095Z"
   },
   {
    "duration": 0,
    "start_time": "2022-05-03T17:31:34.096Z"
   },
   {
    "duration": 0,
    "start_time": "2022-05-03T17:31:34.097Z"
   },
   {
    "duration": 1,
    "start_time": "2022-05-03T17:31:34.098Z"
   },
   {
    "duration": 0,
    "start_time": "2022-05-03T17:31:34.100Z"
   },
   {
    "duration": 0,
    "start_time": "2022-05-03T17:31:34.101Z"
   },
   {
    "duration": 0,
    "start_time": "2022-05-03T17:31:34.102Z"
   },
   {
    "duration": 0,
    "start_time": "2022-05-03T17:31:34.103Z"
   },
   {
    "duration": 0,
    "start_time": "2022-05-03T17:31:34.104Z"
   },
   {
    "duration": 0,
    "start_time": "2022-05-03T17:31:34.105Z"
   },
   {
    "duration": 0,
    "start_time": "2022-05-03T17:31:34.106Z"
   },
   {
    "duration": 0,
    "start_time": "2022-05-03T17:31:34.107Z"
   },
   {
    "duration": 0,
    "start_time": "2022-05-03T17:31:34.137Z"
   },
   {
    "duration": 0,
    "start_time": "2022-05-03T17:31:34.139Z"
   },
   {
    "duration": 0,
    "start_time": "2022-05-03T17:31:34.140Z"
   },
   {
    "duration": 0,
    "start_time": "2022-05-03T17:31:34.141Z"
   },
   {
    "duration": 0,
    "start_time": "2022-05-03T17:31:34.142Z"
   },
   {
    "duration": 0,
    "start_time": "2022-05-03T17:31:34.143Z"
   },
   {
    "duration": 0,
    "start_time": "2022-05-03T17:31:34.144Z"
   },
   {
    "duration": 0,
    "start_time": "2022-05-03T17:31:34.145Z"
   },
   {
    "duration": 0,
    "start_time": "2022-05-03T17:31:34.147Z"
   },
   {
    "duration": 0,
    "start_time": "2022-05-03T17:31:34.148Z"
   },
   {
    "duration": 0,
    "start_time": "2022-05-03T17:31:34.149Z"
   },
   {
    "duration": 0,
    "start_time": "2022-05-03T17:31:34.150Z"
   },
   {
    "duration": 8,
    "start_time": "2022-05-03T17:32:00.235Z"
   },
   {
    "duration": 7,
    "start_time": "2022-05-03T17:36:10.729Z"
   },
   {
    "duration": 9,
    "start_time": "2022-05-03T17:36:31.113Z"
   },
   {
    "duration": 18640,
    "start_time": "2022-05-03T17:38:43.390Z"
   },
   {
    "duration": 3,
    "start_time": "2022-05-03T17:39:02.046Z"
   },
   {
    "duration": 24,
    "start_time": "2022-05-03T17:39:41.492Z"
   },
   {
    "duration": 23,
    "start_time": "2022-05-03T17:41:53.092Z"
   },
   {
    "duration": 28,
    "start_time": "2022-05-03T17:41:59.393Z"
   },
   {
    "duration": 24,
    "start_time": "2022-05-03T17:44:43.780Z"
   },
   {
    "duration": 24,
    "start_time": "2022-05-03T17:50:50.815Z"
   },
   {
    "duration": 28,
    "start_time": "2022-05-03T17:57:18.914Z"
   },
   {
    "duration": 29,
    "start_time": "2022-05-03T17:57:25.957Z"
   },
   {
    "duration": 30,
    "start_time": "2022-05-03T17:57:32.033Z"
   },
   {
    "duration": 27,
    "start_time": "2022-05-03T17:57:35.978Z"
   },
   {
    "duration": 28,
    "start_time": "2022-05-03T17:57:40.261Z"
   },
   {
    "duration": 27,
    "start_time": "2022-05-03T17:57:44.244Z"
   },
   {
    "duration": 166,
    "start_time": "2022-05-03T17:57:53.493Z"
   },
   {
    "duration": 165,
    "start_time": "2022-05-03T17:57:57.853Z"
   },
   {
    "duration": 26,
    "start_time": "2022-05-03T18:01:39.267Z"
   },
   {
    "duration": 3,
    "start_time": "2022-05-03T18:02:55.906Z"
   },
   {
    "duration": 3,
    "start_time": "2022-05-03T18:03:06.692Z"
   },
   {
    "duration": 8,
    "start_time": "2022-05-03T18:03:09.024Z"
   },
   {
    "duration": 2723,
    "start_time": "2022-05-03T18:08:59.506Z"
   },
   {
    "duration": 9,
    "start_time": "2022-05-03T18:11:31.920Z"
   },
   {
    "duration": 45,
    "start_time": "2022-05-03T18:22:18.048Z"
   },
   {
    "duration": 6,
    "start_time": "2022-05-03T18:22:37.550Z"
   },
   {
    "duration": 7,
    "start_time": "2022-05-03T18:22:45.070Z"
   },
   {
    "duration": 176,
    "start_time": "2022-05-03T18:22:48.210Z"
   },
   {
    "duration": 460,
    "start_time": "2022-05-03T18:22:53.408Z"
   },
   {
    "duration": 179,
    "start_time": "2022-05-03T18:22:53.870Z"
   },
   {
    "duration": 19,
    "start_time": "2022-05-03T18:22:54.051Z"
   },
   {
    "duration": 34,
    "start_time": "2022-05-03T18:22:54.071Z"
   },
   {
    "duration": 3,
    "start_time": "2022-05-03T18:22:54.107Z"
   },
   {
    "duration": 22,
    "start_time": "2022-05-03T18:22:54.112Z"
   },
   {
    "duration": 21,
    "start_time": "2022-05-03T18:22:54.136Z"
   },
   {
    "duration": 30,
    "start_time": "2022-05-03T18:22:54.158Z"
   },
   {
    "duration": 22,
    "start_time": "2022-05-03T18:22:54.190Z"
   },
   {
    "duration": 37,
    "start_time": "2022-05-03T18:22:54.214Z"
   },
   {
    "duration": 84,
    "start_time": "2022-05-03T18:22:54.252Z"
   },
   {
    "duration": 96,
    "start_time": "2022-05-03T18:22:54.338Z"
   },
   {
    "duration": 78,
    "start_time": "2022-05-03T18:22:54.435Z"
   },
   {
    "duration": 41,
    "start_time": "2022-05-03T18:22:54.518Z"
   },
   {
    "duration": 189,
    "start_time": "2022-05-03T18:22:54.561Z"
   },
   {
    "duration": 0,
    "start_time": "2022-05-03T18:22:54.752Z"
   },
   {
    "duration": 0,
    "start_time": "2022-05-03T18:22:54.754Z"
   },
   {
    "duration": 0,
    "start_time": "2022-05-03T18:22:54.755Z"
   },
   {
    "duration": 0,
    "start_time": "2022-05-03T18:22:54.756Z"
   },
   {
    "duration": 0,
    "start_time": "2022-05-03T18:22:54.757Z"
   },
   {
    "duration": 0,
    "start_time": "2022-05-03T18:22:54.758Z"
   },
   {
    "duration": 0,
    "start_time": "2022-05-03T18:22:54.759Z"
   },
   {
    "duration": 0,
    "start_time": "2022-05-03T18:22:54.760Z"
   },
   {
    "duration": 0,
    "start_time": "2022-05-03T18:22:54.761Z"
   },
   {
    "duration": 0,
    "start_time": "2022-05-03T18:22:54.763Z"
   },
   {
    "duration": 0,
    "start_time": "2022-05-03T18:22:54.764Z"
   },
   {
    "duration": 0,
    "start_time": "2022-05-03T18:22:54.765Z"
   },
   {
    "duration": 0,
    "start_time": "2022-05-03T18:22:54.766Z"
   },
   {
    "duration": 0,
    "start_time": "2022-05-03T18:22:54.767Z"
   },
   {
    "duration": 0,
    "start_time": "2022-05-03T18:22:54.768Z"
   },
   {
    "duration": 0,
    "start_time": "2022-05-03T18:22:54.769Z"
   },
   {
    "duration": 0,
    "start_time": "2022-05-03T18:22:54.770Z"
   },
   {
    "duration": 0,
    "start_time": "2022-05-03T18:22:54.771Z"
   },
   {
    "duration": 0,
    "start_time": "2022-05-03T18:22:54.772Z"
   },
   {
    "duration": 0,
    "start_time": "2022-05-03T18:22:54.773Z"
   },
   {
    "duration": 0,
    "start_time": "2022-05-03T18:22:54.774Z"
   },
   {
    "duration": 0,
    "start_time": "2022-05-03T18:22:54.774Z"
   },
   {
    "duration": 0,
    "start_time": "2022-05-03T18:22:54.775Z"
   },
   {
    "duration": 206,
    "start_time": "2022-05-03T18:23:19.868Z"
   },
   {
    "duration": 187,
    "start_time": "2022-05-03T18:23:26.587Z"
   },
   {
    "duration": 4,
    "start_time": "2022-05-03T18:24:01.813Z"
   },
   {
    "duration": 70,
    "start_time": "2022-05-03T18:24:43.727Z"
   },
   {
    "duration": 3,
    "start_time": "2022-05-03T18:27:12.388Z"
   },
   {
    "duration": 10,
    "start_time": "2022-05-03T18:28:25.260Z"
   },
   {
    "duration": 453,
    "start_time": "2022-05-03T18:28:39.219Z"
   },
   {
    "duration": 175,
    "start_time": "2022-05-03T18:28:39.674Z"
   },
   {
    "duration": 18,
    "start_time": "2022-05-03T18:28:39.851Z"
   },
   {
    "duration": 31,
    "start_time": "2022-05-03T18:28:39.870Z"
   },
   {
    "duration": 3,
    "start_time": "2022-05-03T18:28:39.904Z"
   },
   {
    "duration": 5,
    "start_time": "2022-05-03T18:28:39.936Z"
   },
   {
    "duration": 11,
    "start_time": "2022-05-03T18:28:39.944Z"
   },
   {
    "duration": 30,
    "start_time": "2022-05-03T18:28:39.956Z"
   },
   {
    "duration": 21,
    "start_time": "2022-05-03T18:28:39.987Z"
   },
   {
    "duration": 56,
    "start_time": "2022-05-03T18:28:40.010Z"
   },
   {
    "duration": 82,
    "start_time": "2022-05-03T18:28:40.067Z"
   },
   {
    "duration": 74,
    "start_time": "2022-05-03T18:28:40.151Z"
   },
   {
    "duration": 64,
    "start_time": "2022-05-03T18:28:40.238Z"
   },
   {
    "duration": 39,
    "start_time": "2022-05-03T18:28:40.306Z"
   },
   {
    "duration": 6,
    "start_time": "2022-05-03T18:28:40.347Z"
   },
   {
    "duration": 69,
    "start_time": "2022-05-03T18:28:40.355Z"
   },
   {
    "duration": 0,
    "start_time": "2022-05-03T18:28:40.436Z"
   },
   {
    "duration": 0,
    "start_time": "2022-05-03T18:28:40.439Z"
   },
   {
    "duration": 0,
    "start_time": "2022-05-03T18:28:40.443Z"
   },
   {
    "duration": 0,
    "start_time": "2022-05-03T18:28:40.445Z"
   },
   {
    "duration": 0,
    "start_time": "2022-05-03T18:28:40.446Z"
   },
   {
    "duration": 0,
    "start_time": "2022-05-03T18:28:40.447Z"
   },
   {
    "duration": 0,
    "start_time": "2022-05-03T18:28:40.449Z"
   },
   {
    "duration": 0,
    "start_time": "2022-05-03T18:28:40.450Z"
   },
   {
    "duration": 0,
    "start_time": "2022-05-03T18:28:40.451Z"
   },
   {
    "duration": 0,
    "start_time": "2022-05-03T18:28:40.452Z"
   },
   {
    "duration": 0,
    "start_time": "2022-05-03T18:28:40.453Z"
   },
   {
    "duration": 0,
    "start_time": "2022-05-03T18:28:40.454Z"
   },
   {
    "duration": 0,
    "start_time": "2022-05-03T18:28:40.455Z"
   },
   {
    "duration": 0,
    "start_time": "2022-05-03T18:28:40.456Z"
   },
   {
    "duration": 0,
    "start_time": "2022-05-03T18:28:40.457Z"
   },
   {
    "duration": 0,
    "start_time": "2022-05-03T18:28:40.458Z"
   },
   {
    "duration": 0,
    "start_time": "2022-05-03T18:28:40.460Z"
   },
   {
    "duration": 0,
    "start_time": "2022-05-03T18:28:40.461Z"
   },
   {
    "duration": 0,
    "start_time": "2022-05-03T18:28:40.462Z"
   },
   {
    "duration": 0,
    "start_time": "2022-05-03T18:28:40.463Z"
   },
   {
    "duration": 0,
    "start_time": "2022-05-03T18:28:40.464Z"
   },
   {
    "duration": 0,
    "start_time": "2022-05-03T18:28:40.465Z"
   },
   {
    "duration": 3,
    "start_time": "2022-05-03T18:30:41.668Z"
   },
   {
    "duration": 4,
    "start_time": "2022-05-03T18:30:58.248Z"
   },
   {
    "duration": 4,
    "start_time": "2022-05-03T18:31:16.132Z"
   },
   {
    "duration": 2932,
    "start_time": "2022-05-03T18:31:29.158Z"
   },
   {
    "duration": 4,
    "start_time": "2022-05-03T18:32:01.583Z"
   },
   {
    "duration": 3,
    "start_time": "2022-05-03T18:32:03.712Z"
   },
   {
    "duration": 3,
    "start_time": "2022-05-03T18:32:11.219Z"
   },
   {
    "duration": 3,
    "start_time": "2022-05-03T18:32:17.631Z"
   },
   {
    "duration": 4,
    "start_time": "2022-05-03T18:34:04.331Z"
   },
   {
    "duration": 4,
    "start_time": "2022-05-03T18:34:30.092Z"
   },
   {
    "duration": 4,
    "start_time": "2022-05-03T18:34:40.691Z"
   },
   {
    "duration": 3,
    "start_time": "2022-05-03T18:35:01.831Z"
   },
   {
    "duration": 424,
    "start_time": "2022-05-03T18:35:21.146Z"
   },
   {
    "duration": 825,
    "start_time": "2022-05-03T18:35:21.572Z"
   },
   {
    "duration": 19,
    "start_time": "2022-05-03T18:35:22.399Z"
   },
   {
    "duration": 51,
    "start_time": "2022-05-03T18:35:22.420Z"
   },
   {
    "duration": 4,
    "start_time": "2022-05-03T18:35:22.474Z"
   },
   {
    "duration": 6,
    "start_time": "2022-05-03T18:35:22.479Z"
   },
   {
    "duration": 8,
    "start_time": "2022-05-03T18:35:22.487Z"
   },
   {
    "duration": 57,
    "start_time": "2022-05-03T18:35:22.496Z"
   },
   {
    "duration": 20,
    "start_time": "2022-05-03T18:35:22.555Z"
   },
   {
    "duration": 25,
    "start_time": "2022-05-03T18:35:22.577Z"
   },
   {
    "duration": 90,
    "start_time": "2022-05-03T18:35:22.604Z"
   },
   {
    "duration": 93,
    "start_time": "2022-05-03T18:35:22.696Z"
   },
   {
    "duration": 79,
    "start_time": "2022-05-03T18:35:22.791Z"
   },
   {
    "duration": 24,
    "start_time": "2022-05-03T18:35:22.875Z"
   },
   {
    "duration": 9,
    "start_time": "2022-05-03T18:35:22.901Z"
   },
   {
    "duration": 5,
    "start_time": "2022-05-03T18:35:22.912Z"
   },
   {
    "duration": 5,
    "start_time": "2022-05-03T18:35:22.934Z"
   },
   {
    "duration": 13,
    "start_time": "2022-05-03T18:35:22.940Z"
   },
   {
    "duration": 6,
    "start_time": "2022-05-03T18:35:22.955Z"
   },
   {
    "duration": 6,
    "start_time": "2022-05-03T18:35:22.962Z"
   },
   {
    "duration": 7,
    "start_time": "2022-05-03T18:35:22.969Z"
   },
   {
    "duration": 5,
    "start_time": "2022-05-03T18:35:22.978Z"
   },
   {
    "duration": 5,
    "start_time": "2022-05-03T18:35:22.985Z"
   },
   {
    "duration": 5,
    "start_time": "2022-05-03T18:35:22.991Z"
   },
   {
    "duration": 5,
    "start_time": "2022-05-03T18:35:22.998Z"
   },
   {
    "duration": 7,
    "start_time": "2022-05-03T18:35:23.005Z"
   },
   {
    "duration": 5,
    "start_time": "2022-05-03T18:35:23.014Z"
   },
   {
    "duration": 3,
    "start_time": "2022-05-03T18:35:23.042Z"
   },
   {
    "duration": 7,
    "start_time": "2022-05-03T18:35:23.047Z"
   },
   {
    "duration": 5,
    "start_time": "2022-05-03T18:35:23.056Z"
   },
   {
    "duration": 8,
    "start_time": "2022-05-03T18:35:23.063Z"
   },
   {
    "duration": 6,
    "start_time": "2022-05-03T18:35:23.073Z"
   },
   {
    "duration": 10,
    "start_time": "2022-05-03T18:35:23.081Z"
   },
   {
    "duration": 5,
    "start_time": "2022-05-03T18:35:23.093Z"
   },
   {
    "duration": 5,
    "start_time": "2022-05-03T18:35:23.100Z"
   },
   {
    "duration": 6,
    "start_time": "2022-05-03T18:35:23.107Z"
   },
   {
    "duration": 6,
    "start_time": "2022-05-03T18:35:23.115Z"
   },
   {
    "duration": 11,
    "start_time": "2022-05-03T18:35:23.123Z"
   },
   {
    "duration": 186,
    "start_time": "2022-05-03T18:40:49.146Z"
   },
   {
    "duration": 249,
    "start_time": "2022-05-03T18:40:57.407Z"
   },
   {
    "duration": 90,
    "start_time": "2022-05-03T18:44:53.205Z"
   },
   {
    "duration": 28,
    "start_time": "2022-05-03T18:45:03.585Z"
   },
   {
    "duration": 23,
    "start_time": "2022-05-03T18:45:10.587Z"
   },
   {
    "duration": 3,
    "start_time": "2022-05-03T18:48:33.058Z"
   },
   {
    "duration": 3,
    "start_time": "2022-05-03T18:49:04.108Z"
   },
   {
    "duration": 3,
    "start_time": "2022-05-03T18:49:09.049Z"
   },
   {
    "duration": 404,
    "start_time": "2022-05-03T18:49:21.857Z"
   },
   {
    "duration": 164,
    "start_time": "2022-05-03T18:49:22.263Z"
   },
   {
    "duration": 17,
    "start_time": "2022-05-03T18:49:22.429Z"
   },
   {
    "duration": 31,
    "start_time": "2022-05-03T18:49:22.448Z"
   },
   {
    "duration": 4,
    "start_time": "2022-05-03T18:49:22.481Z"
   },
   {
    "duration": 6,
    "start_time": "2022-05-03T18:49:22.486Z"
   },
   {
    "duration": 6,
    "start_time": "2022-05-03T18:49:22.493Z"
   },
   {
    "duration": 52,
    "start_time": "2022-05-03T18:49:22.501Z"
   },
   {
    "duration": 28,
    "start_time": "2022-05-03T18:49:22.555Z"
   },
   {
    "duration": 25,
    "start_time": "2022-05-03T18:49:22.585Z"
   },
   {
    "duration": 82,
    "start_time": "2022-05-03T18:49:22.612Z"
   },
   {
    "duration": 91,
    "start_time": "2022-05-03T18:49:22.696Z"
   },
   {
    "duration": 72,
    "start_time": "2022-05-03T18:49:22.789Z"
   },
   {
    "duration": 25,
    "start_time": "2022-05-03T18:49:22.865Z"
   },
   {
    "duration": 11,
    "start_time": "2022-05-03T18:49:22.891Z"
   },
   {
    "duration": 7,
    "start_time": "2022-05-03T18:49:22.904Z"
   },
   {
    "duration": 6,
    "start_time": "2022-05-03T18:49:22.912Z"
   },
   {
    "duration": 15,
    "start_time": "2022-05-03T18:49:22.919Z"
   },
   {
    "duration": 5,
    "start_time": "2022-05-03T18:49:22.936Z"
   },
   {
    "duration": 5,
    "start_time": "2022-05-03T18:49:22.943Z"
   },
   {
    "duration": 13,
    "start_time": "2022-05-03T18:49:22.949Z"
   },
   {
    "duration": 4,
    "start_time": "2022-05-03T18:49:22.964Z"
   },
   {
    "duration": 5,
    "start_time": "2022-05-03T18:49:22.970Z"
   },
   {
    "duration": 6,
    "start_time": "2022-05-03T18:49:22.976Z"
   },
   {
    "duration": 12,
    "start_time": "2022-05-03T18:49:22.983Z"
   },
   {
    "duration": 10,
    "start_time": "2022-05-03T18:49:22.996Z"
   },
   {
    "duration": 8,
    "start_time": "2022-05-03T18:49:23.007Z"
   },
   {
    "duration": 6,
    "start_time": "2022-05-03T18:49:23.017Z"
   },
   {
    "duration": 7,
    "start_time": "2022-05-03T18:49:23.024Z"
   },
   {
    "duration": 5,
    "start_time": "2022-05-03T18:49:23.033Z"
   },
   {
    "duration": 9,
    "start_time": "2022-05-03T18:49:23.039Z"
   },
   {
    "duration": 5,
    "start_time": "2022-05-03T18:49:23.049Z"
   },
   {
    "duration": 13,
    "start_time": "2022-05-03T18:49:23.056Z"
   },
   {
    "duration": 4,
    "start_time": "2022-05-03T18:49:23.071Z"
   },
   {
    "duration": 8,
    "start_time": "2022-05-03T18:49:23.077Z"
   },
   {
    "duration": 7,
    "start_time": "2022-05-03T18:49:23.086Z"
   },
   {
    "duration": 5,
    "start_time": "2022-05-03T18:49:23.095Z"
   },
   {
    "duration": 5,
    "start_time": "2022-05-03T18:49:23.101Z"
   },
   {
    "duration": 3,
    "start_time": "2022-05-03T18:49:35.974Z"
   },
   {
    "duration": 3,
    "start_time": "2022-05-03T18:49:40.987Z"
   },
   {
    "duration": 2,
    "start_time": "2022-05-03T18:49:44.299Z"
   },
   {
    "duration": 3,
    "start_time": "2022-05-03T18:49:48.019Z"
   },
   {
    "duration": 3,
    "start_time": "2022-05-03T18:49:50.881Z"
   },
   {
    "duration": 217,
    "start_time": "2022-05-03T18:59:16.190Z"
   },
   {
    "duration": 166,
    "start_time": "2022-05-03T18:59:25.758Z"
   },
   {
    "duration": 2740,
    "start_time": "2022-05-03T19:00:22.769Z"
   },
   {
    "duration": 9,
    "start_time": "2022-05-03T19:04:25.812Z"
   },
   {
    "duration": 8,
    "start_time": "2022-05-03T19:04:30.846Z"
   },
   {
    "duration": 9,
    "start_time": "2022-05-03T19:04:40.532Z"
   },
   {
    "duration": 8,
    "start_time": "2022-05-03T19:04:58.832Z"
   },
   {
    "duration": 11,
    "start_time": "2022-05-03T19:13:24.724Z"
   },
   {
    "duration": 3,
    "start_time": "2022-05-03T19:13:36.153Z"
   },
   {
    "duration": 3,
    "start_time": "2022-05-03T19:13:53.312Z"
   },
   {
    "duration": 10,
    "start_time": "2022-05-03T19:14:01.134Z"
   },
   {
    "duration": 26,
    "start_time": "2022-05-03T19:14:10.399Z"
   },
   {
    "duration": 3,
    "start_time": "2022-05-03T19:14:37.862Z"
   },
   {
    "duration": 15,
    "start_time": "2022-05-03T19:20:00.008Z"
   },
   {
    "duration": 12,
    "start_time": "2022-05-03T19:21:17.441Z"
   },
   {
    "duration": 16,
    "start_time": "2022-05-03T19:21:23.129Z"
   },
   {
    "duration": 3,
    "start_time": "2022-05-03T19:28:26.519Z"
   },
   {
    "duration": 25,
    "start_time": "2022-05-03T19:28:30.231Z"
   },
   {
    "duration": 1271,
    "start_time": "2022-05-03T19:36:09.614Z"
   },
   {
    "duration": 310,
    "start_time": "2022-05-03T19:36:28.624Z"
   },
   {
    "duration": 179,
    "start_time": "2022-05-03T19:38:54.172Z"
   },
   {
    "duration": 159,
    "start_time": "2022-05-03T19:39:09.392Z"
   },
   {
    "duration": 167,
    "start_time": "2022-05-03T19:39:27.452Z"
   },
   {
    "duration": 5,
    "start_time": "2022-05-03T19:40:40.039Z"
   },
   {
    "duration": 6,
    "start_time": "2022-05-03T19:40:50.845Z"
   },
   {
    "duration": 158,
    "start_time": "2022-05-03T19:41:54.790Z"
   },
   {
    "duration": 175,
    "start_time": "2022-05-03T19:41:58.463Z"
   },
   {
    "duration": 182,
    "start_time": "2022-05-03T19:44:27.908Z"
   },
   {
    "duration": 182,
    "start_time": "2022-05-03T19:44:50.849Z"
   },
   {
    "duration": 6,
    "start_time": "2022-05-03T19:44:53.565Z"
   },
   {
    "duration": 159,
    "start_time": "2022-05-03T19:45:05.826Z"
   },
   {
    "duration": 163,
    "start_time": "2022-05-03T19:46:23.737Z"
   },
   {
    "duration": 7,
    "start_time": "2022-05-03T19:46:27.095Z"
   },
   {
    "duration": 4,
    "start_time": "2022-05-03T19:54:48.163Z"
   },
   {
    "duration": 9,
    "start_time": "2022-05-03T19:54:52.735Z"
   },
   {
    "duration": 6,
    "start_time": "2022-05-03T19:54:53.750Z"
   },
   {
    "duration": 3,
    "start_time": "2022-05-03T19:54:56.661Z"
   },
   {
    "duration": 11,
    "start_time": "2022-05-03T19:55:13.894Z"
   },
   {
    "duration": 8,
    "start_time": "2022-05-03T19:55:14.672Z"
   },
   {
    "duration": 6,
    "start_time": "2022-05-03T19:55:21.419Z"
   },
   {
    "duration": 367,
    "start_time": "2022-05-03T19:55:44.595Z"
   },
   {
    "duration": 181,
    "start_time": "2022-05-03T19:55:44.964Z"
   },
   {
    "duration": 18,
    "start_time": "2022-05-03T19:55:45.147Z"
   },
   {
    "duration": 32,
    "start_time": "2022-05-03T19:55:45.167Z"
   },
   {
    "duration": 3,
    "start_time": "2022-05-03T19:55:45.202Z"
   },
   {
    "duration": 37,
    "start_time": "2022-05-03T19:55:45.207Z"
   },
   {
    "duration": 9,
    "start_time": "2022-05-03T19:55:45.246Z"
   },
   {
    "duration": 27,
    "start_time": "2022-05-03T19:55:45.257Z"
   },
   {
    "duration": 21,
    "start_time": "2022-05-03T19:55:45.286Z"
   },
   {
    "duration": 39,
    "start_time": "2022-05-03T19:55:45.309Z"
   },
   {
    "duration": 68,
    "start_time": "2022-05-03T19:55:45.351Z"
   },
   {
    "duration": 96,
    "start_time": "2022-05-03T19:55:45.421Z"
   },
   {
    "duration": 67,
    "start_time": "2022-05-03T19:55:45.518Z"
   },
   {
    "duration": 25,
    "start_time": "2022-05-03T19:55:45.589Z"
   },
   {
    "duration": 34,
    "start_time": "2022-05-03T19:55:45.616Z"
   },
   {
    "duration": 12,
    "start_time": "2022-05-03T19:55:45.652Z"
   },
   {
    "duration": 4,
    "start_time": "2022-05-03T19:55:45.666Z"
   },
   {
    "duration": 16,
    "start_time": "2022-05-03T19:55:45.672Z"
   },
   {
    "duration": 13,
    "start_time": "2022-05-03T19:55:45.690Z"
   },
   {
    "duration": 4,
    "start_time": "2022-05-03T19:55:45.705Z"
   },
   {
    "duration": 38,
    "start_time": "2022-05-03T19:55:45.711Z"
   },
   {
    "duration": 91,
    "start_time": "2022-05-03T19:55:45.751Z"
   },
   {
    "duration": 0,
    "start_time": "2022-05-03T19:55:45.844Z"
   },
   {
    "duration": 0,
    "start_time": "2022-05-03T19:55:45.846Z"
   },
   {
    "duration": 0,
    "start_time": "2022-05-03T19:55:45.847Z"
   },
   {
    "duration": 0,
    "start_time": "2022-05-03T19:55:45.848Z"
   },
   {
    "duration": 0,
    "start_time": "2022-05-03T19:55:45.849Z"
   },
   {
    "duration": 0,
    "start_time": "2022-05-03T19:55:45.850Z"
   },
   {
    "duration": 0,
    "start_time": "2022-05-03T19:55:45.851Z"
   },
   {
    "duration": 0,
    "start_time": "2022-05-03T19:55:45.852Z"
   },
   {
    "duration": 0,
    "start_time": "2022-05-03T19:55:45.853Z"
   },
   {
    "duration": 0,
    "start_time": "2022-05-03T19:55:45.854Z"
   },
   {
    "duration": 0,
    "start_time": "2022-05-03T19:55:45.855Z"
   },
   {
    "duration": 0,
    "start_time": "2022-05-03T19:55:45.856Z"
   },
   {
    "duration": 0,
    "start_time": "2022-05-03T19:55:45.857Z"
   },
   {
    "duration": 0,
    "start_time": "2022-05-03T19:55:45.858Z"
   },
   {
    "duration": 0,
    "start_time": "2022-05-03T19:55:45.859Z"
   },
   {
    "duration": 0,
    "start_time": "2022-05-03T19:55:45.860Z"
   },
   {
    "duration": 17,
    "start_time": "2022-05-03T19:55:55.485Z"
   },
   {
    "duration": 7,
    "start_time": "2022-05-03T19:56:08.674Z"
   },
   {
    "duration": 7,
    "start_time": "2022-05-03T19:56:09.613Z"
   },
   {
    "duration": 16,
    "start_time": "2022-05-03T19:56:13.652Z"
   },
   {
    "duration": 16,
    "start_time": "2022-05-03T19:56:18.611Z"
   },
   {
    "duration": 17,
    "start_time": "2022-05-03T19:56:27.020Z"
   },
   {
    "duration": 18,
    "start_time": "2022-05-03T19:56:28.894Z"
   },
   {
    "duration": 16,
    "start_time": "2022-05-03T19:56:31.146Z"
   },
   {
    "duration": 9,
    "start_time": "2022-05-03T19:58:06.162Z"
   },
   {
    "duration": 12,
    "start_time": "2022-05-03T20:00:09.062Z"
   },
   {
    "duration": 10,
    "start_time": "2022-05-03T20:00:39.993Z"
   },
   {
    "duration": 4,
    "start_time": "2022-05-03T20:05:32.173Z"
   },
   {
    "duration": 21,
    "start_time": "2022-05-03T20:06:55.893Z"
   },
   {
    "duration": 27,
    "start_time": "2022-05-03T20:07:01.361Z"
   },
   {
    "duration": 21,
    "start_time": "2022-05-03T20:07:04.203Z"
   },
   {
    "duration": 28,
    "start_time": "2022-05-03T20:07:07.223Z"
   },
   {
    "duration": 4,
    "start_time": "2022-05-03T20:09:34.153Z"
   },
   {
    "duration": 27,
    "start_time": "2022-05-03T20:09:39.024Z"
   },
   {
    "duration": 5,
    "start_time": "2022-05-03T20:11:08.164Z"
   },
   {
    "duration": 32,
    "start_time": "2022-05-03T20:11:11.072Z"
   },
   {
    "duration": 372,
    "start_time": "2022-05-03T20:11:17.294Z"
   },
   {
    "duration": 172,
    "start_time": "2022-05-03T20:11:17.668Z"
   },
   {
    "duration": 21,
    "start_time": "2022-05-03T20:11:17.842Z"
   },
   {
    "duration": 32,
    "start_time": "2022-05-03T20:11:17.864Z"
   },
   {
    "duration": 4,
    "start_time": "2022-05-03T20:11:17.898Z"
   },
   {
    "duration": 4,
    "start_time": "2022-05-03T20:11:17.904Z"
   },
   {
    "duration": 32,
    "start_time": "2022-05-03T20:11:17.910Z"
   },
   {
    "duration": 33,
    "start_time": "2022-05-03T20:11:17.944Z"
   },
   {
    "duration": 26,
    "start_time": "2022-05-03T20:11:17.978Z"
   },
   {
    "duration": 35,
    "start_time": "2022-05-03T20:11:18.005Z"
   },
   {
    "duration": 80,
    "start_time": "2022-05-03T20:11:18.044Z"
   },
   {
    "duration": 92,
    "start_time": "2022-05-03T20:11:18.126Z"
   },
   {
    "duration": 78,
    "start_time": "2022-05-03T20:11:18.220Z"
   },
   {
    "duration": 35,
    "start_time": "2022-05-03T20:11:18.303Z"
   },
   {
    "duration": 15,
    "start_time": "2022-05-03T20:11:18.339Z"
   },
   {
    "duration": 15,
    "start_time": "2022-05-03T20:11:18.356Z"
   },
   {
    "duration": 5,
    "start_time": "2022-05-03T20:11:18.373Z"
   },
   {
    "duration": 17,
    "start_time": "2022-05-03T20:11:18.380Z"
   },
   {
    "duration": 11,
    "start_time": "2022-05-03T20:11:18.399Z"
   },
   {
    "duration": 3,
    "start_time": "2022-05-03T20:11:18.411Z"
   },
   {
    "duration": 24,
    "start_time": "2022-05-03T20:11:18.435Z"
   },
   {
    "duration": 14,
    "start_time": "2022-05-03T20:11:18.461Z"
   },
   {
    "duration": 15,
    "start_time": "2022-05-03T20:11:18.477Z"
   },
   {
    "duration": 14,
    "start_time": "2022-05-03T20:11:18.494Z"
   },
   {
    "duration": 21,
    "start_time": "2022-05-03T20:11:18.539Z"
   },
   {
    "duration": 14,
    "start_time": "2022-05-03T20:11:18.562Z"
   },
   {
    "duration": 9,
    "start_time": "2022-05-03T20:11:18.578Z"
   },
   {
    "duration": 14,
    "start_time": "2022-05-03T20:11:18.588Z"
   },
   {
    "duration": 44,
    "start_time": "2022-05-03T20:11:18.603Z"
   },
   {
    "duration": 7,
    "start_time": "2022-05-03T20:11:18.649Z"
   },
   {
    "duration": 27,
    "start_time": "2022-05-03T20:11:18.658Z"
   },
   {
    "duration": 21,
    "start_time": "2022-05-03T20:11:18.687Z"
   },
   {
    "duration": 45,
    "start_time": "2022-05-03T20:11:18.710Z"
   },
   {
    "duration": 24,
    "start_time": "2022-05-03T20:11:18.758Z"
   },
   {
    "duration": 2,
    "start_time": "2022-05-03T20:11:18.784Z"
   },
   {
    "duration": 6,
    "start_time": "2022-05-03T20:11:18.788Z"
   },
   {
    "duration": 5,
    "start_time": "2022-05-03T20:11:18.796Z"
   },
   {
    "duration": 5,
    "start_time": "2022-05-03T20:11:18.802Z"
   },
   {
    "duration": 91,
    "start_time": "2022-05-03T20:11:55.026Z"
   },
   {
    "duration": 6,
    "start_time": "2022-05-03T20:11:59.484Z"
   },
   {
    "duration": 22,
    "start_time": "2022-05-03T20:12:02.795Z"
   },
   {
    "duration": 22,
    "start_time": "2022-05-03T20:12:03.997Z"
   },
   {
    "duration": 6,
    "start_time": "2022-05-03T20:12:41.674Z"
   },
   {
    "duration": 4,
    "start_time": "2022-05-03T20:12:44.005Z"
   },
   {
    "duration": 25,
    "start_time": "2022-05-03T20:12:46.714Z"
   },
   {
    "duration": 23,
    "start_time": "2022-05-03T20:12:49.564Z"
   },
   {
    "duration": 22,
    "start_time": "2022-05-03T20:12:51.765Z"
   },
   {
    "duration": 23,
    "start_time": "2022-05-03T20:12:53.545Z"
   },
   {
    "duration": 10,
    "start_time": "2022-05-03T20:16:02.808Z"
   },
   {
    "duration": 5,
    "start_time": "2022-05-03T20:16:19.408Z"
   },
   {
    "duration": 8,
    "start_time": "2022-05-03T20:17:05.145Z"
   },
   {
    "duration": 6,
    "start_time": "2022-05-03T20:17:10.388Z"
   },
   {
    "duration": 5,
    "start_time": "2022-05-03T20:17:12.029Z"
   },
   {
    "duration": 3,
    "start_time": "2022-05-03T20:19:21.830Z"
   },
   {
    "duration": 10,
    "start_time": "2022-05-03T20:19:27.146Z"
   },
   {
    "duration": 4,
    "start_time": "2022-05-03T20:19:29.087Z"
   },
   {
    "duration": 2,
    "start_time": "2022-05-03T20:19:31.768Z"
   },
   {
    "duration": 3,
    "start_time": "2022-05-03T20:20:42.498Z"
   },
   {
    "duration": 4,
    "start_time": "2022-05-03T20:22:47.308Z"
   },
   {
    "duration": 3,
    "start_time": "2022-05-03T20:22:59.629Z"
   },
   {
    "duration": 3,
    "start_time": "2022-05-03T20:23:14.449Z"
   },
   {
    "duration": 4,
    "start_time": "2022-05-03T20:23:26.298Z"
   },
   {
    "duration": 3,
    "start_time": "2022-05-03T20:23:38.468Z"
   },
   {
    "duration": 3,
    "start_time": "2022-05-03T20:25:28.171Z"
   },
   {
    "duration": 3,
    "start_time": "2022-05-03T20:25:29.909Z"
   },
   {
    "duration": 3,
    "start_time": "2022-05-03T20:25:31.928Z"
   },
   {
    "duration": 348,
    "start_time": "2022-05-03T20:25:43.008Z"
   },
   {
    "duration": 4,
    "start_time": "2022-05-03T20:25:50.447Z"
   },
   {
    "duration": 353,
    "start_time": "2022-05-03T20:29:41.726Z"
   },
   {
    "duration": 7,
    "start_time": "2022-05-03T20:30:01.351Z"
   },
   {
    "duration": 442,
    "start_time": "2022-05-03T20:32:16.305Z"
   },
   {
    "duration": 173,
    "start_time": "2022-05-03T20:32:16.749Z"
   },
   {
    "duration": 21,
    "start_time": "2022-05-03T20:32:16.923Z"
   },
   {
    "duration": 32,
    "start_time": "2022-05-03T20:32:16.945Z"
   },
   {
    "duration": 4,
    "start_time": "2022-05-03T20:32:16.979Z"
   },
   {
    "duration": 8,
    "start_time": "2022-05-03T20:32:16.984Z"
   },
   {
    "duration": 8,
    "start_time": "2022-05-03T20:32:16.994Z"
   },
   {
    "duration": 26,
    "start_time": "2022-05-03T20:32:17.034Z"
   },
   {
    "duration": 23,
    "start_time": "2022-05-03T20:32:17.061Z"
   },
   {
    "duration": 26,
    "start_time": "2022-05-03T20:32:17.086Z"
   },
   {
    "duration": 69,
    "start_time": "2022-05-03T20:32:17.134Z"
   },
   {
    "duration": 95,
    "start_time": "2022-05-03T20:32:17.204Z"
   },
   {
    "duration": 68,
    "start_time": "2022-05-03T20:32:17.302Z"
   },
   {
    "duration": 397,
    "start_time": "2022-05-03T20:32:17.375Z"
   },
   {
    "duration": 3,
    "start_time": "2022-05-03T20:32:17.774Z"
   },
   {
    "duration": 5,
    "start_time": "2022-05-03T20:32:17.779Z"
   },
   {
    "duration": 8,
    "start_time": "2022-05-03T20:32:17.786Z"
   },
   {
    "duration": 39,
    "start_time": "2022-05-03T20:32:17.797Z"
   },
   {
    "duration": 21,
    "start_time": "2022-05-03T20:32:17.839Z"
   },
   {
    "duration": 4,
    "start_time": "2022-05-03T20:32:17.862Z"
   },
   {
    "duration": 20,
    "start_time": "2022-05-03T20:32:17.868Z"
   },
   {
    "duration": 14,
    "start_time": "2022-05-03T20:32:17.890Z"
   },
   {
    "duration": 15,
    "start_time": "2022-05-03T20:32:17.934Z"
   },
   {
    "duration": 13,
    "start_time": "2022-05-03T20:32:17.950Z"
   },
   {
    "duration": 16,
    "start_time": "2022-05-03T20:32:17.965Z"
   },
   {
    "duration": 13,
    "start_time": "2022-05-03T20:32:17.983Z"
   },
   {
    "duration": 41,
    "start_time": "2022-05-03T20:32:17.998Z"
   },
   {
    "duration": 19,
    "start_time": "2022-05-03T20:32:18.041Z"
   },
   {
    "duration": 10,
    "start_time": "2022-05-03T20:32:18.061Z"
   },
   {
    "duration": 5,
    "start_time": "2022-05-03T20:32:18.073Z"
   },
   {
    "duration": 26,
    "start_time": "2022-05-03T20:32:18.079Z"
   },
   {
    "duration": 32,
    "start_time": "2022-05-03T20:32:18.106Z"
   },
   {
    "duration": 19,
    "start_time": "2022-05-03T20:32:18.140Z"
   },
   {
    "duration": 26,
    "start_time": "2022-05-03T20:32:18.161Z"
   },
   {
    "duration": 11,
    "start_time": "2022-05-03T20:32:18.188Z"
   },
   {
    "duration": 11,
    "start_time": "2022-05-03T20:32:18.200Z"
   },
   {
    "duration": 33,
    "start_time": "2022-05-03T20:32:18.213Z"
   },
   {
    "duration": 14,
    "start_time": "2022-05-03T20:32:18.247Z"
   },
   {
    "duration": 8,
    "start_time": "2022-05-03T20:33:02.448Z"
   },
   {
    "duration": 375,
    "start_time": "2022-05-03T20:33:09.696Z"
   },
   {
    "duration": 4,
    "start_time": "2022-05-03T20:33:15.044Z"
   },
   {
    "duration": 6,
    "start_time": "2022-05-03T20:33:17.934Z"
   },
   {
    "duration": 3,
    "start_time": "2022-05-03T20:34:11.426Z"
   },
   {
    "duration": 167,
    "start_time": "2022-05-03T20:34:13.193Z"
   },
   {
    "duration": 11,
    "start_time": "2022-05-03T20:34:13.773Z"
   },
   {
    "duration": 30,
    "start_time": "2022-05-03T20:34:14.479Z"
   },
   {
    "duration": 3,
    "start_time": "2022-05-03T20:34:18.490Z"
   },
   {
    "duration": 3,
    "start_time": "2022-05-03T20:34:23.211Z"
   },
   {
    "duration": 4,
    "start_time": "2022-05-03T20:34:24.671Z"
   },
   {
    "duration": 27,
    "start_time": "2022-05-03T20:34:26.234Z"
   },
   {
    "duration": 18,
    "start_time": "2022-05-03T20:34:30.346Z"
   },
   {
    "duration": 26,
    "start_time": "2022-05-03T20:34:31.099Z"
   },
   {
    "duration": 70,
    "start_time": "2022-05-03T20:34:31.780Z"
   },
   {
    "duration": 72,
    "start_time": "2022-05-03T20:34:32.551Z"
   },
   {
    "duration": 57,
    "start_time": "2022-05-03T20:34:33.785Z"
   },
   {
    "duration": 376,
    "start_time": "2022-05-03T20:34:41.059Z"
   },
   {
    "duration": 3,
    "start_time": "2022-05-03T20:34:47.320Z"
   },
   {
    "duration": 4,
    "start_time": "2022-05-03T20:34:50.079Z"
   },
   {
    "duration": 7,
    "start_time": "2022-05-03T20:34:53.189Z"
   },
   {
    "duration": 6,
    "start_time": "2022-05-03T20:34:58.692Z"
   },
   {
    "duration": 2,
    "start_time": "2022-05-03T20:35:15.870Z"
   },
   {
    "duration": 4,
    "start_time": "2022-05-03T20:35:17.912Z"
   },
   {
    "duration": 6,
    "start_time": "2022-05-03T20:35:21.750Z"
   },
   {
    "duration": 4,
    "start_time": "2022-05-03T20:35:57.188Z"
   },
   {
    "duration": 3,
    "start_time": "2022-05-03T20:36:08.162Z"
   },
   {
    "duration": 4,
    "start_time": "2022-05-03T20:36:09.743Z"
   },
   {
    "duration": 4,
    "start_time": "2022-05-03T20:41:43.312Z"
   },
   {
    "duration": 11,
    "start_time": "2022-05-03T20:41:46.414Z"
   },
   {
    "duration": 6,
    "start_time": "2022-05-03T20:41:51.554Z"
   },
   {
    "duration": 3,
    "start_time": "2022-05-03T20:42:19.253Z"
   },
   {
    "duration": 11,
    "start_time": "2022-05-03T20:42:22.190Z"
   },
   {
    "duration": 7,
    "start_time": "2022-05-03T20:42:25.130Z"
   },
   {
    "duration": 12,
    "start_time": "2022-05-03T20:42:45.524Z"
   },
   {
    "duration": 3,
    "start_time": "2022-05-03T20:42:47.556Z"
   },
   {
    "duration": 7,
    "start_time": "2022-05-03T20:42:50.019Z"
   },
   {
    "duration": 12,
    "start_time": "2022-05-03T20:43:37.638Z"
   },
   {
    "duration": 11,
    "start_time": "2022-05-03T20:43:39.226Z"
   },
   {
    "duration": 3,
    "start_time": "2022-05-03T20:43:40.639Z"
   },
   {
    "duration": 6,
    "start_time": "2022-05-03T20:43:43.947Z"
   },
   {
    "duration": 355,
    "start_time": "2022-05-03T20:44:12.127Z"
   },
   {
    "duration": 6,
    "start_time": "2022-05-03T20:44:19.998Z"
   },
   {
    "duration": 49,
    "start_time": "2022-05-06T16:33:48.538Z"
   },
   {
    "duration": 425,
    "start_time": "2022-05-06T16:33:54.997Z"
   },
   {
    "duration": 166,
    "start_time": "2022-05-06T16:33:55.423Z"
   },
   {
    "duration": 19,
    "start_time": "2022-05-06T16:33:55.591Z"
   },
   {
    "duration": 9,
    "start_time": "2022-05-06T16:33:55.612Z"
   },
   {
    "duration": 33,
    "start_time": "2022-05-06T16:33:55.634Z"
   },
   {
    "duration": 20,
    "start_time": "2022-05-06T16:33:55.668Z"
   },
   {
    "duration": 15,
    "start_time": "2022-05-06T16:33:55.690Z"
   },
   {
    "duration": 28,
    "start_time": "2022-05-06T16:33:55.707Z"
   },
   {
    "duration": 43,
    "start_time": "2022-05-06T16:33:55.737Z"
   },
   {
    "duration": 34,
    "start_time": "2022-05-06T16:33:55.783Z"
   },
   {
    "duration": 27,
    "start_time": "2022-05-06T16:33:55.819Z"
   },
   {
    "duration": 69,
    "start_time": "2022-05-06T16:33:55.847Z"
   },
   {
    "duration": 94,
    "start_time": "2022-05-06T16:33:55.918Z"
   },
   {
    "duration": 74,
    "start_time": "2022-05-06T16:33:56.014Z"
   },
   {
    "duration": 379,
    "start_time": "2022-05-06T16:33:56.089Z"
   },
   {
    "duration": 2,
    "start_time": "2022-05-06T16:33:56.470Z"
   },
   {
    "duration": 82,
    "start_time": "2022-05-06T16:33:56.474Z"
   },
   {
    "duration": 0,
    "start_time": "2022-05-06T16:33:56.558Z"
   },
   {
    "duration": 0,
    "start_time": "2022-05-06T16:33:56.559Z"
   },
   {
    "duration": 0,
    "start_time": "2022-05-06T16:33:56.560Z"
   },
   {
    "duration": 0,
    "start_time": "2022-05-06T16:33:56.562Z"
   },
   {
    "duration": 0,
    "start_time": "2022-05-06T16:33:56.563Z"
   },
   {
    "duration": 0,
    "start_time": "2022-05-06T16:33:56.563Z"
   },
   {
    "duration": 0,
    "start_time": "2022-05-06T16:33:56.565Z"
   },
   {
    "duration": 0,
    "start_time": "2022-05-06T16:33:56.566Z"
   },
   {
    "duration": 0,
    "start_time": "2022-05-06T16:33:56.567Z"
   },
   {
    "duration": 0,
    "start_time": "2022-05-06T16:33:56.568Z"
   },
   {
    "duration": 0,
    "start_time": "2022-05-06T16:33:56.569Z"
   },
   {
    "duration": 0,
    "start_time": "2022-05-06T16:33:56.570Z"
   },
   {
    "duration": 0,
    "start_time": "2022-05-06T16:33:56.571Z"
   },
   {
    "duration": 0,
    "start_time": "2022-05-06T16:33:56.573Z"
   },
   {
    "duration": 0,
    "start_time": "2022-05-06T16:33:56.574Z"
   },
   {
    "duration": 0,
    "start_time": "2022-05-06T16:33:56.575Z"
   },
   {
    "duration": 0,
    "start_time": "2022-05-06T16:33:56.576Z"
   },
   {
    "duration": 0,
    "start_time": "2022-05-06T16:33:56.577Z"
   },
   {
    "duration": 0,
    "start_time": "2022-05-06T16:33:56.578Z"
   },
   {
    "duration": 0,
    "start_time": "2022-05-06T16:33:56.579Z"
   },
   {
    "duration": 0,
    "start_time": "2022-05-06T16:33:56.580Z"
   },
   {
    "duration": 0,
    "start_time": "2022-05-06T16:33:56.581Z"
   },
   {
    "duration": 50,
    "start_time": "2022-05-07T12:19:59.996Z"
   },
   {
    "duration": 7,
    "start_time": "2022-05-07T12:20:13.434Z"
   },
   {
    "duration": 395,
    "start_time": "2022-05-07T12:20:47.349Z"
   },
   {
    "duration": 173,
    "start_time": "2022-05-07T12:20:47.746Z"
   },
   {
    "duration": 19,
    "start_time": "2022-05-07T12:20:47.921Z"
   },
   {
    "duration": 10,
    "start_time": "2022-05-07T12:20:47.942Z"
   },
   {
    "duration": 32,
    "start_time": "2022-05-07T12:20:47.955Z"
   },
   {
    "duration": 4,
    "start_time": "2022-05-07T12:20:47.989Z"
   },
   {
    "duration": 4,
    "start_time": "2022-05-07T12:20:48.023Z"
   },
   {
    "duration": 7,
    "start_time": "2022-05-07T12:20:48.029Z"
   },
   {
    "duration": 31,
    "start_time": "2022-05-07T12:20:48.038Z"
   },
   {
    "duration": 3351,
    "start_time": "2022-05-07T12:20:48.072Z"
   },
   {
    "duration": 0,
    "start_time": "2022-05-07T12:20:51.428Z"
   },
   {
    "duration": 0,
    "start_time": "2022-05-07T12:20:51.429Z"
   },
   {
    "duration": 0,
    "start_time": "2022-05-07T12:20:51.431Z"
   },
   {
    "duration": 0,
    "start_time": "2022-05-07T12:20:51.431Z"
   },
   {
    "duration": 0,
    "start_time": "2022-05-07T12:20:51.433Z"
   },
   {
    "duration": 0,
    "start_time": "2022-05-07T12:20:51.434Z"
   },
   {
    "duration": 0,
    "start_time": "2022-05-07T12:20:51.435Z"
   },
   {
    "duration": 0,
    "start_time": "2022-05-07T12:20:51.436Z"
   },
   {
    "duration": 0,
    "start_time": "2022-05-07T12:20:51.437Z"
   },
   {
    "duration": 0,
    "start_time": "2022-05-07T12:20:51.438Z"
   },
   {
    "duration": 0,
    "start_time": "2022-05-07T12:20:51.439Z"
   },
   {
    "duration": 0,
    "start_time": "2022-05-07T12:20:51.440Z"
   },
   {
    "duration": 0,
    "start_time": "2022-05-07T12:20:51.441Z"
   },
   {
    "duration": 0,
    "start_time": "2022-05-07T12:20:51.442Z"
   },
   {
    "duration": 0,
    "start_time": "2022-05-07T12:20:51.443Z"
   },
   {
    "duration": 0,
    "start_time": "2022-05-07T12:20:51.444Z"
   },
   {
    "duration": 0,
    "start_time": "2022-05-07T12:20:51.445Z"
   },
   {
    "duration": 0,
    "start_time": "2022-05-07T12:20:51.446Z"
   },
   {
    "duration": 0,
    "start_time": "2022-05-07T12:20:51.447Z"
   },
   {
    "duration": 0,
    "start_time": "2022-05-07T12:20:51.448Z"
   },
   {
    "duration": 0,
    "start_time": "2022-05-07T12:20:51.450Z"
   },
   {
    "duration": 0,
    "start_time": "2022-05-07T12:20:51.451Z"
   },
   {
    "duration": 0,
    "start_time": "2022-05-07T12:20:51.451Z"
   },
   {
    "duration": 0,
    "start_time": "2022-05-07T12:20:51.453Z"
   },
   {
    "duration": 0,
    "start_time": "2022-05-07T12:20:51.453Z"
   },
   {
    "duration": 0,
    "start_time": "2022-05-07T12:20:51.454Z"
   },
   {
    "duration": 0,
    "start_time": "2022-05-07T12:20:51.455Z"
   },
   {
    "duration": 0,
    "start_time": "2022-05-07T12:20:51.456Z"
   },
   {
    "duration": 0,
    "start_time": "2022-05-07T12:20:51.457Z"
   },
   {
    "duration": 4,
    "start_time": "2022-05-07T12:20:58.512Z"
   },
   {
    "duration": 4,
    "start_time": "2022-05-07T12:21:05.611Z"
   },
   {
    "duration": 3137,
    "start_time": "2022-05-07T12:21:27.611Z"
   },
   {
    "duration": 3080,
    "start_time": "2022-05-07T12:21:44.203Z"
   },
   {
    "duration": 27,
    "start_time": "2022-05-07T12:21:54.411Z"
   },
   {
    "duration": 19,
    "start_time": "2022-05-07T12:22:39.821Z"
   },
   {
    "duration": 20,
    "start_time": "2022-05-07T12:22:46.661Z"
   },
   {
    "duration": 24,
    "start_time": "2022-05-07T12:22:52.411Z"
   },
   {
    "duration": 8,
    "start_time": "2022-05-07T12:24:26.246Z"
   },
   {
    "duration": 4,
    "start_time": "2022-05-07T12:25:17.051Z"
   },
   {
    "duration": 4,
    "start_time": "2022-05-07T12:25:30.039Z"
   },
   {
    "duration": 28,
    "start_time": "2022-05-07T12:25:39.001Z"
   },
   {
    "duration": 8,
    "start_time": "2022-05-07T12:29:50.006Z"
   },
   {
    "duration": 7,
    "start_time": "2022-05-07T12:31:02.213Z"
   },
   {
    "duration": 8,
    "start_time": "2022-05-07T12:31:11.210Z"
   },
   {
    "duration": 9,
    "start_time": "2022-05-07T12:32:47.489Z"
   },
   {
    "duration": 11,
    "start_time": "2022-05-07T12:34:15.936Z"
   },
   {
    "duration": 5,
    "start_time": "2022-05-07T12:38:52.058Z"
   },
   {
    "duration": 12,
    "start_time": "2022-05-07T12:38:55.381Z"
   },
   {
    "duration": 5,
    "start_time": "2022-05-07T12:40:36.680Z"
   },
   {
    "duration": 9,
    "start_time": "2022-05-07T12:40:41.900Z"
   },
   {
    "duration": 4,
    "start_time": "2022-05-07T12:45:11.991Z"
   },
   {
    "duration": 4,
    "start_time": "2022-05-07T12:45:20.362Z"
   },
   {
    "duration": 437,
    "start_time": "2022-05-07T12:46:24.831Z"
   },
   {
    "duration": 265,
    "start_time": "2022-05-07T12:46:25.271Z"
   },
   {
    "duration": 26,
    "start_time": "2022-05-07T12:46:25.539Z"
   },
   {
    "duration": 12,
    "start_time": "2022-05-07T12:46:25.568Z"
   },
   {
    "duration": 67,
    "start_time": "2022-05-07T12:46:25.582Z"
   },
   {
    "duration": 6,
    "start_time": "2022-05-07T12:46:25.651Z"
   },
   {
    "duration": 18,
    "start_time": "2022-05-07T12:46:25.659Z"
   },
   {
    "duration": 12,
    "start_time": "2022-05-07T12:46:25.680Z"
   },
   {
    "duration": 52,
    "start_time": "2022-05-07T12:46:25.694Z"
   },
   {
    "duration": 46,
    "start_time": "2022-05-07T12:46:25.750Z"
   },
   {
    "duration": 49,
    "start_time": "2022-05-07T12:46:25.798Z"
   },
   {
    "duration": 122,
    "start_time": "2022-05-07T12:46:25.849Z"
   },
   {
    "duration": 132,
    "start_time": "2022-05-07T12:46:25.973Z"
   },
   {
    "duration": 74,
    "start_time": "2022-05-07T12:46:26.107Z"
   },
   {
    "duration": 12,
    "start_time": "2022-05-07T12:46:26.183Z"
   },
   {
    "duration": 3,
    "start_time": "2022-05-07T12:46:26.196Z"
   },
   {
    "duration": 4,
    "start_time": "2022-05-07T12:46:26.222Z"
   },
   {
    "duration": 10,
    "start_time": "2022-05-07T12:46:26.228Z"
   },
   {
    "duration": 24,
    "start_time": "2022-05-07T12:46:26.240Z"
   },
   {
    "duration": 102,
    "start_time": "2022-05-07T12:46:26.266Z"
   },
   {
    "duration": 0,
    "start_time": "2022-05-07T12:46:26.371Z"
   },
   {
    "duration": 0,
    "start_time": "2022-05-07T12:46:26.372Z"
   },
   {
    "duration": 0,
    "start_time": "2022-05-07T12:46:26.374Z"
   },
   {
    "duration": 0,
    "start_time": "2022-05-07T12:46:26.375Z"
   },
   {
    "duration": 0,
    "start_time": "2022-05-07T12:46:26.377Z"
   },
   {
    "duration": 0,
    "start_time": "2022-05-07T12:46:26.378Z"
   },
   {
    "duration": 0,
    "start_time": "2022-05-07T12:46:26.380Z"
   },
   {
    "duration": 0,
    "start_time": "2022-05-07T12:46:26.381Z"
   },
   {
    "duration": 0,
    "start_time": "2022-05-07T12:46:26.382Z"
   },
   {
    "duration": 0,
    "start_time": "2022-05-07T12:46:26.384Z"
   },
   {
    "duration": 0,
    "start_time": "2022-05-07T12:46:26.386Z"
   },
   {
    "duration": 0,
    "start_time": "2022-05-07T12:46:26.388Z"
   },
   {
    "duration": 0,
    "start_time": "2022-05-07T12:46:26.389Z"
   },
   {
    "duration": 0,
    "start_time": "2022-05-07T12:46:26.390Z"
   },
   {
    "duration": 0,
    "start_time": "2022-05-07T12:46:26.391Z"
   },
   {
    "duration": 0,
    "start_time": "2022-05-07T12:46:26.392Z"
   },
   {
    "duration": 0,
    "start_time": "2022-05-07T12:46:26.393Z"
   },
   {
    "duration": 0,
    "start_time": "2022-05-07T12:46:26.423Z"
   },
   {
    "duration": 0,
    "start_time": "2022-05-07T12:46:26.425Z"
   },
   {
    "duration": 4,
    "start_time": "2022-05-07T12:46:34.260Z"
   },
   {
    "duration": 5,
    "start_time": "2022-05-07T12:46:43.691Z"
   },
   {
    "duration": 5,
    "start_time": "2022-05-07T12:47:22.501Z"
   },
   {
    "duration": 6,
    "start_time": "2022-05-07T12:47:43.020Z"
   },
   {
    "duration": 11,
    "start_time": "2022-05-07T12:48:01.402Z"
   },
   {
    "duration": 4,
    "start_time": "2022-05-07T12:50:35.488Z"
   },
   {
    "duration": 19,
    "start_time": "2022-05-07T12:50:37.330Z"
   },
   {
    "duration": 189,
    "start_time": "2022-05-07T12:50:51.478Z"
   },
   {
    "duration": 203,
    "start_time": "2022-05-07T12:50:59.740Z"
   },
   {
    "duration": 3,
    "start_time": "2022-05-07T12:56:56.422Z"
   },
   {
    "duration": 16,
    "start_time": "2022-05-07T12:56:58.331Z"
   },
   {
    "duration": 16,
    "start_time": "2022-05-07T12:57:18.309Z"
   },
   {
    "duration": 194,
    "start_time": "2022-05-07T12:58:13.001Z"
   },
   {
    "duration": 3,
    "start_time": "2022-05-07T12:58:17.322Z"
   },
   {
    "duration": 12,
    "start_time": "2022-05-07T12:58:20.421Z"
   },
   {
    "duration": 12,
    "start_time": "2022-05-07T12:59:14.180Z"
   },
   {
    "duration": 212,
    "start_time": "2022-05-07T12:59:31.465Z"
   },
   {
    "duration": 12,
    "start_time": "2022-05-07T12:59:37.200Z"
   },
   {
    "duration": 11,
    "start_time": "2022-05-07T12:59:56.783Z"
   },
   {
    "duration": 12,
    "start_time": "2022-05-07T13:00:17.735Z"
   },
   {
    "duration": 193,
    "start_time": "2022-05-07T13:00:37.533Z"
   },
   {
    "duration": 194,
    "start_time": "2022-05-07T13:00:48.420Z"
   },
   {
    "duration": 11,
    "start_time": "2022-05-07T13:00:57.193Z"
   },
   {
    "duration": 4,
    "start_time": "2022-05-07T13:11:33.950Z"
   },
   {
    "duration": 11,
    "start_time": "2022-05-07T13:12:20.682Z"
   },
   {
    "duration": 12,
    "start_time": "2022-05-07T13:12:29.319Z"
   },
   {
    "duration": 4,
    "start_time": "2022-05-07T13:12:46.353Z"
   },
   {
    "duration": 3,
    "start_time": "2022-05-07T13:12:55.221Z"
   },
   {
    "duration": 4,
    "start_time": "2022-05-07T13:12:56.752Z"
   },
   {
    "duration": 11,
    "start_time": "2022-05-07T13:13:05.120Z"
   },
   {
    "duration": 11,
    "start_time": "2022-05-07T13:13:14.983Z"
   },
   {
    "duration": 390,
    "start_time": "2022-05-07T13:13:20.957Z"
   },
   {
    "duration": 189,
    "start_time": "2022-05-07T13:13:21.349Z"
   },
   {
    "duration": 28,
    "start_time": "2022-05-07T13:13:21.540Z"
   },
   {
    "duration": 15,
    "start_time": "2022-05-07T13:13:21.570Z"
   },
   {
    "duration": 73,
    "start_time": "2022-05-07T13:13:21.588Z"
   },
   {
    "duration": 6,
    "start_time": "2022-05-07T13:13:21.663Z"
   },
   {
    "duration": 8,
    "start_time": "2022-05-07T13:13:21.670Z"
   },
   {
    "duration": 6,
    "start_time": "2022-05-07T13:13:21.680Z"
   },
   {
    "duration": 52,
    "start_time": "2022-05-07T13:13:21.688Z"
   },
   {
    "duration": 22,
    "start_time": "2022-05-07T13:13:21.742Z"
   },
   {
    "duration": 26,
    "start_time": "2022-05-07T13:13:21.765Z"
   },
   {
    "duration": 96,
    "start_time": "2022-05-07T13:13:21.793Z"
   },
   {
    "duration": 92,
    "start_time": "2022-05-07T13:13:21.890Z"
   },
   {
    "duration": 68,
    "start_time": "2022-05-07T13:13:21.986Z"
   },
   {
    "duration": 10,
    "start_time": "2022-05-07T13:13:22.056Z"
   },
   {
    "duration": 3,
    "start_time": "2022-05-07T13:13:22.068Z"
   },
   {
    "duration": 7,
    "start_time": "2022-05-07T13:13:22.073Z"
   },
   {
    "duration": 13,
    "start_time": "2022-05-07T13:13:22.082Z"
   },
   {
    "duration": 36,
    "start_time": "2022-05-07T13:13:22.096Z"
   },
   {
    "duration": 68,
    "start_time": "2022-05-07T13:13:22.134Z"
   },
   {
    "duration": 0,
    "start_time": "2022-05-07T13:13:22.204Z"
   },
   {
    "duration": 0,
    "start_time": "2022-05-07T13:13:22.205Z"
   },
   {
    "duration": 0,
    "start_time": "2022-05-07T13:13:22.205Z"
   },
   {
    "duration": 0,
    "start_time": "2022-05-07T13:13:22.206Z"
   },
   {
    "duration": 0,
    "start_time": "2022-05-07T13:13:22.224Z"
   },
   {
    "duration": 0,
    "start_time": "2022-05-07T13:13:22.225Z"
   },
   {
    "duration": 0,
    "start_time": "2022-05-07T13:13:22.226Z"
   },
   {
    "duration": 0,
    "start_time": "2022-05-07T13:13:22.227Z"
   },
   {
    "duration": 0,
    "start_time": "2022-05-07T13:13:22.227Z"
   },
   {
    "duration": 0,
    "start_time": "2022-05-07T13:13:22.229Z"
   },
   {
    "duration": 0,
    "start_time": "2022-05-07T13:13:22.230Z"
   },
   {
    "duration": 0,
    "start_time": "2022-05-07T13:13:22.231Z"
   },
   {
    "duration": 0,
    "start_time": "2022-05-07T13:13:22.232Z"
   },
   {
    "duration": 0,
    "start_time": "2022-05-07T13:13:22.233Z"
   },
   {
    "duration": 0,
    "start_time": "2022-05-07T13:13:22.234Z"
   },
   {
    "duration": 0,
    "start_time": "2022-05-07T13:13:22.236Z"
   },
   {
    "duration": 0,
    "start_time": "2022-05-07T13:13:22.237Z"
   },
   {
    "duration": 0,
    "start_time": "2022-05-07T13:13:22.238Z"
   },
   {
    "duration": 0,
    "start_time": "2022-05-07T13:13:22.239Z"
   },
   {
    "duration": 10,
    "start_time": "2022-05-07T13:13:51.786Z"
   },
   {
    "duration": 3,
    "start_time": "2022-05-07T13:14:11.215Z"
   },
   {
    "duration": 3,
    "start_time": "2022-05-07T13:14:19.838Z"
   },
   {
    "duration": 10,
    "start_time": "2022-05-07T13:14:22.657Z"
   },
   {
    "duration": 3,
    "start_time": "2022-05-07T13:22:52.668Z"
   },
   {
    "duration": 8,
    "start_time": "2022-05-07T13:22:54.658Z"
   },
   {
    "duration": 9,
    "start_time": "2022-05-07T13:23:17.746Z"
   },
   {
    "duration": 8,
    "start_time": "2022-05-07T13:23:49.115Z"
   },
   {
    "duration": 3,
    "start_time": "2022-05-07T13:24:05.198Z"
   },
   {
    "duration": 9,
    "start_time": "2022-05-07T13:24:09.294Z"
   },
   {
    "duration": 11,
    "start_time": "2022-05-07T13:24:21.747Z"
   },
   {
    "duration": 10,
    "start_time": "2022-05-07T13:24:29.686Z"
   },
   {
    "duration": 10,
    "start_time": "2022-05-07T13:24:39.017Z"
   },
   {
    "duration": 4,
    "start_time": "2022-05-07T13:25:04.237Z"
   },
   {
    "duration": 4,
    "start_time": "2022-05-07T13:25:08.229Z"
   },
   {
    "duration": 3,
    "start_time": "2022-05-07T13:25:09.656Z"
   },
   {
    "duration": 10,
    "start_time": "2022-05-07T13:25:12.477Z"
   },
   {
    "duration": 3,
    "start_time": "2022-05-07T13:27:05.377Z"
   },
   {
    "duration": 4,
    "start_time": "2022-05-07T13:33:58.470Z"
   },
   {
    "duration": 21,
    "start_time": "2022-05-07T13:34:22.472Z"
   },
   {
    "duration": 4,
    "start_time": "2022-05-07T13:37:05.641Z"
   },
   {
    "duration": 12,
    "start_time": "2022-05-07T13:37:07.720Z"
   },
   {
    "duration": 3,
    "start_time": "2022-05-07T13:38:06.853Z"
   },
   {
    "duration": 12,
    "start_time": "2022-05-07T13:38:08.422Z"
   },
   {
    "duration": 3,
    "start_time": "2022-05-07T13:38:12.744Z"
   },
   {
    "duration": 12,
    "start_time": "2022-05-07T13:38:14.436Z"
   },
   {
    "duration": 3,
    "start_time": "2022-05-07T13:38:27.653Z"
   },
   {
    "duration": 12,
    "start_time": "2022-05-07T13:38:29.133Z"
   },
   {
    "duration": 4,
    "start_time": "2022-05-07T13:38:37.762Z"
   },
   {
    "duration": 3,
    "start_time": "2022-05-07T13:38:56.235Z"
   },
   {
    "duration": 12,
    "start_time": "2022-05-07T13:38:58.111Z"
   },
   {
    "duration": 3,
    "start_time": "2022-05-07T13:40:59.202Z"
   },
   {
    "duration": 13,
    "start_time": "2022-05-07T13:41:00.943Z"
   },
   {
    "duration": 3,
    "start_time": "2022-05-07T13:41:18.203Z"
   },
   {
    "duration": 10,
    "start_time": "2022-05-07T13:41:19.753Z"
   },
   {
    "duration": 16,
    "start_time": "2022-05-07T13:41:36.545Z"
   },
   {
    "duration": 3,
    "start_time": "2022-05-07T13:41:40.840Z"
   },
   {
    "duration": 11,
    "start_time": "2022-05-07T13:41:43.103Z"
   },
   {
    "duration": 4,
    "start_time": "2022-05-07T13:44:34.723Z"
   },
   {
    "duration": 16,
    "start_time": "2022-05-07T13:44:36.447Z"
   },
   {
    "duration": 420,
    "start_time": "2022-05-07T13:45:25.525Z"
   },
   {
    "duration": 177,
    "start_time": "2022-05-07T13:45:25.947Z"
   },
   {
    "duration": 18,
    "start_time": "2022-05-07T13:45:26.126Z"
   },
   {
    "duration": 10,
    "start_time": "2022-05-07T13:45:26.145Z"
   },
   {
    "duration": 34,
    "start_time": "2022-05-07T13:45:26.157Z"
   },
   {
    "duration": 4,
    "start_time": "2022-05-07T13:45:26.193Z"
   },
   {
    "duration": 4,
    "start_time": "2022-05-07T13:45:26.223Z"
   },
   {
    "duration": 6,
    "start_time": "2022-05-07T13:45:26.229Z"
   },
   {
    "duration": 28,
    "start_time": "2022-05-07T13:45:26.237Z"
   },
   {
    "duration": 22,
    "start_time": "2022-05-07T13:45:26.266Z"
   },
   {
    "duration": 73,
    "start_time": "2022-05-07T13:45:26.290Z"
   },
   {
    "duration": 67,
    "start_time": "2022-05-07T13:45:26.365Z"
   },
   {
    "duration": 89,
    "start_time": "2022-05-07T13:45:26.434Z"
   },
   {
    "duration": 65,
    "start_time": "2022-05-07T13:45:26.528Z"
   },
   {
    "duration": 27,
    "start_time": "2022-05-07T13:45:26.595Z"
   },
   {
    "duration": 4,
    "start_time": "2022-05-07T13:45:26.624Z"
   },
   {
    "duration": 77,
    "start_time": "2022-05-07T13:45:26.629Z"
   },
   {
    "duration": 0,
    "start_time": "2022-05-07T13:45:26.708Z"
   },
   {
    "duration": 0,
    "start_time": "2022-05-07T13:45:26.709Z"
   },
   {
    "duration": 0,
    "start_time": "2022-05-07T13:45:26.723Z"
   },
   {
    "duration": 0,
    "start_time": "2022-05-07T13:45:26.724Z"
   },
   {
    "duration": 0,
    "start_time": "2022-05-07T13:45:26.725Z"
   },
   {
    "duration": 0,
    "start_time": "2022-05-07T13:45:26.726Z"
   },
   {
    "duration": 0,
    "start_time": "2022-05-07T13:45:26.727Z"
   },
   {
    "duration": 0,
    "start_time": "2022-05-07T13:45:26.728Z"
   },
   {
    "duration": 0,
    "start_time": "2022-05-07T13:45:26.729Z"
   },
   {
    "duration": 0,
    "start_time": "2022-05-07T13:45:26.731Z"
   },
   {
    "duration": 0,
    "start_time": "2022-05-07T13:45:26.732Z"
   },
   {
    "duration": 0,
    "start_time": "2022-05-07T13:45:26.733Z"
   },
   {
    "duration": 0,
    "start_time": "2022-05-07T13:45:26.735Z"
   },
   {
    "duration": 0,
    "start_time": "2022-05-07T13:45:26.736Z"
   },
   {
    "duration": 0,
    "start_time": "2022-05-07T13:45:26.737Z"
   },
   {
    "duration": 0,
    "start_time": "2022-05-07T13:45:26.738Z"
   },
   {
    "duration": 0,
    "start_time": "2022-05-07T13:45:26.739Z"
   },
   {
    "duration": 0,
    "start_time": "2022-05-07T13:45:26.740Z"
   },
   {
    "duration": 0,
    "start_time": "2022-05-07T13:45:26.741Z"
   },
   {
    "duration": 0,
    "start_time": "2022-05-07T13:45:26.741Z"
   },
   {
    "duration": 0,
    "start_time": "2022-05-07T13:45:26.743Z"
   },
   {
    "duration": 0,
    "start_time": "2022-05-07T13:45:26.744Z"
   },
   {
    "duration": 3,
    "start_time": "2022-05-07T13:45:38.505Z"
   },
   {
    "duration": 17,
    "start_time": "2022-05-07T13:45:40.166Z"
   },
   {
    "duration": 3,
    "start_time": "2022-05-07T13:46:42.476Z"
   },
   {
    "duration": 26,
    "start_time": "2022-05-07T13:46:44.465Z"
   },
   {
    "duration": 10,
    "start_time": "2022-05-07T13:46:48.446Z"
   },
   {
    "duration": 15,
    "start_time": "2022-05-07T13:48:09.805Z"
   },
   {
    "duration": 12,
    "start_time": "2022-05-07T13:48:12.626Z"
   },
   {
    "duration": 12,
    "start_time": "2022-05-07T13:48:18.894Z"
   },
   {
    "duration": 3,
    "start_time": "2022-05-07T13:48:30.973Z"
   },
   {
    "duration": 3,
    "start_time": "2022-05-07T13:48:34.126Z"
   },
   {
    "duration": 9,
    "start_time": "2022-05-07T13:48:43.977Z"
   },
   {
    "duration": 12,
    "start_time": "2022-05-07T13:48:49.212Z"
   },
   {
    "duration": 11,
    "start_time": "2022-05-07T13:48:51.304Z"
   },
   {
    "duration": 4,
    "start_time": "2022-05-07T13:48:53.634Z"
   },
   {
    "duration": 4,
    "start_time": "2022-05-07T13:49:05.086Z"
   },
   {
    "duration": 11,
    "start_time": "2022-05-07T13:49:29.075Z"
   },
   {
    "duration": 5,
    "start_time": "2022-05-07T13:49:32.134Z"
   },
   {
    "duration": 7,
    "start_time": "2022-05-07T13:49:38.461Z"
   },
   {
    "duration": 6,
    "start_time": "2022-05-07T13:49:41.057Z"
   },
   {
    "duration": 4,
    "start_time": "2022-05-07T13:52:38.155Z"
   },
   {
    "duration": 75,
    "start_time": "2022-05-07T13:52:39.965Z"
   },
   {
    "duration": 10,
    "start_time": "2022-05-07T13:52:57.756Z"
   },
   {
    "duration": 4,
    "start_time": "2022-05-07T13:53:36.513Z"
   },
   {
    "duration": 30,
    "start_time": "2022-05-07T13:53:38.445Z"
   },
   {
    "duration": 10,
    "start_time": "2022-05-07T13:53:46.065Z"
   },
   {
    "duration": 17,
    "start_time": "2022-05-07T13:54:35.625Z"
   },
   {
    "duration": 380,
    "start_time": "2022-05-08T00:04:02.188Z"
   },
   {
    "duration": 153,
    "start_time": "2022-05-08T00:04:02.569Z"
   },
   {
    "duration": 15,
    "start_time": "2022-05-08T00:04:02.724Z"
   },
   {
    "duration": 15,
    "start_time": "2022-05-08T00:04:02.741Z"
   },
   {
    "duration": 30,
    "start_time": "2022-05-08T00:04:02.758Z"
   },
   {
    "duration": 4,
    "start_time": "2022-05-08T00:04:02.789Z"
   },
   {
    "duration": 5,
    "start_time": "2022-05-08T00:04:02.794Z"
   },
   {
    "duration": 6,
    "start_time": "2022-05-08T00:04:02.800Z"
   },
   {
    "duration": 59,
    "start_time": "2022-05-08T00:04:02.807Z"
   },
   {
    "duration": 19,
    "start_time": "2022-05-08T00:04:02.868Z"
   },
   {
    "duration": 23,
    "start_time": "2022-05-08T00:04:02.889Z"
   },
   {
    "duration": 86,
    "start_time": "2022-05-08T00:04:02.914Z"
   },
   {
    "duration": 80,
    "start_time": "2022-05-08T00:04:03.002Z"
   },
   {
    "duration": 65,
    "start_time": "2022-05-08T00:04:03.086Z"
   },
   {
    "duration": 11,
    "start_time": "2022-05-08T00:04:03.153Z"
   },
   {
    "duration": 4,
    "start_time": "2022-05-08T00:04:03.166Z"
   },
   {
    "duration": 28,
    "start_time": "2022-05-08T00:04:03.172Z"
   },
   {
    "duration": 10,
    "start_time": "2022-05-08T00:04:03.202Z"
   },
   {
    "duration": 46,
    "start_time": "2022-05-08T00:04:03.214Z"
   },
   {
    "duration": 13,
    "start_time": "2022-05-08T00:04:03.261Z"
   },
   {
    "duration": 3,
    "start_time": "2022-05-08T00:04:03.276Z"
   },
   {
    "duration": 19,
    "start_time": "2022-05-08T00:04:03.281Z"
   },
   {
    "duration": 47,
    "start_time": "2022-05-08T00:04:03.302Z"
   },
   {
    "duration": 15,
    "start_time": "2022-05-08T00:04:03.351Z"
   },
   {
    "duration": 14,
    "start_time": "2022-05-08T00:04:03.368Z"
   },
   {
    "duration": 16,
    "start_time": "2022-05-08T00:04:03.384Z"
   },
   {
    "duration": 14,
    "start_time": "2022-05-08T00:04:03.401Z"
   },
   {
    "duration": 38,
    "start_time": "2022-05-08T00:04:03.417Z"
   },
   {
    "duration": 12,
    "start_time": "2022-05-08T00:04:03.456Z"
   },
   {
    "duration": 9,
    "start_time": "2022-05-08T00:04:03.470Z"
   },
   {
    "duration": 4,
    "start_time": "2022-05-08T00:04:03.481Z"
   },
   {
    "duration": 23,
    "start_time": "2022-05-08T00:04:03.486Z"
   },
   {
    "duration": 48,
    "start_time": "2022-05-08T00:04:03.511Z"
   },
   {
    "duration": 21,
    "start_time": "2022-05-08T00:04:03.560Z"
   },
   {
    "duration": 21,
    "start_time": "2022-05-08T00:04:03.582Z"
   },
   {
    "duration": 9,
    "start_time": "2022-05-08T00:04:03.605Z"
   },
   {
    "duration": 32,
    "start_time": "2022-05-08T00:04:03.616Z"
   },
   {
    "duration": 7,
    "start_time": "2022-05-08T00:04:03.650Z"
   },
   {
    "duration": 5,
    "start_time": "2022-05-08T00:04:03.659Z"
   },
   {
    "duration": 77,
    "start_time": "2022-05-09T10:09:34.088Z"
   },
   {
    "duration": 7,
    "start_time": "2022-05-09T10:10:13.860Z"
   },
   {
    "duration": 6,
    "start_time": "2022-05-09T10:10:16.559Z"
   },
   {
    "duration": 396,
    "start_time": "2022-05-09T10:10:23.500Z"
   },
   {
    "duration": 180,
    "start_time": "2022-05-09T10:10:23.898Z"
   },
   {
    "duration": 18,
    "start_time": "2022-05-09T10:10:24.079Z"
   },
   {
    "duration": 29,
    "start_time": "2022-05-09T10:10:24.098Z"
   },
   {
    "duration": 40,
    "start_time": "2022-05-09T10:10:24.130Z"
   },
   {
    "duration": 12,
    "start_time": "2022-05-09T10:10:24.172Z"
   },
   {
    "duration": 29,
    "start_time": "2022-05-09T10:10:24.186Z"
   },
   {
    "duration": 16,
    "start_time": "2022-05-09T10:10:24.218Z"
   },
   {
    "duration": 43,
    "start_time": "2022-05-09T10:10:24.235Z"
   },
   {
    "duration": 27,
    "start_time": "2022-05-09T10:10:24.279Z"
   },
   {
    "duration": 28,
    "start_time": "2022-05-09T10:10:24.307Z"
   },
   {
    "duration": 107,
    "start_time": "2022-05-09T10:10:24.337Z"
   },
   {
    "duration": 89,
    "start_time": "2022-05-09T10:10:24.455Z"
   },
   {
    "duration": 69,
    "start_time": "2022-05-09T10:10:24.557Z"
   },
   {
    "duration": 10,
    "start_time": "2022-05-09T10:10:24.627Z"
   },
   {
    "duration": 28,
    "start_time": "2022-05-09T10:10:24.654Z"
   },
   {
    "duration": 63,
    "start_time": "2022-05-09T10:10:24.684Z"
   },
   {
    "duration": 16,
    "start_time": "2022-05-09T10:10:24.750Z"
   },
   {
    "duration": 21,
    "start_time": "2022-05-09T10:10:24.768Z"
   },
   {
    "duration": 27,
    "start_time": "2022-05-09T10:10:24.791Z"
   },
   {
    "duration": 7,
    "start_time": "2022-05-09T10:10:24.820Z"
   },
   {
    "duration": 34,
    "start_time": "2022-05-09T10:10:24.829Z"
   },
   {
    "duration": 23,
    "start_time": "2022-05-09T10:10:24.864Z"
   },
   {
    "duration": 25,
    "start_time": "2022-05-09T10:10:24.888Z"
   },
   {
    "duration": 28,
    "start_time": "2022-05-09T10:10:24.914Z"
   },
   {
    "duration": 25,
    "start_time": "2022-05-09T10:10:24.943Z"
   },
   {
    "duration": 26,
    "start_time": "2022-05-09T10:10:24.970Z"
   },
   {
    "duration": 23,
    "start_time": "2022-05-09T10:10:24.998Z"
   },
   {
    "duration": 29,
    "start_time": "2022-05-09T10:10:25.023Z"
   },
   {
    "duration": 25,
    "start_time": "2022-05-09T10:10:25.054Z"
   },
   {
    "duration": 13,
    "start_time": "2022-05-09T10:10:25.081Z"
   },
   {
    "duration": 52,
    "start_time": "2022-05-09T10:10:25.096Z"
   },
   {
    "duration": 32,
    "start_time": "2022-05-09T10:10:25.150Z"
   },
   {
    "duration": 48,
    "start_time": "2022-05-09T10:10:25.184Z"
   },
   {
    "duration": 41,
    "start_time": "2022-05-09T10:10:25.235Z"
   },
   {
    "duration": 70,
    "start_time": "2022-05-09T10:10:25.278Z"
   },
   {
    "duration": 13,
    "start_time": "2022-05-09T10:10:25.350Z"
   },
   {
    "duration": 19,
    "start_time": "2022-05-09T10:10:25.365Z"
   },
   {
    "duration": 13,
    "start_time": "2022-05-09T10:10:25.386Z"
   },
   {
    "duration": 5,
    "start_time": "2022-05-09T10:10:35.026Z"
   },
   {
    "duration": 4,
    "start_time": "2022-05-09T10:10:40.297Z"
   },
   {
    "duration": 42,
    "start_time": "2022-05-09T10:12:38.630Z"
   },
   {
    "duration": 43,
    "start_time": "2022-05-09T10:16:53.761Z"
   },
   {
    "duration": 43,
    "start_time": "2022-05-09T10:17:02.579Z"
   },
   {
    "duration": 48,
    "start_time": "2022-05-09T10:17:43.989Z"
   },
   {
    "duration": 43,
    "start_time": "2022-05-09T10:17:53.308Z"
   },
   {
    "duration": 44,
    "start_time": "2022-05-09T10:19:37.227Z"
   },
   {
    "duration": 46,
    "start_time": "2022-05-09T10:20:03.599Z"
   },
   {
    "duration": 78,
    "start_time": "2022-05-09T10:29:05.901Z"
   },
   {
    "duration": 8,
    "start_time": "2022-05-09T10:29:18.941Z"
   },
   {
    "duration": 10,
    "start_time": "2022-05-09T10:29:28.733Z"
   },
   {
    "duration": 9,
    "start_time": "2022-05-09T10:33:34.551Z"
   },
   {
    "duration": 10,
    "start_time": "2022-05-09T10:33:47.722Z"
   },
   {
    "duration": 12,
    "start_time": "2022-05-09T10:34:24.200Z"
   },
   {
    "duration": 10,
    "start_time": "2022-05-09T10:34:31.350Z"
   },
   {
    "duration": 15,
    "start_time": "2022-05-09T10:35:06.300Z"
   },
   {
    "duration": 9,
    "start_time": "2022-05-09T10:35:22.368Z"
   },
   {
    "duration": 46,
    "start_time": "2022-05-09T10:36:01.703Z"
   },
   {
    "duration": 14,
    "start_time": "2022-05-09T10:36:10.651Z"
   },
   {
    "duration": 25,
    "start_time": "2022-05-09T10:36:29.421Z"
   },
   {
    "duration": 28,
    "start_time": "2022-05-09T10:36:43.450Z"
   },
   {
    "duration": 39,
    "start_time": "2022-05-09T10:36:49.587Z"
   },
   {
    "duration": 436,
    "start_time": "2022-05-09T22:59:09.186Z"
   },
   {
    "duration": 162,
    "start_time": "2022-05-09T22:59:09.624Z"
   },
   {
    "duration": 24,
    "start_time": "2022-05-09T22:59:09.788Z"
   },
   {
    "duration": 12,
    "start_time": "2022-05-09T22:59:09.815Z"
   },
   {
    "duration": 28,
    "start_time": "2022-05-09T22:59:09.830Z"
   },
   {
    "duration": 4,
    "start_time": "2022-05-09T22:59:09.860Z"
   },
   {
    "duration": 7,
    "start_time": "2022-05-09T22:59:09.866Z"
   },
   {
    "duration": 35,
    "start_time": "2022-05-09T22:59:09.875Z"
   },
   {
    "duration": 30,
    "start_time": "2022-05-09T22:59:09.912Z"
   },
   {
    "duration": 19,
    "start_time": "2022-05-09T22:59:09.943Z"
   },
   {
    "duration": 24,
    "start_time": "2022-05-09T22:59:09.963Z"
   },
   {
    "duration": 80,
    "start_time": "2022-05-09T22:59:09.989Z"
   },
   {
    "duration": 92,
    "start_time": "2022-05-09T22:59:10.070Z"
   },
   {
    "duration": 74,
    "start_time": "2022-05-09T22:59:10.166Z"
   },
   {
    "duration": 39,
    "start_time": "2022-05-09T22:59:10.241Z"
   },
   {
    "duration": 3,
    "start_time": "2022-05-09T22:59:10.282Z"
   },
   {
    "duration": 47,
    "start_time": "2022-05-09T22:59:10.287Z"
   },
   {
    "duration": 38,
    "start_time": "2022-05-09T22:59:10.336Z"
   },
   {
    "duration": 37,
    "start_time": "2022-05-09T22:59:10.375Z"
   },
   {
    "duration": 23,
    "start_time": "2022-05-09T22:59:10.414Z"
   },
   {
    "duration": 4,
    "start_time": "2022-05-09T22:59:10.438Z"
   },
   {
    "duration": 18,
    "start_time": "2022-05-09T22:59:10.443Z"
   },
   {
    "duration": 14,
    "start_time": "2022-05-09T22:59:10.462Z"
   },
   {
    "duration": 40,
    "start_time": "2022-05-09T22:59:10.477Z"
   },
   {
    "duration": 20,
    "start_time": "2022-05-09T22:59:10.519Z"
   },
   {
    "duration": 15,
    "start_time": "2022-05-09T22:59:10.540Z"
   },
   {
    "duration": 13,
    "start_time": "2022-05-09T22:59:10.557Z"
   },
   {
    "duration": 9,
    "start_time": "2022-05-09T22:59:10.571Z"
   },
   {
    "duration": 24,
    "start_time": "2022-05-09T22:59:10.605Z"
   },
   {
    "duration": 17,
    "start_time": "2022-05-09T22:59:10.631Z"
   },
   {
    "duration": 4,
    "start_time": "2022-05-09T22:59:10.649Z"
   },
   {
    "duration": 24,
    "start_time": "2022-05-09T22:59:10.654Z"
   },
   {
    "duration": 25,
    "start_time": "2022-05-09T22:59:10.704Z"
   },
   {
    "duration": 18,
    "start_time": "2022-05-09T22:59:10.731Z"
   },
   {
    "duration": 18,
    "start_time": "2022-05-09T22:59:10.751Z"
   },
   {
    "duration": 32,
    "start_time": "2022-05-09T22:59:10.771Z"
   },
   {
    "duration": 7,
    "start_time": "2022-05-09T22:59:10.809Z"
   },
   {
    "duration": 10,
    "start_time": "2022-05-09T22:59:10.819Z"
   },
   {
    "duration": 5,
    "start_time": "2022-05-09T22:59:10.831Z"
   }
  ],
  "colab": {
   "collapsed_sections": [
    "E0vqbgi9ay0H",
    "VUC88oWjTJw2"
   ],
   "name": "yandex_music_project.ipynb",
   "provenance": []
  },
  "kernelspec": {
   "display_name": "Python 3 (ipykernel)",
   "language": "python",
   "name": "python3"
  },
  "language_info": {
   "codemirror_mode": {
    "name": "ipython",
    "version": 3
   },
   "file_extension": ".py",
   "mimetype": "text/x-python",
   "name": "python",
   "nbconvert_exporter": "python",
   "pygments_lexer": "ipython3",
   "version": "3.9.5"
  },
  "toc": {
   "base_numbering": 1,
   "nav_menu": {},
   "number_sections": true,
   "sideBar": true,
   "skip_h1_title": true,
   "title_cell": "Table of Contents",
   "title_sidebar": "Contents",
   "toc_cell": false,
   "toc_position": {
    "height": "calc(100% - 180px)",
    "left": "10px",
    "top": "150px",
    "width": "217.398px"
   },
   "toc_section_display": true,
   "toc_window_display": true
  }
 },
 "nbformat": 4,
 "nbformat_minor": 1
}
